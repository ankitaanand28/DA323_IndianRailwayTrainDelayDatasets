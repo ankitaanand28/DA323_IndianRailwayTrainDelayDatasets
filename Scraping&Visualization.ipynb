{
 "cells": [
  {
   "cell_type": "markdown",
   "id": "7c0589b6-c350-4d69-8940-88085a190b62",
   "metadata": {},
   "source": [
    "# Scraping Code"
   ]
  },
  {
   "cell_type": "code",
   "execution_count": 5,
   "id": "439e54c7-8a63-4ee6-813f-884b4dbce78f",
   "metadata": {},
   "outputs": [
    {
     "name": "stdout",
     "output_type": "stream",
     "text": [
      "------------------\n",
      "station - DBRG\n",
      "station name - DIBRUGARH \n",
      "avg delay - 9\n",
      "percent 1 - 95.79\n",
      "percent 2 - 1.53\n",
      "percent 3 - 2.68\n",
      "percent 4  - 0.00\n",
      "----------------------------------------done---------------------------------------------------------\n",
      "------------------\n",
      "station - NTSK\n",
      "station name - NEW TINSUKIA JN \n",
      "avg delay - 12\n",
      "percent 1 - 81.99\n",
      "percent 2 - 15.33\n",
      "percent 3 - 2.68\n",
      "percent 4  - 0.00\n",
      "----------------------------------------done---------------------------------------------------------\n",
      "------------------\n",
      "station - DJG\n",
      "station name - DULIAJAN \n",
      "avg delay - 18\n",
      "percent 1 - 68.20\n",
      "percent 2 - 28.35\n",
      "percent 3 - 3.45\n",
      "percent 4  - 0.00\n",
      "----------------------------------------done---------------------------------------------------------\n",
      "------------------\n",
      "station - NHK\n",
      "station name - NAHARKATIYA \n",
      "avg delay - 30\n",
      "percent 1 - 32.57\n",
      "percent 2 - 62.84\n",
      "percent 3 - 4.60\n",
      "percent 4  - 0.00\n",
      "----------------------------------------done---------------------------------------------------------\n",
      "------------------\n",
      "station - NAM\n",
      "station name - NAMRUP \n",
      "avg delay - 19\n",
      "percent 1 - 63.98\n",
      "percent 2 - 32.18\n",
      "percent 3 - 3.83\n",
      "percent 4  - 0.00\n",
      "----------------------------------------done---------------------------------------------------------\n",
      "------------------\n",
      "station - BOJ\n",
      "station name - BHOJO \n",
      "avg delay - 29\n",
      "percent 1 - 31.42\n",
      "percent 2 - 63.98\n",
      "percent 3 - 4.60\n",
      "percent 4  - 0.00\n",
      "----------------------------------------done---------------------------------------------------------\n",
      "------------------\n",
      "station - SLGR\n",
      "station name - SIMALUGURI JN \n",
      "avg delay - 34\n",
      "percent 1 - 24.52\n",
      "percent 2 - 69.35\n",
      "percent 3 - 6.13\n",
      "percent 4  - 0.00\n",
      "----------------------------------------done---------------------------------------------------------\n",
      "------------------\n",
      "station - AGI\n",
      "station name - AMGURI \n",
      "avg delay - 26\n",
      "percent 1 - 44.44\n",
      "percent 2 - 49.43\n",
      "percent 3 - 6.13\n",
      "percent 4  - 0.00\n",
      "----------------------------------------done---------------------------------------------------------\n",
      "------------------\n",
      "station - MXN\n",
      "station name - MARIANI JN \n",
      "avg delay - 33\n",
      "percent 1 - 36.40\n",
      "percent 2 - 54.02\n",
      "percent 3 - 9.58\n",
      "percent 4  - 0.00\n",
      "----------------------------------------done---------------------------------------------------------\n",
      "------------------\n",
      "station - FKG\n",
      "station name - FURKATING JN \n",
      "avg delay - 12\n",
      "percent 1 - 86.59\n",
      "percent 2 - 6.13\n",
      "percent 3 - 7.28\n",
      "percent 4  - 0.00\n",
      "----------------------------------------done---------------------------------------------------------\n",
      "------------------\n",
      "station - BXP\n",
      "station name - BARPATHAR \n",
      "avg delay - 26\n",
      "percent 1 - 55.56\n",
      "percent 2 - 36.02\n",
      "percent 3 - 8.43\n",
      "percent 4  - 0.00\n",
      "----------------------------------------done---------------------------------------------------------\n",
      "------------------\n",
      "station - SZR\n",
      "station name - SARUPATHAR \n"
     ]
    },
    {
     "ename": "KeyboardInterrupt",
     "evalue": "",
     "output_type": "error",
     "traceback": [
      "\u001b[1;31m---------------------------------------------------------------------------\u001b[0m",
      "\u001b[1;31mKeyboardInterrupt\u001b[0m                         Traceback (most recent call last)",
      "Cell \u001b[1;32mIn[5], line 100\u001b[0m\n\u001b[0;32m     98\u001b[0m time\u001b[38;5;241m.\u001b[39msleep(\u001b[38;5;241m1\u001b[39m)\n\u001b[0;32m     99\u001b[0m element_to_expand\u001b[38;5;241m.\u001b[39mclick()\n\u001b[1;32m--> 100\u001b[0m time\u001b[38;5;241m.\u001b[39msleep(\u001b[38;5;241m2\u001b[39m)\n\u001b[0;32m    102\u001b[0m \u001b[38;5;66;03m# Extracting useful data\u001b[39;00m\n\u001b[0;32m    104\u001b[0m delay\u001b[38;5;241m=\u001b[39mdriver\u001b[38;5;241m.\u001b[39mfind_element(By\u001b[38;5;241m.\u001b[39mXPATH,\u001b[38;5;124m\"\u001b[39m\u001b[38;5;124m/html/body/div[3]/div/div/div[2]\u001b[39m\u001b[38;5;124m\"\u001b[39m)\n",
      "\u001b[1;31mKeyboardInterrupt\u001b[0m: "
     ]
    }
   ],
   "source": [
    "# Importing necessary libraries\n",
    "from selenium.webdriver.common.by import By\n",
    "from selenium.webdriver.support.ui import WebDriverWait\n",
    "from selenium.webdriver.support import expected_conditions as EC\n",
    "from selenium import webdriver\n",
    "from selenium.webdriver.chrome.service import Service\n",
    "from selenium.webdriver.common.action_chains import ActionChains\n",
    "import time\n",
    "from selenium.common.exceptions import NoSuchElementException\n",
    "import pandas as pd\n",
    "\n",
    "# Setting up Chrome options and initializing the driver\n",
    "options = webdriver.ChromeOptions()\n",
    "options.add_argument('log-level=3')\n",
    "options.add_argument('--ignore-certificate-errors-spki-list')\n",
    "options.add_argument('--ignore-ssl-errors')\n",
    "options.add_argument('--disable-gpu')\n",
    "s = Service('C:\\Program Files (x86)\\chromedriver.exe')\n",
    "driver = webdriver.Chrome(service=s, options=options)\n",
    "driver.maximize_window()\n",
    "\n",
    "# Function to check if webpage is completely loaded\n",
    "def webpagecompleteloaded(driver):\n",
    "    return driver.execute_script(\"return document.readyState\") == \"complete\"\n",
    "\n",
    "# Function to check if element exists by XPath\n",
    "def check_exists_by_xpath(xpath):\n",
    "    try:\n",
    "        driver.find_element(By.XPATH, xpath)\n",
    "    except NoSuchElementException:\n",
    "        return False\n",
    "    return True\n",
    "\n",
    "# List of CSV file names and corresponding links to scrape\n",
    "csv_name_list=[\"15960.csv\",\"12346.csv\",\"05639.csv\",\"13182.csv\",\"02502.csv\",\"02518.csv\",\"12509.csv\",\"12515.csv\",\"12507.csv\",\"22501.csv\",\"12503.csv\",\"22512.csv\"]\n",
    "link_list=[\"https://etrain.info/train/Kamrup-Express-15960/history?d=1y\",\"https://etrain.info/train/Saraighat-Exp-12346/history?d=1y\",\n",
    "           \"https://etrain.info/train/Scl-Koaa-Special-05639/history?d=1y\",\"https://etrain.info/train/Kaziranga-Exp-13182/history?d=1y\",\n",
    "           \"https://etrain.info/train/Agtl-Koaa-Spl-02502/history?d=1y\",\"https://etrain.info/train/Ghy-Koaa-Special-02518/history?d=1y\",\n",
    "           \"https://etrain.info/train/Guwahati-Exp-12509/history?d=1y\",\"https://etrain.info/train/Cbe-Scl-Exp-12515/history?d=1y\",\n",
    "           \"https://etrain.info/train/Aronai-Express-12507/history?d=1y\",\"https://etrain.info/train/New-Tinsukia-Exp-22501/history?d=1y\",\n",
    "           \"https://etrain.info/train/Agtl-Humsafar-12503/history?d=1y\",\"https://etrain.info/train/Karmabhoomi-Exp-22512/history?d=1y\"]\n",
    "\n",
    "# Loop through each link and scrape data\n",
    "for i in range(len(csv_name_list)):\n",
    "    driver.get(link_list[i]) \n",
    "\n",
    "    # Wait until the page is completely loaded\n",
    "    while not webpagecompleteloaded(driver):\n",
    "        time.sleep(4)\n",
    "        print(\"Waiting for page to load\")\n",
    "\n",
    "    # Wait for the element to be present on the page\n",
    "    element_np = WebDriverWait(driver, 10).until(\n",
    "        EC.presence_of_element_located((By.XPATH, '/html/body/div[1]/div[2]/div[2]/div[3]/div[1]/div[2]/table/tbody/tr[4]/td/a[2]/div[1]'))\n",
    "    )\n",
    "\n",
    "    # Initialize empty lists to store data\n",
    "    Station = []\n",
    "    Station_Name = []\n",
    "    Average_Delay = []\n",
    "    Right_Time = []\n",
    "    Slight_Delay=[]\n",
    "    Significant_Delay = []\n",
    "    Cancelled = []\n",
    "\n",
    "    # Function to check if an element is visible\n",
    "    def is_element_visible(element):\n",
    "        return element.is_displayed()\n",
    "\n",
    "    # Function to scroll to the bottom of the page\n",
    "    def scroll_to_bottom():\n",
    "        driver.execute_script(\"window.scrollTo(0, document.body.scrollHeight);\")\n",
    "\n",
    "    # Find the first element to expand\n",
    "    element_index = 1\n",
    "\n",
    "    # Loop until there are no more elements to expand\n",
    "    while True:\n",
    "        try:\n",
    "            # Expand the current element\n",
    "            element_xpath = f'/html/body/div[1]/div[2]/div[2]/div[3]/div[1]/div[2]/table/tbody/tr[4]/td/a[{element_index}]/div[1]'\n",
    "            element_to_expand = driver.find_element(By.XPATH, element_xpath)\n",
    "            # Create an instance of ActionChains\n",
    "            actions = ActionChains(driver)\n",
    "            time.sleep(1)\n",
    "            # actions on the expanded element \n",
    "            text=driver.find_element(By.XPATH,\"/html/body/div[1]/div[2]/div[2]/div[3]/div[1]/div[2]/table/tbody/tr[4]/td/a[\"+str(element_index)+\"]/div[1]\")\n",
    "            print(\"------------------\")\n",
    "            lis=text.text.split(\"(\")\n",
    "\n",
    "            Station.append(lis[-1].split(\")\")[0])\n",
    "            Station_Name.append(lis[0])\n",
    "\n",
    "            print(\"station - \" + str(lis[-1].split(\")\")[0]))\n",
    "            print(\"station name - \" +str(lis[0]))\n",
    "\n",
    "            # Expanding the element\n",
    "            time.sleep(1)\n",
    "            element_to_expand.click()\n",
    "            time.sleep(2)\n",
    "\n",
    "            # Extracting useful data\n",
    "\n",
    "            delay=driver.find_element(By.XPATH,\"/html/body/div[3]/div/div/div[2]\")\n",
    "\n",
    "            avg_delay=delay.text.split()[3].split(\":\")[-1]\n",
    "\n",
    "            Average_Delay.append(avg_delay)\n",
    "\n",
    "            print(\"avg delay - \"+str(avg_delay))\n",
    "\n",
    "            percent1=driver.find_element(By.XPATH,\"/html/body/div[3]/div/div/table/tbody/tr[1]/td[2]\")\n",
    "            percent2=driver.find_element(By.XPATH,\"/html/body/div[3]/div/div/table/tbody/tr[2]/td[2]\")\n",
    "            percent3=driver.find_element(By.XPATH,\"/html/body/div[3]/div/div/table/tbody/tr[3]/td[2]\")\n",
    "            percent4=driver.find_element(By.XPATH,\"/html/body/div[3]/div/div/table/tbody/tr[4]/td[2]\")\n",
    "\n",
    "            Right_Time.append(percent1.text.split(\"%\")[0])\n",
    "            Slight_Delay.append(percent2.text.split(\"%\")[0])\n",
    "            Significant_Delay.append(percent3.text.split(\"%\")[0])\n",
    "            Cancelled.append(percent4.text.split(\"%\")[0])\n",
    "\n",
    "            print(\"percent 1 - \"+str(percent1.text.split(\"%\")[0]))\n",
    "            print(\"percent 2 - \"+str(percent2.text.split(\"%\")[0]))\n",
    "            print(\"percent 3 - \"+str(percent3.text.split(\"%\")[0]))\n",
    "            print(\"percent 4  - \"+str(percent4.text.split(\"%\")[0]))\n",
    "\n",
    "            print(\"----------------------------------------done---------------------------------------------------------\")\n",
    "\n",
    "            # Scroll down to load more elements if necessary\n",
    "            scroll_to_bottom()\n",
    "            \n",
    "            # Increment the index to find the next element\n",
    "            element_index += 1\n",
    "            element_xpath = f'/html/body/div[3]/div/a/i'\n",
    "            element_to_expand = driver.find_element(By.XPATH, element_xpath)\n",
    "\n",
    "            # Collapse the expanded element\n",
    "            actions.move_to_element(element_to_expand).click().perform()\n",
    "        except NoSuchElementException:\n",
    "            # If NoSuchElementException occurs, it means there are no more elements to expand\n",
    "            break\n",
    "        \n",
    "    # loading the extracted data into csv through pandas dataframe. \n",
    "    train_df = pd.DataFrame(list(zip(Station,Station_Name,Average_Delay,Right_Time,Slight_Delay,Significant_Delay,Cancelled)),columns=[\"Station\",\"Station_Name\",\"Average_Delay(min)\",\"Right Time (0-15 min's)\",\"Slight Delay (15-60 min's)\",\"Significant Delay (>1 Hour)\",\"Cancelled/Unknown\"])\n",
    "    train_df.to_csv(csv_name_list[i], index=False)\n"
   ]
  },
  {
   "cell_type": "markdown",
   "id": "ef0922b9-ccdd-4379-b7d9-9c3f528d3bf4",
   "metadata": {},
   "source": [
    "## Visualization"
   ]
  },
  {
   "cell_type": "code",
   "execution_count": 34,
   "id": "d33b8196-6e68-4a04-aa5b-5d75d66012e6",
   "metadata": {},
   "outputs": [],
   "source": [
    "import numpy as np\n",
    "import pandas as pd\n",
    "import matplotlib.pyplot as plt\n",
    "import plotly\n",
    "import plotly.express as px\n",
    "import plotly.graph_objects as go\n",
    "import warnings\n",
    "# Suppress all warnings\n",
    "warnings.filterwarnings(\"ignore\")\n"
   ]
  },
  {
   "cell_type": "code",
   "execution_count": 22,
   "id": "019c7ba1-dcb9-4324-b721-8b9415212fa7",
   "metadata": {},
   "outputs": [
    {
     "data": {
      "application/vnd.plotly.v1+json": {
       "config": {
        "plotlyServerURL": "https://plot.ly"
       },
       "data": [
        {
         "alignmentgroup": "True",
         "hovertemplate": "color=Superfast<br>Train Type=%{x}<br>Count=%{y}<extra></extra>",
         "legendgroup": "Superfast",
         "marker": {
          "color": "#636efa",
          "pattern": {
           "shape": ""
          }
         },
         "name": "Superfast",
         "offsetgroup": "Superfast",
         "orientation": "v",
         "showlegend": true,
         "textposition": "auto",
         "type": "bar",
         "x": [
          "Superfast"
         ],
         "xaxis": "x",
         "y": [
          19
         ],
         "yaxis": "y"
        },
        {
         "alignmentgroup": "True",
         "hovertemplate": "color=Mail/Express<br>Train Type=%{x}<br>Count=%{y}<extra></extra>",
         "legendgroup": "Mail/Express",
         "marker": {
          "color": "#EF553B",
          "pattern": {
           "shape": ""
          }
         },
         "name": "Mail/Express",
         "offsetgroup": "Mail/Express",
         "orientation": "v",
         "showlegend": true,
         "textposition": "auto",
         "type": "bar",
         "x": [
          "Mail/Express"
         ],
         "xaxis": "x",
         "y": [
          16
         ],
         "yaxis": "y"
        },
        {
         "alignmentgroup": "True",
         "hovertemplate": "color=Rajdhani<br>Train Type=%{x}<br>Count=%{y}<extra></extra>",
         "legendgroup": "Rajdhani",
         "marker": {
          "color": "#00cc96",
          "pattern": {
           "shape": ""
          }
         },
         "name": "Rajdhani",
         "offsetgroup": "Rajdhani",
         "orientation": "v",
         "showlegend": true,
         "textposition": "auto",
         "type": "bar",
         "x": [
          "Rajdhani"
         ],
         "xaxis": "x",
         "y": [
          4
         ],
         "yaxis": "y"
        },
        {
         "alignmentgroup": "True",
         "hovertemplate": "color=Humsafar<br>Train Type=%{x}<br>Count=%{y}<extra></extra>",
         "legendgroup": "Humsafar",
         "marker": {
          "color": "#ab63fa",
          "pattern": {
           "shape": ""
          }
         },
         "name": "Humsafar",
         "offsetgroup": "Humsafar",
         "orientation": "v",
         "showlegend": true,
         "textposition": "auto",
         "type": "bar",
         "x": [
          "Humsafar"
         ],
         "xaxis": "x",
         "y": [
          2
         ],
         "yaxis": "y"
        },
        {
         "alignmentgroup": "True",
         "hovertemplate": "color=Tejas<br>Train Type=%{x}<br>Count=%{y}<extra></extra>",
         "legendgroup": "Tejas",
         "marker": {
          "color": "#FFA15A",
          "pattern": {
           "shape": ""
          }
         },
         "name": "Tejas",
         "offsetgroup": "Tejas",
         "orientation": "v",
         "showlegend": true,
         "textposition": "auto",
         "type": "bar",
         "x": [
          "Tejas"
         ],
         "xaxis": "x",
         "y": [
          1
         ],
         "yaxis": "y"
        }
       ],
       "layout": {
        "autosize": true,
        "barmode": "relative",
        "legend": {
         "title": {
          "text": "color"
         },
         "tracegroupgap": 0
        },
        "template": {
         "data": {
          "bar": [
           {
            "error_x": {
             "color": "#2a3f5f"
            },
            "error_y": {
             "color": "#2a3f5f"
            },
            "marker": {
             "line": {
              "color": "#E5ECF6",
              "width": 0.5
             },
             "pattern": {
              "fillmode": "overlay",
              "size": 10,
              "solidity": 0.2
             }
            },
            "type": "bar"
           }
          ],
          "barpolar": [
           {
            "marker": {
             "line": {
              "color": "#E5ECF6",
              "width": 0.5
             },
             "pattern": {
              "fillmode": "overlay",
              "size": 10,
              "solidity": 0.2
             }
            },
            "type": "barpolar"
           }
          ],
          "carpet": [
           {
            "aaxis": {
             "endlinecolor": "#2a3f5f",
             "gridcolor": "white",
             "linecolor": "white",
             "minorgridcolor": "white",
             "startlinecolor": "#2a3f5f"
            },
            "baxis": {
             "endlinecolor": "#2a3f5f",
             "gridcolor": "white",
             "linecolor": "white",
             "minorgridcolor": "white",
             "startlinecolor": "#2a3f5f"
            },
            "type": "carpet"
           }
          ],
          "choropleth": [
           {
            "colorbar": {
             "outlinewidth": 0,
             "ticks": ""
            },
            "type": "choropleth"
           }
          ],
          "contour": [
           {
            "colorbar": {
             "outlinewidth": 0,
             "ticks": ""
            },
            "colorscale": [
             [
              0,
              "#0d0887"
             ],
             [
              0.1111111111111111,
              "#46039f"
             ],
             [
              0.2222222222222222,
              "#7201a8"
             ],
             [
              0.3333333333333333,
              "#9c179e"
             ],
             [
              0.4444444444444444,
              "#bd3786"
             ],
             [
              0.5555555555555556,
              "#d8576b"
             ],
             [
              0.6666666666666666,
              "#ed7953"
             ],
             [
              0.7777777777777778,
              "#fb9f3a"
             ],
             [
              0.8888888888888888,
              "#fdca26"
             ],
             [
              1,
              "#f0f921"
             ]
            ],
            "type": "contour"
           }
          ],
          "contourcarpet": [
           {
            "colorbar": {
             "outlinewidth": 0,
             "ticks": ""
            },
            "type": "contourcarpet"
           }
          ],
          "heatmap": [
           {
            "colorbar": {
             "outlinewidth": 0,
             "ticks": ""
            },
            "colorscale": [
             [
              0,
              "#0d0887"
             ],
             [
              0.1111111111111111,
              "#46039f"
             ],
             [
              0.2222222222222222,
              "#7201a8"
             ],
             [
              0.3333333333333333,
              "#9c179e"
             ],
             [
              0.4444444444444444,
              "#bd3786"
             ],
             [
              0.5555555555555556,
              "#d8576b"
             ],
             [
              0.6666666666666666,
              "#ed7953"
             ],
             [
              0.7777777777777778,
              "#fb9f3a"
             ],
             [
              0.8888888888888888,
              "#fdca26"
             ],
             [
              1,
              "#f0f921"
             ]
            ],
            "type": "heatmap"
           }
          ],
          "heatmapgl": [
           {
            "colorbar": {
             "outlinewidth": 0,
             "ticks": ""
            },
            "colorscale": [
             [
              0,
              "#0d0887"
             ],
             [
              0.1111111111111111,
              "#46039f"
             ],
             [
              0.2222222222222222,
              "#7201a8"
             ],
             [
              0.3333333333333333,
              "#9c179e"
             ],
             [
              0.4444444444444444,
              "#bd3786"
             ],
             [
              0.5555555555555556,
              "#d8576b"
             ],
             [
              0.6666666666666666,
              "#ed7953"
             ],
             [
              0.7777777777777778,
              "#fb9f3a"
             ],
             [
              0.8888888888888888,
              "#fdca26"
             ],
             [
              1,
              "#f0f921"
             ]
            ],
            "type": "heatmapgl"
           }
          ],
          "histogram": [
           {
            "marker": {
             "pattern": {
              "fillmode": "overlay",
              "size": 10,
              "solidity": 0.2
             }
            },
            "type": "histogram"
           }
          ],
          "histogram2d": [
           {
            "colorbar": {
             "outlinewidth": 0,
             "ticks": ""
            },
            "colorscale": [
             [
              0,
              "#0d0887"
             ],
             [
              0.1111111111111111,
              "#46039f"
             ],
             [
              0.2222222222222222,
              "#7201a8"
             ],
             [
              0.3333333333333333,
              "#9c179e"
             ],
             [
              0.4444444444444444,
              "#bd3786"
             ],
             [
              0.5555555555555556,
              "#d8576b"
             ],
             [
              0.6666666666666666,
              "#ed7953"
             ],
             [
              0.7777777777777778,
              "#fb9f3a"
             ],
             [
              0.8888888888888888,
              "#fdca26"
             ],
             [
              1,
              "#f0f921"
             ]
            ],
            "type": "histogram2d"
           }
          ],
          "histogram2dcontour": [
           {
            "colorbar": {
             "outlinewidth": 0,
             "ticks": ""
            },
            "colorscale": [
             [
              0,
              "#0d0887"
             ],
             [
              0.1111111111111111,
              "#46039f"
             ],
             [
              0.2222222222222222,
              "#7201a8"
             ],
             [
              0.3333333333333333,
              "#9c179e"
             ],
             [
              0.4444444444444444,
              "#bd3786"
             ],
             [
              0.5555555555555556,
              "#d8576b"
             ],
             [
              0.6666666666666666,
              "#ed7953"
             ],
             [
              0.7777777777777778,
              "#fb9f3a"
             ],
             [
              0.8888888888888888,
              "#fdca26"
             ],
             [
              1,
              "#f0f921"
             ]
            ],
            "type": "histogram2dcontour"
           }
          ],
          "mesh3d": [
           {
            "colorbar": {
             "outlinewidth": 0,
             "ticks": ""
            },
            "type": "mesh3d"
           }
          ],
          "parcoords": [
           {
            "line": {
             "colorbar": {
              "outlinewidth": 0,
              "ticks": ""
             }
            },
            "type": "parcoords"
           }
          ],
          "pie": [
           {
            "automargin": true,
            "type": "pie"
           }
          ],
          "scatter": [
           {
            "fillpattern": {
             "fillmode": "overlay",
             "size": 10,
             "solidity": 0.2
            },
            "type": "scatter"
           }
          ],
          "scatter3d": [
           {
            "line": {
             "colorbar": {
              "outlinewidth": 0,
              "ticks": ""
             }
            },
            "marker": {
             "colorbar": {
              "outlinewidth": 0,
              "ticks": ""
             }
            },
            "type": "scatter3d"
           }
          ],
          "scattercarpet": [
           {
            "marker": {
             "colorbar": {
              "outlinewidth": 0,
              "ticks": ""
             }
            },
            "type": "scattercarpet"
           }
          ],
          "scattergeo": [
           {
            "marker": {
             "colorbar": {
              "outlinewidth": 0,
              "ticks": ""
             }
            },
            "type": "scattergeo"
           }
          ],
          "scattergl": [
           {
            "marker": {
             "colorbar": {
              "outlinewidth": 0,
              "ticks": ""
             }
            },
            "type": "scattergl"
           }
          ],
          "scattermapbox": [
           {
            "marker": {
             "colorbar": {
              "outlinewidth": 0,
              "ticks": ""
             }
            },
            "type": "scattermapbox"
           }
          ],
          "scatterpolar": [
           {
            "marker": {
             "colorbar": {
              "outlinewidth": 0,
              "ticks": ""
             }
            },
            "type": "scatterpolar"
           }
          ],
          "scatterpolargl": [
           {
            "marker": {
             "colorbar": {
              "outlinewidth": 0,
              "ticks": ""
             }
            },
            "type": "scatterpolargl"
           }
          ],
          "scatterternary": [
           {
            "marker": {
             "colorbar": {
              "outlinewidth": 0,
              "ticks": ""
             }
            },
            "type": "scatterternary"
           }
          ],
          "surface": [
           {
            "colorbar": {
             "outlinewidth": 0,
             "ticks": ""
            },
            "colorscale": [
             [
              0,
              "#0d0887"
             ],
             [
              0.1111111111111111,
              "#46039f"
             ],
             [
              0.2222222222222222,
              "#7201a8"
             ],
             [
              0.3333333333333333,
              "#9c179e"
             ],
             [
              0.4444444444444444,
              "#bd3786"
             ],
             [
              0.5555555555555556,
              "#d8576b"
             ],
             [
              0.6666666666666666,
              "#ed7953"
             ],
             [
              0.7777777777777778,
              "#fb9f3a"
             ],
             [
              0.8888888888888888,
              "#fdca26"
             ],
             [
              1,
              "#f0f921"
             ]
            ],
            "type": "surface"
           }
          ],
          "table": [
           {
            "cells": {
             "fill": {
              "color": "#EBF0F8"
             },
             "line": {
              "color": "white"
             }
            },
            "header": {
             "fill": {
              "color": "#C8D4E3"
             },
             "line": {
              "color": "white"
             }
            },
            "type": "table"
           }
          ]
         },
         "layout": {
          "annotationdefaults": {
           "arrowcolor": "#2a3f5f",
           "arrowhead": 0,
           "arrowwidth": 1
          },
          "autotypenumbers": "strict",
          "coloraxis": {
           "colorbar": {
            "outlinewidth": 0,
            "ticks": ""
           }
          },
          "colorscale": {
           "diverging": [
            [
             0,
             "#8e0152"
            ],
            [
             0.1,
             "#c51b7d"
            ],
            [
             0.2,
             "#de77ae"
            ],
            [
             0.3,
             "#f1b6da"
            ],
            [
             0.4,
             "#fde0ef"
            ],
            [
             0.5,
             "#f7f7f7"
            ],
            [
             0.6,
             "#e6f5d0"
            ],
            [
             0.7,
             "#b8e186"
            ],
            [
             0.8,
             "#7fbc41"
            ],
            [
             0.9,
             "#4d9221"
            ],
            [
             1,
             "#276419"
            ]
           ],
           "sequential": [
            [
             0,
             "#0d0887"
            ],
            [
             0.1111111111111111,
             "#46039f"
            ],
            [
             0.2222222222222222,
             "#7201a8"
            ],
            [
             0.3333333333333333,
             "#9c179e"
            ],
            [
             0.4444444444444444,
             "#bd3786"
            ],
            [
             0.5555555555555556,
             "#d8576b"
            ],
            [
             0.6666666666666666,
             "#ed7953"
            ],
            [
             0.7777777777777778,
             "#fb9f3a"
            ],
            [
             0.8888888888888888,
             "#fdca26"
            ],
            [
             1,
             "#f0f921"
            ]
           ],
           "sequentialminus": [
            [
             0,
             "#0d0887"
            ],
            [
             0.1111111111111111,
             "#46039f"
            ],
            [
             0.2222222222222222,
             "#7201a8"
            ],
            [
             0.3333333333333333,
             "#9c179e"
            ],
            [
             0.4444444444444444,
             "#bd3786"
            ],
            [
             0.5555555555555556,
             "#d8576b"
            ],
            [
             0.6666666666666666,
             "#ed7953"
            ],
            [
             0.7777777777777778,
             "#fb9f3a"
            ],
            [
             0.8888888888888888,
             "#fdca26"
            ],
            [
             1,
             "#f0f921"
            ]
           ]
          },
          "colorway": [
           "#636efa",
           "#EF553B",
           "#00cc96",
           "#ab63fa",
           "#FFA15A",
           "#19d3f3",
           "#FF6692",
           "#B6E880",
           "#FF97FF",
           "#FECB52"
          ],
          "font": {
           "color": "#2a3f5f"
          },
          "geo": {
           "bgcolor": "white",
           "lakecolor": "white",
           "landcolor": "#E5ECF6",
           "showlakes": true,
           "showland": true,
           "subunitcolor": "white"
          },
          "hoverlabel": {
           "align": "left"
          },
          "hovermode": "closest",
          "mapbox": {
           "style": "light"
          },
          "paper_bgcolor": "white",
          "plot_bgcolor": "#E5ECF6",
          "polar": {
           "angularaxis": {
            "gridcolor": "white",
            "linecolor": "white",
            "ticks": ""
           },
           "bgcolor": "#E5ECF6",
           "radialaxis": {
            "gridcolor": "white",
            "linecolor": "white",
            "ticks": ""
           }
          },
          "scene": {
           "xaxis": {
            "backgroundcolor": "#E5ECF6",
            "gridcolor": "white",
            "gridwidth": 2,
            "linecolor": "white",
            "showbackground": true,
            "ticks": "",
            "zerolinecolor": "white"
           },
           "yaxis": {
            "backgroundcolor": "#E5ECF6",
            "gridcolor": "white",
            "gridwidth": 2,
            "linecolor": "white",
            "showbackground": true,
            "ticks": "",
            "zerolinecolor": "white"
           },
           "zaxis": {
            "backgroundcolor": "#E5ECF6",
            "gridcolor": "white",
            "gridwidth": 2,
            "linecolor": "white",
            "showbackground": true,
            "ticks": "",
            "zerolinecolor": "white"
           }
          },
          "shapedefaults": {
           "line": {
            "color": "#2a3f5f"
           }
          },
          "ternary": {
           "aaxis": {
            "gridcolor": "white",
            "linecolor": "white",
            "ticks": ""
           },
           "baxis": {
            "gridcolor": "white",
            "linecolor": "white",
            "ticks": ""
           },
           "bgcolor": "#E5ECF6",
           "caxis": {
            "gridcolor": "white",
            "linecolor": "white",
            "ticks": ""
           }
          },
          "title": {
           "x": 0.05
          },
          "xaxis": {
           "automargin": true,
           "gridcolor": "white",
           "linecolor": "white",
           "ticks": "",
           "title": {
            "standoff": 15
           },
           "zerolinecolor": "white",
           "zerolinewidth": 2
          },
          "yaxis": {
           "automargin": true,
           "gridcolor": "white",
           "linecolor": "white",
           "ticks": "",
           "title": {
            "standoff": 15
           },
           "zerolinecolor": "white",
           "zerolinewidth": 2
          }
         }
        },
        "title": {
         "text": "Count of Train Types"
        },
        "xaxis": {
         "anchor": "y",
         "autorange": true,
         "domain": [
          0,
          1
         ],
         "range": [
          -0.5,
          4.5
         ],
         "tickangle": 45,
         "title": {
          "text": "Train Type"
         },
         "type": "category"
        },
        "yaxis": {
         "anchor": "x",
         "autorange": true,
         "domain": [
          0,
          1
         ],
         "range": [
          0,
          20
         ],
         "title": {
          "text": "Count"
         },
         "type": "linear"
        }
       }
      },
      "image/png": "[encoded data removed]",
      "text/html": [
       "<div>                            <div id=\"155ea58b-6cb6-49b9-a3ff-0d194b63eff9\" class=\"plotly-graph-div\" style=\"height:525px; width:100%;\"></div>            <script type=\"text/javascript\">                require([\"plotly\"], function(Plotly) {                    window.PLOTLYENV=window.PLOTLYENV || {};                                    if (document.getElementById(\"155ea58b-6cb6-49b9-a3ff-0d194b63eff9\")) {                    Plotly.newPlot(                        \"155ea58b-6cb6-49b9-a3ff-0d194b63eff9\",                        [{\"alignmentgroup\":\"True\",\"hovertemplate\":\"color=Superfast<br>Train Type=%{x}<br>Count=%{y}<extra></extra>\",\"legendgroup\":\"Superfast\",\"marker\":{\"color\":\"#636efa\",\"pattern\":{\"shape\":\"\"}},\"name\":\"Superfast\",\"offsetgroup\":\"Superfast\",\"orientation\":\"v\",\"showlegend\":true,\"textposition\":\"auto\",\"x\":[\"Superfast\"],\"xaxis\":\"x\",\"y\":[19],\"yaxis\":\"y\",\"type\":\"bar\"},{\"alignmentgroup\":\"True\",\"hovertemplate\":\"color=Mail/Express<br>Train Type=%{x}<br>Count=%{y}<extra></extra>\",\"legendgroup\":\"Mail/Express\",\"marker\":{\"color\":\"#EF553B\",\"pattern\":{\"shape\":\"\"}},\"name\":\"Mail/Express\",\"offsetgroup\":\"Mail/Express\",\"orientation\":\"v\",\"showlegend\":true,\"textposition\":\"auto\",\"x\":[\"Mail/Express\"],\"xaxis\":\"x\",\"y\":[16],\"yaxis\":\"y\",\"type\":\"bar\"},{\"alignmentgroup\":\"True\",\"hovertemplate\":\"color=Rajdhani<br>Train Type=%{x}<br>Count=%{y}<extra></extra>\",\"legendgroup\":\"Rajdhani\",\"marker\":{\"color\":\"#00cc96\",\"pattern\":{\"shape\":\"\"}},\"name\":\"Rajdhani\",\"offsetgroup\":\"Rajdhani\",\"orientation\":\"v\",\"showlegend\":true,\"textposition\":\"auto\",\"x\":[\"Rajdhani\"],\"xaxis\":\"x\",\"y\":[4],\"yaxis\":\"y\",\"type\":\"bar\"},{\"alignmentgroup\":\"True\",\"hovertemplate\":\"color=Humsafar<br>Train Type=%{x}<br>Count=%{y}<extra></extra>\",\"legendgroup\":\"Humsafar\",\"marker\":{\"color\":\"#ab63fa\",\"pattern\":{\"shape\":\"\"}},\"name\":\"Humsafar\",\"offsetgroup\":\"Humsafar\",\"orientation\":\"v\",\"showlegend\":true,\"textposition\":\"auto\",\"x\":[\"Humsafar\"],\"xaxis\":\"x\",\"y\":[2],\"yaxis\":\"y\",\"type\":\"bar\"},{\"alignmentgroup\":\"True\",\"hovertemplate\":\"color=Tejas<br>Train Type=%{x}<br>Count=%{y}<extra></extra>\",\"legendgroup\":\"Tejas\",\"marker\":{\"color\":\"#FFA15A\",\"pattern\":{\"shape\":\"\"}},\"name\":\"Tejas\",\"offsetgroup\":\"Tejas\",\"orientation\":\"v\",\"showlegend\":true,\"textposition\":\"auto\",\"x\":[\"Tejas\"],\"xaxis\":\"x\",\"y\":[1],\"yaxis\":\"y\",\"type\":\"bar\"}],                        {\"template\":{\"data\":{\"histogram2dcontour\":[{\"type\":\"histogram2dcontour\",\"colorbar\":{\"outlinewidth\":0,\"ticks\":\"\"},\"colorscale\":[[0.0,\"#0d0887\"],[0.1111111111111111,\"#46039f\"],[0.2222222222222222,\"#7201a8\"],[0.3333333333333333,\"#9c179e\"],[0.4444444444444444,\"#bd3786\"],[0.5555555555555556,\"#d8576b\"],[0.6666666666666666,\"#ed7953\"],[0.7777777777777778,\"#fb9f3a\"],[0.8888888888888888,\"#fdca26\"],[1.0,\"#f0f921\"]]}],\"choropleth\":[{\"type\":\"choropleth\",\"colorbar\":{\"outlinewidth\":0,\"ticks\":\"\"}}],\"histogram2d\":[{\"type\":\"histogram2d\",\"colorbar\":{\"outlinewidth\":0,\"ticks\":\"\"},\"colorscale\":[[0.0,\"#0d0887\"],[0.1111111111111111,\"#46039f\"],[0.2222222222222222,\"#7201a8\"],[0.3333333333333333,\"#9c179e\"],[0.4444444444444444,\"#bd3786\"],[0.5555555555555556,\"#d8576b\"],[0.6666666666666666,\"#ed7953\"],[0.7777777777777778,\"#fb9f3a\"],[0.8888888888888888,\"#fdca26\"],[1.0,\"#f0f921\"]]}],\"heatmap\":[{\"type\":\"heatmap\",\"colorbar\":{\"outlinewidth\":0,\"ticks\":\"\"},\"colorscale\":[[0.0,\"#0d0887\"],[0.1111111111111111,\"#46039f\"],[0.2222222222222222,\"#7201a8\"],[0.3333333333333333,\"#9c179e\"],[0.4444444444444444,\"#bd3786\"],[0.5555555555555556,\"#d8576b\"],[0.6666666666666666,\"#ed7953\"],[0.7777777777777778,\"#fb9f3a\"],[0.8888888888888888,\"#fdca26\"],[1.0,\"#f0f921\"]]}],\"heatmapgl\":[{\"type\":\"heatmapgl\",\"colorbar\":{\"outlinewidth\":0,\"ticks\":\"\"},\"colorscale\":[[0.0,\"#0d0887\"],[0.1111111111111111,\"#46039f\"],[0.2222222222222222,\"#7201a8\"],[0.3333333333333333,\"#9c179e\"],[0.4444444444444444,\"#bd3786\"],[0.5555555555555556,\"#d8576b\"],[0.6666666666666666,\"#ed7953\"],[0.7777777777777778,\"#fb9f3a\"],[0.8888888888888888,\"#fdca26\"],[1.0,\"#f0f921\"]]}],\"contourcarpet\":[{\"type\":\"contourcarpet\",\"colorbar\":{\"outlinewidth\":0,\"ticks\":\"\"}}],\"contour\":[{\"type\":\"contour\",\"colorbar\":{\"outlinewidth\":0,\"ticks\":\"\"},\"colorscale\":[[0.0,\"#0d0887\"],[0.1111111111111111,\"#46039f\"],[0.2222222222222222,\"#7201a8\"],[0.3333333333333333,\"#9c179e\"],[0.4444444444444444,\"#bd3786\"],[0.5555555555555556,\"#d8576b\"],[0.6666666666666666,\"#ed7953\"],[0.7777777777777778,\"#fb9f3a\"],[0.8888888888888888,\"#fdca26\"],[1.0,\"#f0f921\"]]}],\"surface\":[{\"type\":\"surface\",\"colorbar\":{\"outlinewidth\":0,\"ticks\":\"\"},\"colorscale\":[[0.0,\"#0d0887\"],[0.1111111111111111,\"#46039f\"],[0.2222222222222222,\"#7201a8\"],[0.3333333333333333,\"#9c179e\"],[0.4444444444444444,\"#bd3786\"],[0.5555555555555556,\"#d8576b\"],[0.6666666666666666,\"#ed7953\"],[0.7777777777777778,\"#fb9f3a\"],[0.8888888888888888,\"#fdca26\"],[1.0,\"#f0f921\"]]}],\"mesh3d\":[{\"type\":\"mesh3d\",\"colorbar\":{\"outlinewidth\":0,\"ticks\":\"\"}}],\"scatter\":[{\"fillpattern\":{\"fillmode\":\"overlay\",\"size\":10,\"solidity\":0.2},\"type\":\"scatter\"}],\"parcoords\":[{\"type\":\"parcoords\",\"line\":{\"colorbar\":{\"outlinewidth\":0,\"ticks\":\"\"}}}],\"scatterpolargl\":[{\"type\":\"scatterpolargl\",\"marker\":{\"colorbar\":{\"outlinewidth\":0,\"ticks\":\"\"}}}],\"bar\":[{\"error_x\":{\"color\":\"#2a3f5f\"},\"error_y\":{\"color\":\"#2a3f5f\"},\"marker\":{\"line\":{\"color\":\"#E5ECF6\",\"width\":0.5},\"pattern\":{\"fillmode\":\"overlay\",\"size\":10,\"solidity\":0.2}},\"type\":\"bar\"}],\"scattergeo\":[{\"type\":\"scattergeo\",\"marker\":{\"colorbar\":{\"outlinewidth\":0,\"ticks\":\"\"}}}],\"scatterpolar\":[{\"type\":\"scatterpolar\",\"marker\":{\"colorbar\":{\"outlinewidth\":0,\"ticks\":\"\"}}}],\"histogram\":[{\"marker\":{\"pattern\":{\"fillmode\":\"overlay\",\"size\":10,\"solidity\":0.2}},\"type\":\"histogram\"}],\"scattergl\":[{\"type\":\"scattergl\",\"marker\":{\"colorbar\":{\"outlinewidth\":0,\"ticks\":\"\"}}}],\"scatter3d\":[{\"type\":\"scatter3d\",\"line\":{\"colorbar\":{\"outlinewidth\":0,\"ticks\":\"\"}},\"marker\":{\"colorbar\":{\"outlinewidth\":0,\"ticks\":\"\"}}}],\"scattermapbox\":[{\"type\":\"scattermapbox\",\"marker\":{\"colorbar\":{\"outlinewidth\":0,\"ticks\":\"\"}}}],\"scatterternary\":[{\"type\":\"scatterternary\",\"marker\":{\"colorbar\":{\"outlinewidth\":0,\"ticks\":\"\"}}}],\"scattercarpet\":[{\"type\":\"scattercarpet\",\"marker\":{\"colorbar\":{\"outlinewidth\":0,\"ticks\":\"\"}}}],\"carpet\":[{\"aaxis\":{\"endlinecolor\":\"#2a3f5f\",\"gridcolor\":\"white\",\"linecolor\":\"white\",\"minorgridcolor\":\"white\",\"startlinecolor\":\"#2a3f5f\"},\"baxis\":{\"endlinecolor\":\"#2a3f5f\",\"gridcolor\":\"white\",\"linecolor\":\"white\",\"minorgridcolor\":\"white\",\"startlinecolor\":\"#2a3f5f\"},\"type\":\"carpet\"}],\"table\":[{\"cells\":{\"fill\":{\"color\":\"#EBF0F8\"},\"line\":{\"color\":\"white\"}},\"header\":{\"fill\":{\"color\":\"#C8D4E3\"},\"line\":{\"color\":\"white\"}},\"type\":\"table\"}],\"barpolar\":[{\"marker\":{\"line\":{\"color\":\"#E5ECF6\",\"width\":0.5},\"pattern\":{\"fillmode\":\"overlay\",\"size\":10,\"solidity\":0.2}},\"type\":\"barpolar\"}],\"pie\":[{\"automargin\":true,\"type\":\"pie\"}]},\"layout\":{\"autotypenumbers\":\"strict\",\"colorway\":[\"#636efa\",\"#EF553B\",\"#00cc96\",\"#ab63fa\",\"#FFA15A\",\"#19d3f3\",\"#FF6692\",\"#B6E880\",\"#FF97FF\",\"#FECB52\"],\"font\":{\"color\":\"#2a3f5f\"},\"hovermode\":\"closest\",\"hoverlabel\":{\"align\":\"left\"},\"paper_bgcolor\":\"white\",\"plot_bgcolor\":\"#E5ECF6\",\"polar\":{\"bgcolor\":\"#E5ECF6\",\"angularaxis\":{\"gridcolor\":\"white\",\"linecolor\":\"white\",\"ticks\":\"\"},\"radialaxis\":{\"gridcolor\":\"white\",\"linecolor\":\"white\",\"ticks\":\"\"}},\"ternary\":{\"bgcolor\":\"#E5ECF6\",\"aaxis\":{\"gridcolor\":\"white\",\"linecolor\":\"white\",\"ticks\":\"\"},\"baxis\":{\"gridcolor\":\"white\",\"linecolor\":\"white\",\"ticks\":\"\"},\"caxis\":{\"gridcolor\":\"white\",\"linecolor\":\"white\",\"ticks\":\"\"}},\"coloraxis\":{\"colorbar\":{\"outlinewidth\":0,\"ticks\":\"\"}},\"colorscale\":{\"sequential\":[[0.0,\"#0d0887\"],[0.1111111111111111,\"#46039f\"],[0.2222222222222222,\"#7201a8\"],[0.3333333333333333,\"#9c179e\"],[0.4444444444444444,\"#bd3786\"],[0.5555555555555556,\"#d8576b\"],[0.6666666666666666,\"#ed7953\"],[0.7777777777777778,\"#fb9f3a\"],[0.8888888888888888,\"#fdca26\"],[1.0,\"#f0f921\"]],\"sequentialminus\":[[0.0,\"#0d0887\"],[0.1111111111111111,\"#46039f\"],[0.2222222222222222,\"#7201a8\"],[0.3333333333333333,\"#9c179e\"],[0.4444444444444444,\"#bd3786\"],[0.5555555555555556,\"#d8576b\"],[0.6666666666666666,\"#ed7953\"],[0.7777777777777778,\"#fb9f3a\"],[0.8888888888888888,\"#fdca26\"],[1.0,\"#f0f921\"]],\"diverging\":[[0,\"#8e0152\"],[0.1,\"#c51b7d\"],[0.2,\"#de77ae\"],[0.3,\"#f1b6da\"],[0.4,\"#fde0ef\"],[0.5,\"#f7f7f7\"],[0.6,\"#e6f5d0\"],[0.7,\"#b8e186\"],[0.8,\"#7fbc41\"],[0.9,\"#4d9221\"],[1,\"#276419\"]]},\"xaxis\":{\"gridcolor\":\"white\",\"linecolor\":\"white\",\"ticks\":\"\",\"title\":{\"standoff\":15},\"zerolinecolor\":\"white\",\"automargin\":true,\"zerolinewidth\":2},\"yaxis\":{\"gridcolor\":\"white\",\"linecolor\":\"white\",\"ticks\":\"\",\"title\":{\"standoff\":15},\"zerolinecolor\":\"white\",\"automargin\":true,\"zerolinewidth\":2},\"scene\":{\"xaxis\":{\"backgroundcolor\":\"#E5ECF6\",\"gridcolor\":\"white\",\"linecolor\":\"white\",\"showbackground\":true,\"ticks\":\"\",\"zerolinecolor\":\"white\",\"gridwidth\":2},\"yaxis\":{\"backgroundcolor\":\"#E5ECF6\",\"gridcolor\":\"white\",\"linecolor\":\"white\",\"showbackground\":true,\"ticks\":\"\",\"zerolinecolor\":\"white\",\"gridwidth\":2},\"zaxis\":{\"backgroundcolor\":\"#E5ECF6\",\"gridcolor\":\"white\",\"linecolor\":\"white\",\"showbackground\":true,\"ticks\":\"\",\"zerolinecolor\":\"white\",\"gridwidth\":2}},\"shapedefaults\":{\"line\":{\"color\":\"#2a3f5f\"}},\"annotationdefaults\":{\"arrowcolor\":\"#2a3f5f\",\"arrowhead\":0,\"arrowwidth\":1},\"geo\":{\"bgcolor\":\"white\",\"landcolor\":\"#E5ECF6\",\"subunitcolor\":\"white\",\"showland\":true,\"showlakes\":true,\"lakecolor\":\"white\"},\"title\":{\"x\":0.05},\"mapbox\":{\"style\":\"light\"}}},\"xaxis\":{\"anchor\":\"y\",\"domain\":[0.0,1.0],\"title\":{\"text\":\"Train Type\"},\"tickangle\":45},\"yaxis\":{\"anchor\":\"x\",\"domain\":[0.0,1.0],\"title\":{\"text\":\"Count\"}},\"legend\":{\"title\":{\"text\":\"color\"},\"tracegroupgap\":0},\"title\":{\"text\":\"Count of Train Types\"},\"barmode\":\"relative\"},                        {\"responsive\": true}                    ).then(function(){\n",
       "                            \n",
       "var gd = document.getElementById('155ea58b-6cb6-49b9-a3ff-0d194b63eff9');\n",
       "var x = new MutationObserver(function (mutations, observer) {{\n",
       "        var display = window.getComputedStyle(gd).display;\n",
       "        if (!display || display === 'none') {{\n",
       "            console.log([gd, 'removed!']);\n",
       "            Plotly.purge(gd);\n",
       "            observer.disconnect();\n",
       "        }}\n",
       "}});\n",
       "\n",
       "// Listen for the removal of the full notebook cells\n",
       "var notebookContainer = gd.closest('#notebook-container');\n",
       "if (notebookContainer) {{\n",
       "    x.observe(notebookContainer, {childList: true});\n",
       "}}\n",
       "\n",
       "// Listen for the clearing of the current output cell\n",
       "var outputEl = gd.closest('.output');\n",
       "if (outputEl) {{\n",
       "    x.observe(outputEl, {childList: true});\n",
       "}}\n",
       "\n",
       "                        })                };                });            </script>        </div>"
      ]
     },
     "metadata": {},
     "output_type": "display_data"
    }
   ],
   "source": [
    "# Load Train_List.csv into a DataFrame\n",
    "train_list_df = pd.read_csv(\"Train_List.csv\")\n",
    "\n",
    "\n",
    "\n",
    "# Plot the count of train types using Plotly\n",
    "fig = px.bar(train_list_df['Type'].value_counts(), x=train_list_df['Type'].value_counts().index, \n",
    "             y=train_list_df['Type'].value_counts().values, color=train_list_df['Type'].value_counts().index,\n",
    "             labels={'y': 'Count', 'x': 'Train Type'}, title='Count of Train Types')\n",
    "fig.update_xaxes(tickangle=45)\n",
    "fig.show()\n",
    "\n"
   ]
  },
  {
   "cell_type": "code",
   "execution_count": 23,
   "id": "d5ff2bff-fc17-4311-936c-7c6190a7a752",
   "metadata": {},
   "outputs": [
    {
     "data": {
      "image/png": "[encoded data removed]",
      "text/plain": [
       "<Figure size 1400x600 with 1 Axes>"
      ]
     },
     "metadata": {},
     "output_type": "display_data"
    }
   ],
   "source": [
    "# Load train route information for a train running between Guwahati and Delhi\n",
    "train_route_df = pd.read_csv(\"Train_Route/20503.csv\")  # Using the file corresponding to train number 20503 (DBRG NDLS RAJEXP)\n",
    "\n",
    "# Plot the average delay at each station\n",
    "plt.figure(figsize=(14, 6))\n",
    "plt.plot(train_route_df['Station_Name'], train_route_df['Average_Delay(min)'], marker='o', color='green')\n",
    "plt.title('Average Delay at Each Station (Train 20503: Guwahati to Delhi)')\n",
    "plt.xlabel('Station Name')\n",
    "plt.ylabel('Average Delay (minutes)')\n",
    "plt.xticks(rotation=45)\n",
    "plt.grid(True)\n",
    "plt.show()\n"
   ]
  },
  {
   "cell_type": "code",
   "execution_count": 27,
   "id": "c1799e03-beeb-404c-93a5-5b794e6d1a0e",
   "metadata": {},
   "outputs": [],
   "source": [
    "# Function to load route data for a given train number\n",
    "def load_route_data(train_number):\n",
    "    file_name = f\"Train_Route/{train_number}.csv\"\n",
    "    return pd.read_csv(file_name)"
   ]
  },
  {
   "cell_type": "code",
   "execution_count": 28,
   "id": "e743731d-18b9-45d9-8d6a-c832255f3e5e",
   "metadata": {},
   "outputs": [
    {
     "data": {
      "application/vnd.plotly.v1+json": {
       "config": {
        "plotlyServerURL": "https://plot.ly"
       },
       "data": [
        {
         "fillpattern": {
          "shape": ""
         },
         "hovertemplate": "Train_Number=13181<br>Station_Name=%{x}<br>Average_Delay(min)=%{y}<extra></extra>",
         "legendgroup": "13181",
         "line": {
          "color": "#636efa"
         },
         "marker": {
          "symbol": "circle"
         },
         "mode": "lines",
         "name": "13181",
         "orientation": "v",
         "showlegend": true,
         "stackgroup": "1",
         "type": "scatter",
         "x": [
          "KOLKATA ",
          "BARDDHAMAN JN ",
          "BOLPUR S NIKTN ",
          "RAMPUR HAT ",
          "MALDA TOWN ",
          "NEW JALPAIGURI ",
          "NEW COOCH BEHAR ",
          "NEW ALIPURDAUR ",
          "FAKIRAGRAM JN ",
          "NEW BONGAIGAON ",
          "KAMAKHYA ",
          "GUWAHATI ",
          "JAGI ROAD ",
          "CHAPARMUKH JN ",
          "NAGAON ",
          "JAKHALABANDHA ",
          "SILGHAT TOWN "
         ],
         "xaxis": "x",
         "y": [
          1,
          15,
          18,
          32,
          33,
          46,
          75,
          67,
          68,
          44,
          72,
          79,
          83,
          90,
          84,
          83,
          69
         ],
         "yaxis": "y"
        },
        {
         "fillpattern": {
          "shape": ""
         },
         "hovertemplate": "Train_Number=05640<br>Station_Name=%{x}<br>Average_Delay(min)=%{y}<extra></extra>",
         "legendgroup": "05640",
         "line": {
          "color": "#EF553B"
         },
         "marker": {
          "symbol": "circle"
         },
         "mode": "lines",
         "name": "05640",
         "orientation": "v",
         "showlegend": true,
         "stackgroup": "1",
         "type": "scatter",
         "x": [
          "KOLKATA ",
          "NAIHATI JN ",
          "BANDEL JN ",
          "KATWA ",
          "AZIMGANJ JN ",
          "JANGIPUR ROAD ",
          "MALDA TOWN ",
          "KUMEDPUR ",
          "BARSOI JN ",
          "KISHANGANJ ",
          "ALUABARI ROAD ",
          "NEW JALPAIGURI ",
          "DHUPGURI ",
          "NEW COOCH BEHAR ",
          "NEW ALIPURDAUR ",
          "GOSSAIGAON HAT ",
          "KOKRAJHAR ",
          "NEW BONGAIGAON ",
          "GOALPARA TOWN ",
          "KAMAKHYA ",
          "GUWAHATI ",
          "HOJAI ",
          "LANKA ",
          "LUMDING JN ",
          "MAIBANG ",
          "NEW HAFLONG ",
          "NEW HARANGAJAO ",
          "BADARPUR JN ",
          "SILCHAR "
         ],
         "xaxis": "x",
         "y": [
          161,
          153,
          165,
          159,
          137,
          126,
          149,
          167,
          165,
          190,
          194,
          176,
          172,
          194,
          193,
          210,
          226,
          238,
          237,
          237,
          258,
          278,
          281,
          281,
          249,
          258,
          264,
          239,
          224
         ],
         "yaxis": "y"
        },
        {
         "fillpattern": {
          "shape": ""
         },
         "hovertemplate": "Train_Number=02501<br>Station_Name=%{x}<br>Average_Delay(min)=%{y}<extra></extra>",
         "legendgroup": "02501",
         "line": {
          "color": "#00cc96"
         },
         "marker": {
          "symbol": "circle"
         },
         "mode": "lines",
         "name": "02501",
         "orientation": "v",
         "showlegend": true,
         "stackgroup": "1",
         "type": "scatter",
         "x": [
          "KOLKATA ",
          "BANDEL JN ",
          "NABADWIP DHAM ",
          "KATWA ",
          "AZIMGANJ JN ",
          "JANGIPUR ROAD ",
          "MALDA TOWN ",
          "KISHANGANJ ",
          "NEW JALPAIGURI ",
          "NEW COOCH BEHAR ",
          "NEW ALIPURDAUR ",
          "KOKRAJHAR ",
          "NEW BONGAIGAON ",
          "GOALPARA TOWN ",
          "GUWAHATI ",
          "MANDERDISA ",
          "NEW HAFLONG ",
          "BADARPUR JN ",
          "NEW KARIMGANJ ",
          "DHARMANAGAR ",
          "AGARTALA "
         ],
         "xaxis": "x",
         "y": [
          7,
          11,
          22,
          19,
          14,
          19,
          73,
          131,
          129,
          167,
          156,
          175,
          166,
          169,
          230,
          262,
          262,
          237,
          247,
          240,
          227
         ],
         "yaxis": "y"
        },
        {
         "fillpattern": {
          "shape": ""
         },
         "hovertemplate": "Train_Number=02517<br>Station_Name=%{x}<br>Average_Delay(min)=%{y}<extra></extra>",
         "legendgroup": "02517",
         "line": {
          "color": "#ab63fa"
         },
         "marker": {
          "symbol": "circle"
         },
         "mode": "lines",
         "name": "02517",
         "orientation": "v",
         "showlegend": true,
         "stackgroup": "1",
         "type": "scatter",
         "x": [
          "KOLKATA ",
          "BANDEL JN ",
          "NABADWIP DHAM ",
          "KATWA ",
          "AZIMGANJ JN ",
          "JANGIPUR ROAD ",
          "MALDA TOWN ",
          "KISHANGANJ ",
          "NEW JALPAIGURI ",
          "NEW COOCH BEHAR ",
          "NEW ALIPURDAUR ",
          "KOKRAJHAR ",
          "NEW BONGAIGAON ",
          "GOALPARA TOWN ",
          "GUWAHATI "
         ],
         "xaxis": "x",
         "y": [
          19,
          26,
          34,
          33,
          25,
          34,
          75,
          140,
          135,
          177,
          169,
          191,
          180,
          194,
          186
         ],
         "yaxis": "y"
        },
        {
         "fillpattern": {
          "shape": ""
         },
         "hovertemplate": "Train_Number=22502<br>Station_Name=%{x}<br>Average_Delay(min)=%{y}<extra></extra>",
         "legendgroup": "22502",
         "line": {
          "color": "#FFA15A"
         },
         "marker": {
          "symbol": "circle"
         },
         "mode": "lines",
         "name": "22502",
         "orientation": "v",
         "showlegend": true,
         "stackgroup": "1",
         "type": "scatter",
         "x": [
          "NEW TINSUKIA JN ",
          "DIBRUGARH ",
          "MORANHAT ",
          "SIBSAGAR TOWN ",
          "SIMALUGURI JN ",
          "MARIANI JN ",
          "FURKATING JN ",
          "DIMAPUR ",
          "DIPHU ",
          "LUMDING JN ",
          "GUWAHATI ",
          "GOALPARA TOWN ",
          "NEW BONGAIGAON ",
          "NEW ALIPURDAUR ",
          "NEW COOCH BEHAR ",
          "JALPAIGURI ROAD ",
          "NEW JALPAIGURI ",
          "KISHANGANJ ",
          "MALDA TOWN ",
          "RAMPUR HAT ",
          "BOLPUR S NIKTN ",
          "DANKUNI ",
          "KHARAGPUR JN ",
          "BALASORE ",
          "CUTTACK ",
          "BHUBANESWAR ",
          "KHURDA ROAD JN ",
          "BRAHMAPUR ",
          "VIZIANAGRAM JN ",
          "VISHAKAPATNAM ",
          "RAJAMUNDRY ",
          "VIJAYAWADA JN ",
          "ONGOLE ",
          "NELLORE ",
          "PERAMBUR ",
          "KATPADI JN ",
          "JOLARPETTAI ",
          "KRISHNARAJAPURM ",
          "SMVT BENGALURU "
         ],
         "xaxis": "x",
         "y": [
          13,
          21,
          33,
          29,
          27,
          28,
          18,
          43,
          45,
          36,
          22,
          62,
          49,
          66,
          76,
          57,
          49,
          75,
          43,
          53,
          63,
          88,
          89,
          90,
          114,
          114,
          117,
          131,
          124,
          125,
          158,
          175,
          184,
          196,
          210,
          206,
          208,
          209,
          168
         ],
         "yaxis": "y"
        },
        {
         "fillpattern": {
          "shape": ""
         },
         "hovertemplate": "Train_Number=12508<br>Station_Name=%{x}<br>Average_Delay(min)=%{y}<extra></extra>",
         "legendgroup": "12508",
         "line": {
          "color": "#19d3f3"
         },
         "marker": {
          "symbol": "circle"
         },
         "mode": "lines",
         "name": "12508",
         "orientation": "v",
         "showlegend": true,
         "stackgroup": "1",
         "type": "scatter",
         "x": [
          "SILCHAR ",
          "BADARPUR JN ",
          "NEW HAFLONG ",
          "MAIBANG ",
          "LUMDING JN ",
          "HOJAI ",
          "GUWAHATI ",
          "KAMAKHYA ",
          "RANGIYA JN ",
          "BARPETA ROAD ",
          "BONGAIGAON ",
          "NEW BONGAIGAON ",
          "KOKRAJHAR ",
          "NEW ALIPURDAUR ",
          "NEW COOCH BEHAR ",
          "DHUPGURI ",
          "NEW JALPAIGURI ",
          "KISHANGANJ ",
          "MALDA TOWN ",
          "PAKUR ",
          "RAMPUR HAT ",
          "BOLPUR S NIKTN ",
          "DANKUNI ",
          "KHARAGPUR JN ",
          "BALASORE ",
          "BHADRAKH ",
          "JAJPUR K ROAD ",
          "CUTTACK ",
          "BHUBANESWAR ",
          "KHURDA ROAD JN ",
          "BALUGAN ",
          "BRAHMAPUR ",
          "PALASA ",
          "SRIKAKULAM ROAD ",
          "VIZIANAGRAM JN ",
          "VISHAKAPATNAM ",
          "RAJAMUNDRY ",
          "VIJAYAWADA JN ",
          "PERAMBUR ",
          "ARAKKONAM ",
          "KATPADI JN ",
          "JOLARPETTAI ",
          "SALEM JN ",
          "ERODE JN ",
          "TIRUPPUR ",
          "COIMBATORE JN ",
          "PALAKKAD JN ",
          "THRISUR ",
          "ALUVA ",
          "ERNAKULAM TOWN ",
          "KOTTAYAM ",
          "TIRUVALLA ",
          "CHENGANNUR ",
          "MAVELIKARA ",
          "KAYANKULAM JN ",
          "KOLLAM JN ",
          "TRIVANDRUM CNTL "
         ],
         "xaxis": "x",
         "y": [
          18,
          33,
          29,
          25,
          46,
          51,
          78,
          82,
          106,
          132,
          219,
          95,
          105,
          124,
          132,
          137,
          109,
          133,
          113,
          114,
          113,
          129,
          168,
          170,
          177,
          192,
          200,
          213,
          220,
          222,
          241,
          243,
          222,
          232,
          248,
          254,
          284,
          291,
          312,
          310,
          305,
          302,
          310,
          309,
          310,
          300,
          309,
          316,
          309,
          315,
          316,
          314,
          316,
          318,
          317,
          317,
          292
         ],
         "yaxis": "y"
        },
        {
         "fillpattern": {
          "shape": ""
         },
         "hovertemplate": "Train_Number=12510<br>Station_Name=%{x}<br>Average_Delay(min)=%{y}<extra></extra>",
         "legendgroup": "12510",
         "line": {
          "color": "#FF6692"
         },
         "marker": {
          "symbol": "circle"
         },
         "mode": "lines",
         "name": "12510",
         "orientation": "v",
         "showlegend": true,
         "stackgroup": "1",
         "type": "scatter",
         "x": [
          "GUWAHATI ",
          "KAMAKHYA ",
          "RANGIYA JN ",
          "BARPETA ROAD ",
          "BONGAIGAON ",
          "NEW BONGAIGAON ",
          "KOKRAJHAR ",
          "NEW ALIPURDAUR ",
          "NEW COOCH BEHAR ",
          "DHUPGURI ",
          "JALPAIGURI ROAD ",
          "NEW JALPAIGURI ",
          "KISHANGANJ ",
          "BARSOI JN ",
          "MALDA TOWN ",
          "NEW FARAKKA JN ",
          "RAMPUR HAT ",
          "BOLPUR S NIKTN ",
          "DANKUNI ",
          "KHARAGPUR JN ",
          "BALASORE ",
          "BHADRAKH ",
          "JAJPUR K ROAD ",
          "CUTTACK ",
          "BHUBANESWAR ",
          "KHURDA ROAD JN ",
          "BALUGAN ",
          "BRAHMAPUR ",
          "PALASA ",
          "SRIKAKULAM ROAD ",
          "VIZIANAGRAM JN ",
          "VISHAKAPATNAM ",
          "RAJAMUNDRY ",
          "VIJAYAWADA JN ",
          "PERAMBUR ",
          "ARAKKONAM ",
          "KATPADI JN ",
          "JOLARPETTAI ",
          "BANGARAPET ",
          "KRISHNARAJAPURM ",
          "SMVT BENGALURU "
         ],
         "xaxis": "x",
         "y": [
          26,
          30,
          49,
          83,
          74,
          55,
          63,
          80,
          90,
          93,
          87,
          67,
          96,
          95,
          71,
          81,
          73,
          90,
          118,
          127,
          136,
          150,
          157,
          175,
          178,
          180,
          200,
          205,
          191,
          201,
          204,
          210,
          248,
          255,
          281,
          286,
          280,
          286,
          301,
          296,
          282
         ],
         "yaxis": "y"
        },
        {
         "fillpattern": {
          "shape": ""
         },
         "hovertemplate": "Train_Number=12516<br>Station_Name=%{x}<br>Average_Delay(min)=%{y}<extra></extra>",
         "legendgroup": "12516",
         "line": {
          "color": "#B6E880"
         },
         "marker": {
          "symbol": "circle"
         },
         "mode": "lines",
         "name": "12516",
         "orientation": "v",
         "showlegend": true,
         "stackgroup": "1",
         "type": "scatter",
         "x": [
          "SILCHAR ",
          "BADARPUR JN ",
          "NEW HAFLONG ",
          "MAIBANG ",
          "LUMDING JN ",
          "HOJAI ",
          "GUWAHATI ",
          "KAMAKHYA ",
          "RANGIYA JN ",
          "BARPETA ROAD ",
          "BONGAIGAON ",
          "NEW BONGAIGAON ",
          "KOKRAJHAR ",
          "NEW ALIPURDAUR ",
          "NEW COOCH BEHAR ",
          "DHUPGURI ",
          "NEW JALPAIGURI ",
          "KISHANGANJ ",
          "MALDA TOWN ",
          "NEW FARAKKA JN ",
          "RAMPUR HAT ",
          "BOLPUR S NIKTN ",
          "DANKUNI ",
          "KHARAGPUR JN ",
          "BALASORE ",
          "BHADRAKH ",
          "JAJPUR K ROAD ",
          "CUTTACK ",
          "BHUBANESWAR ",
          "KHURDA ROAD JN ",
          "BALUGAN ",
          "BRAHMAPUR ",
          "PALASA ",
          "SRIKAKULAM ROAD ",
          "VIZIANAGRAM JN ",
          "VISHAKAPATNAM ",
          "RAJAMUNDRY ",
          "VIJAYAWADA JN ",
          "PERAMBUR ",
          "ARAKKONAM ",
          "KATPADI JN ",
          "JOLARPETTAI ",
          "SALEM JN ",
          "ERODE JN ",
          "TIRUPPUR ",
          "COIMBATORE JN "
         ],
         "xaxis": "x",
         "y": [
          2,
          20,
          20,
          45,
          25,
          29,
          55,
          62,
          86,
          100,
          64,
          69,
          75,
          94,
          101,
          102,
          74,
          98,
          75,
          83,
          91,
          114,
          146,
          149,
          158,
          181,
          190,
          207,
          216,
          224,
          258,
          263,
          245,
          255,
          255,
          261,
          295,
          308,
          328,
          335,
          334,
          336,
          352,
          356,
          363,
          327
         ],
         "yaxis": "y"
        }
       ],
       "layout": {
        "autosize": true,
        "legend": {
         "title": {
          "text": "Train_Number"
         },
         "tracegroupgap": 0
        },
        "template": {
         "data": {
          "bar": [
           {
            "error_x": {
             "color": "#2a3f5f"
            },
            "error_y": {
             "color": "#2a3f5f"
            },
            "marker": {
             "line": {
              "color": "#E5ECF6",
              "width": 0.5
             },
             "pattern": {
              "fillmode": "overlay",
              "size": 10,
              "solidity": 0.2
             }
            },
            "type": "bar"
           }
          ],
          "barpolar": [
           {
            "marker": {
             "line": {
              "color": "#E5ECF6",
              "width": 0.5
             },
             "pattern": {
              "fillmode": "overlay",
              "size": 10,
              "solidity": 0.2
             }
            },
            "type": "barpolar"
           }
          ],
          "carpet": [
           {
            "aaxis": {
             "endlinecolor": "#2a3f5f",
             "gridcolor": "white",
             "linecolor": "white",
             "minorgridcolor": "white",
             "startlinecolor": "#2a3f5f"
            },
            "baxis": {
             "endlinecolor": "#2a3f5f",
             "gridcolor": "white",
             "linecolor": "white",
             "minorgridcolor": "white",
             "startlinecolor": "#2a3f5f"
            },
            "type": "carpet"
           }
          ],
          "choropleth": [
           {
            "colorbar": {
             "outlinewidth": 0,
             "ticks": ""
            },
            "type": "choropleth"
           }
          ],
          "contour": [
           {
            "colorbar": {
             "outlinewidth": 0,
             "ticks": ""
            },
            "colorscale": [
             [
              0,
              "#0d0887"
             ],
             [
              0.1111111111111111,
              "#46039f"
             ],
             [
              0.2222222222222222,
              "#7201a8"
             ],
             [
              0.3333333333333333,
              "#9c179e"
             ],
             [
              0.4444444444444444,
              "#bd3786"
             ],
             [
              0.5555555555555556,
              "#d8576b"
             ],
             [
              0.6666666666666666,
              "#ed7953"
             ],
             [
              0.7777777777777778,
              "#fb9f3a"
             ],
             [
              0.8888888888888888,
              "#fdca26"
             ],
             [
              1,
              "#f0f921"
             ]
            ],
            "type": "contour"
           }
          ],
          "contourcarpet": [
           {
            "colorbar": {
             "outlinewidth": 0,
             "ticks": ""
            },
            "type": "contourcarpet"
           }
          ],
          "heatmap": [
           {
            "colorbar": {
             "outlinewidth": 0,
             "ticks": ""
            },
            "colorscale": [
             [
              0,
              "#0d0887"
             ],
             [
              0.1111111111111111,
              "#46039f"
             ],
             [
              0.2222222222222222,
              "#7201a8"
             ],
             [
              0.3333333333333333,
              "#9c179e"
             ],
             [
              0.4444444444444444,
              "#bd3786"
             ],
             [
              0.5555555555555556,
              "#d8576b"
             ],
             [
              0.6666666666666666,
              "#ed7953"
             ],
             [
              0.7777777777777778,
              "#fb9f3a"
             ],
             [
              0.8888888888888888,
              "#fdca26"
             ],
             [
              1,
              "#f0f921"
             ]
            ],
            "type": "heatmap"
           }
          ],
          "heatmapgl": [
           {
            "colorbar": {
             "outlinewidth": 0,
             "ticks": ""
            },
            "colorscale": [
             [
              0,
              "#0d0887"
             ],
             [
              0.1111111111111111,
              "#46039f"
             ],
             [
              0.2222222222222222,
              "#7201a8"
             ],
             [
              0.3333333333333333,
              "#9c179e"
             ],
             [
              0.4444444444444444,
              "#bd3786"
             ],
             [
              0.5555555555555556,
              "#d8576b"
             ],
             [
              0.6666666666666666,
              "#ed7953"
             ],
             [
              0.7777777777777778,
              "#fb9f3a"
             ],
             [
              0.8888888888888888,
              "#fdca26"
             ],
             [
              1,
              "#f0f921"
             ]
            ],
            "type": "heatmapgl"
           }
          ],
          "histogram": [
           {
            "marker": {
             "pattern": {
              "fillmode": "overlay",
              "size": 10,
              "solidity": 0.2
             }
            },
            "type": "histogram"
           }
          ],
          "histogram2d": [
           {
            "colorbar": {
             "outlinewidth": 0,
             "ticks": ""
            },
            "colorscale": [
             [
              0,
              "#0d0887"
             ],
             [
              0.1111111111111111,
              "#46039f"
             ],
             [
              0.2222222222222222,
              "#7201a8"
             ],
             [
              0.3333333333333333,
              "#9c179e"
             ],
             [
              0.4444444444444444,
              "#bd3786"
             ],
             [
              0.5555555555555556,
              "#d8576b"
             ],
             [
              0.6666666666666666,
              "#ed7953"
             ],
             [
              0.7777777777777778,
              "#fb9f3a"
             ],
             [
              0.8888888888888888,
              "#fdca26"
             ],
             [
              1,
              "#f0f921"
             ]
            ],
            "type": "histogram2d"
           }
          ],
          "histogram2dcontour": [
           {
            "colorbar": {
             "outlinewidth": 0,
             "ticks": ""
            },
            "colorscale": [
             [
              0,
              "#0d0887"
             ],
             [
              0.1111111111111111,
              "#46039f"
             ],
             [
              0.2222222222222222,
              "#7201a8"
             ],
             [
              0.3333333333333333,
              "#9c179e"
             ],
             [
              0.4444444444444444,
              "#bd3786"
             ],
             [
              0.5555555555555556,
              "#d8576b"
             ],
             [
              0.6666666666666666,
              "#ed7953"
             ],
             [
              0.7777777777777778,
              "#fb9f3a"
             ],
             [
              0.8888888888888888,
              "#fdca26"
             ],
             [
              1,
              "#f0f921"
             ]
            ],
            "type": "histogram2dcontour"
           }
          ],
          "mesh3d": [
           {
            "colorbar": {
             "outlinewidth": 0,
             "ticks": ""
            },
            "type": "mesh3d"
           }
          ],
          "parcoords": [
           {
            "line": {
             "colorbar": {
              "outlinewidth": 0,
              "ticks": ""
             }
            },
            "type": "parcoords"
           }
          ],
          "pie": [
           {
            "automargin": true,
            "type": "pie"
           }
          ],
          "scatter": [
           {
            "fillpattern": {
             "fillmode": "overlay",
             "size": 10,
             "solidity": 0.2
            },
            "type": "scatter"
           }
          ],
          "scatter3d": [
           {
            "line": {
             "colorbar": {
              "outlinewidth": 0,
              "ticks": ""
             }
            },
            "marker": {
             "colorbar": {
              "outlinewidth": 0,
              "ticks": ""
             }
            },
            "type": "scatter3d"
           }
          ],
          "scattercarpet": [
           {
            "marker": {
             "colorbar": {
              "outlinewidth": 0,
              "ticks": ""
             }
            },
            "type": "scattercarpet"
           }
          ],
          "scattergeo": [
           {
            "marker": {
             "colorbar": {
              "outlinewidth": 0,
              "ticks": ""
             }
            },
            "type": "scattergeo"
           }
          ],
          "scattergl": [
           {
            "marker": {
             "colorbar": {
              "outlinewidth": 0,
              "ticks": ""
             }
            },
            "type": "scattergl"
           }
          ],
          "scattermapbox": [
           {
            "marker": {
             "colorbar": {
              "outlinewidth": 0,
              "ticks": ""
             }
            },
            "type": "scattermapbox"
           }
          ],
          "scatterpolar": [
           {
            "marker": {
             "colorbar": {
              "outlinewidth": 0,
              "ticks": ""
             }
            },
            "type": "scatterpolar"
           }
          ],
          "scatterpolargl": [
           {
            "marker": {
             "colorbar": {
              "outlinewidth": 0,
              "ticks": ""
             }
            },
            "type": "scatterpolargl"
           }
          ],
          "scatterternary": [
           {
            "marker": {
             "colorbar": {
              "outlinewidth": 0,
              "ticks": ""
             }
            },
            "type": "scatterternary"
           }
          ],
          "surface": [
           {
            "colorbar": {
             "outlinewidth": 0,
             "ticks": ""
            },
            "colorscale": [
             [
              0,
              "#0d0887"
             ],
             [
              0.1111111111111111,
              "#46039f"
             ],
             [
              0.2222222222222222,
              "#7201a8"
             ],
             [
              0.3333333333333333,
              "#9c179e"
             ],
             [
              0.4444444444444444,
              "#bd3786"
             ],
             [
              0.5555555555555556,
              "#d8576b"
             ],
             [
              0.6666666666666666,
              "#ed7953"
             ],
             [
              0.7777777777777778,
              "#fb9f3a"
             ],
             [
              0.8888888888888888,
              "#fdca26"
             ],
             [
              1,
              "#f0f921"
             ]
            ],
            "type": "surface"
           }
          ],
          "table": [
           {
            "cells": {
             "fill": {
              "color": "#EBF0F8"
             },
             "line": {
              "color": "white"
             }
            },
            "header": {
             "fill": {
              "color": "#C8D4E3"
             },
             "line": {
              "color": "white"
             }
            },
            "type": "table"
           }
          ]
         },
         "layout": {
          "annotationdefaults": {
           "arrowcolor": "#2a3f5f",
           "arrowhead": 0,
           "arrowwidth": 1
          },
          "autotypenumbers": "strict",
          "coloraxis": {
           "colorbar": {
            "outlinewidth": 0,
            "ticks": ""
           }
          },
          "colorscale": {
           "diverging": [
            [
             0,
             "#8e0152"
            ],
            [
             0.1,
             "#c51b7d"
            ],
            [
             0.2,
             "#de77ae"
            ],
            [
             0.3,
             "#f1b6da"
            ],
            [
             0.4,
             "#fde0ef"
            ],
            [
             0.5,
             "#f7f7f7"
            ],
            [
             0.6,
             "#e6f5d0"
            ],
            [
             0.7,
             "#b8e186"
            ],
            [
             0.8,
             "#7fbc41"
            ],
            [
             0.9,
             "#4d9221"
            ],
            [
             1,
             "#276419"
            ]
           ],
           "sequential": [
            [
             0,
             "#0d0887"
            ],
            [
             0.1111111111111111,
             "#46039f"
            ],
            [
             0.2222222222222222,
             "#7201a8"
            ],
            [
             0.3333333333333333,
             "#9c179e"
            ],
            [
             0.4444444444444444,
             "#bd3786"
            ],
            [
             0.5555555555555556,
             "#d8576b"
            ],
            [
             0.6666666666666666,
             "#ed7953"
            ],
            [
             0.7777777777777778,
             "#fb9f3a"
            ],
            [
             0.8888888888888888,
             "#fdca26"
            ],
            [
             1,
             "#f0f921"
            ]
           ],
           "sequentialminus": [
            [
             0,
             "#0d0887"
            ],
            [
             0.1111111111111111,
             "#46039f"
            ],
            [
             0.2222222222222222,
             "#7201a8"
            ],
            [
             0.3333333333333333,
             "#9c179e"
            ],
            [
             0.4444444444444444,
             "#bd3786"
            ],
            [
             0.5555555555555556,
             "#d8576b"
            ],
            [
             0.6666666666666666,
             "#ed7953"
            ],
            [
             0.7777777777777778,
             "#fb9f3a"
            ],
            [
             0.8888888888888888,
             "#fdca26"
            ],
            [
             1,
             "#f0f921"
            ]
           ]
          },
          "colorway": [
           "#636efa",
           "#EF553B",
           "#00cc96",
           "#ab63fa",
           "#FFA15A",
           "#19d3f3",
           "#FF6692",
           "#B6E880",
           "#FF97FF",
           "#FECB52"
          ],
          "font": {
           "color": "#2a3f5f"
          },
          "geo": {
           "bgcolor": "white",
           "lakecolor": "white",
           "landcolor": "#E5ECF6",
           "showlakes": true,
           "showland": true,
           "subunitcolor": "white"
          },
          "hoverlabel": {
           "align": "left"
          },
          "hovermode": "closest",
          "mapbox": {
           "style": "light"
          },
          "paper_bgcolor": "white",
          "plot_bgcolor": "#E5ECF6",
          "polar": {
           "angularaxis": {
            "gridcolor": "white",
            "linecolor": "white",
            "ticks": ""
           },
           "bgcolor": "#E5ECF6",
           "radialaxis": {
            "gridcolor": "white",
            "linecolor": "white",
            "ticks": ""
           }
          },
          "scene": {
           "xaxis": {
            "backgroundcolor": "#E5ECF6",
            "gridcolor": "white",
            "gridwidth": 2,
            "linecolor": "white",
            "showbackground": true,
            "ticks": "",
            "zerolinecolor": "white"
           },
           "yaxis": {
            "backgroundcolor": "#E5ECF6",
            "gridcolor": "white",
            "gridwidth": 2,
            "linecolor": "white",
            "showbackground": true,
            "ticks": "",
            "zerolinecolor": "white"
           },
           "zaxis": {
            "backgroundcolor": "#E5ECF6",
            "gridcolor": "white",
            "gridwidth": 2,
            "linecolor": "white",
            "showbackground": true,
            "ticks": "",
            "zerolinecolor": "white"
           }
          },
          "shapedefaults": {
           "line": {
            "color": "#2a3f5f"
           }
          },
          "ternary": {
           "aaxis": {
            "gridcolor": "white",
            "linecolor": "white",
            "ticks": ""
           },
           "baxis": {
            "gridcolor": "white",
            "linecolor": "white",
            "ticks": ""
           },
           "bgcolor": "#E5ECF6",
           "caxis": {
            "gridcolor": "white",
            "linecolor": "white",
            "ticks": ""
           }
          },
          "title": {
           "x": 0.05
          },
          "xaxis": {
           "automargin": true,
           "gridcolor": "white",
           "linecolor": "white",
           "ticks": "",
           "title": {
            "standoff": 15
           },
           "zerolinecolor": "white",
           "zerolinewidth": 2
          },
          "yaxis": {
           "automargin": true,
           "gridcolor": "white",
           "linecolor": "white",
           "ticks": "",
           "title": {
            "standoff": 15
           },
           "zerolinecolor": "white",
           "zerolinewidth": 2
          }
         }
        },
        "title": {
         "text": "Average Delay at Each Station for Trains between Guwahati and Kolkata"
        },
        "xaxis": {
         "anchor": "y",
         "autorange": true,
         "domain": [
          0,
          1
         ],
         "range": [
          0,
          97
         ],
         "tickangle": -45,
         "title": {
          "text": "Station Name"
         },
         "type": "category"
        },
        "yaxis": {
         "anchor": "x",
         "autorange": true,
         "domain": [
          0,
          1
         ],
         "range": [
          0,
          1191.578947368421
         ],
         "title": {
          "text": "Average Delay (minutes)"
         },
         "type": "linear"
        }
       }
      },
      "image/png": "[encoded data removed]",
      "text/html": [
       "<div>                            <div id=\"0346cf09-4e63-4532-aa59-9d3985e85bcc\" class=\"plotly-graph-div\" style=\"height:525px; width:100%;\"></div>            <script type=\"text/javascript\">                require([\"plotly\"], function(Plotly) {                    window.PLOTLYENV=window.PLOTLYENV || {};                                    if (document.getElementById(\"0346cf09-4e63-4532-aa59-9d3985e85bcc\")) {                    Plotly.newPlot(                        \"0346cf09-4e63-4532-aa59-9d3985e85bcc\",                        [{\"fillpattern\":{\"shape\":\"\"},\"hovertemplate\":\"Train_Number=13181<br>Station_Name=%{x}<br>Average_Delay(min)=%{y}<extra></extra>\",\"legendgroup\":\"13181\",\"line\":{\"color\":\"#636efa\"},\"marker\":{\"symbol\":\"circle\"},\"mode\":\"lines\",\"name\":\"13181\",\"orientation\":\"v\",\"showlegend\":true,\"stackgroup\":\"1\",\"x\":[\"KOLKATA \",\"BARDDHAMAN JN \",\"BOLPUR S NIKTN \",\"RAMPUR HAT \",\"MALDA TOWN \",\"NEW JALPAIGURI \",\"NEW COOCH BEHAR \",\"NEW ALIPURDAUR \",\"FAKIRAGRAM JN \",\"NEW BONGAIGAON \",\"KAMAKHYA \",\"GUWAHATI \",\"JAGI ROAD \",\"CHAPARMUKH JN \",\"NAGAON \",\"JAKHALABANDHA \",\"SILGHAT TOWN \"],\"xaxis\":\"x\",\"y\":[1,15,18,32,33,46,75,67,68,44,72,79,83,90,84,83,69],\"yaxis\":\"y\",\"type\":\"scatter\"},{\"fillpattern\":{\"shape\":\"\"},\"hovertemplate\":\"Train_Number=05640<br>Station_Name=%{x}<br>Average_Delay(min)=%{y}<extra></extra>\",\"legendgroup\":\"05640\",\"line\":{\"color\":\"#EF553B\"},\"marker\":{\"symbol\":\"circle\"},\"mode\":\"lines\",\"name\":\"05640\",\"orientation\":\"v\",\"showlegend\":true,\"stackgroup\":\"1\",\"x\":[\"KOLKATA \",\"NAIHATI JN \",\"BANDEL JN \",\"KATWA \",\"AZIMGANJ JN \",\"JANGIPUR ROAD \",\"MALDA TOWN \",\"KUMEDPUR \",\"BARSOI JN \",\"KISHANGANJ \",\"ALUABARI ROAD \",\"NEW JALPAIGURI \",\"DHUPGURI \",\"NEW COOCH BEHAR \",\"NEW ALIPURDAUR \",\"GOSSAIGAON HAT \",\"KOKRAJHAR \",\"NEW BONGAIGAON \",\"GOALPARA TOWN \",\"KAMAKHYA \",\"GUWAHATI \",\"HOJAI \",\"LANKA \",\"LUMDING JN \",\"MAIBANG \",\"NEW HAFLONG \",\"NEW HARANGAJAO \",\"BADARPUR JN \",\"SILCHAR \"],\"xaxis\":\"x\",\"y\":[161,153,165,159,137,126,149,167,165,190,194,176,172,194,193,210,226,238,237,237,258,278,281,281,249,258,264,239,224],\"yaxis\":\"y\",\"type\":\"scatter\"},{\"fillpattern\":{\"shape\":\"\"},\"hovertemplate\":\"Train_Number=02501<br>Station_Name=%{x}<br>Average_Delay(min)=%{y}<extra></extra>\",\"legendgroup\":\"02501\",\"line\":{\"color\":\"#00cc96\"},\"marker\":{\"symbol\":\"circle\"},\"mode\":\"lines\",\"name\":\"02501\",\"orientation\":\"v\",\"showlegend\":true,\"stackgroup\":\"1\",\"x\":[\"KOLKATA \",\"BANDEL JN \",\"NABADWIP DHAM \",\"KATWA \",\"AZIMGANJ JN \",\"JANGIPUR ROAD \",\"MALDA TOWN \",\"KISHANGANJ \",\"NEW JALPAIGURI \",\"NEW COOCH BEHAR \",\"NEW ALIPURDAUR \",\"KOKRAJHAR \",\"NEW BONGAIGAON \",\"GOALPARA TOWN \",\"GUWAHATI \",\"MANDERDISA \",\"NEW HAFLONG \",\"BADARPUR JN \",\"NEW KARIMGANJ \",\"DHARMANAGAR \",\"AGARTALA \"],\"xaxis\":\"x\",\"y\":[7,11,22,19,14,19,73,131,129,167,156,175,166,169,230,262,262,237,247,240,227],\"yaxis\":\"y\",\"type\":\"scatter\"},{\"fillpattern\":{\"shape\":\"\"},\"hovertemplate\":\"Train_Number=02517<br>Station_Name=%{x}<br>Average_Delay(min)=%{y}<extra></extra>\",\"legendgroup\":\"02517\",\"line\":{\"color\":\"#ab63fa\"},\"marker\":{\"symbol\":\"circle\"},\"mode\":\"lines\",\"name\":\"02517\",\"orientation\":\"v\",\"showlegend\":true,\"stackgroup\":\"1\",\"x\":[\"KOLKATA \",\"BANDEL JN \",\"NABADWIP DHAM \",\"KATWA \",\"AZIMGANJ JN \",\"JANGIPUR ROAD \",\"MALDA TOWN \",\"KISHANGANJ \",\"NEW JALPAIGURI \",\"NEW COOCH BEHAR \",\"NEW ALIPURDAUR \",\"KOKRAJHAR \",\"NEW BONGAIGAON \",\"GOALPARA TOWN \",\"GUWAHATI \"],\"xaxis\":\"x\",\"y\":[19,26,34,33,25,34,75,140,135,177,169,191,180,194,186],\"yaxis\":\"y\",\"type\":\"scatter\"},{\"fillpattern\":{\"shape\":\"\"},\"hovertemplate\":\"Train_Number=22502<br>Station_Name=%{x}<br>Average_Delay(min)=%{y}<extra></extra>\",\"legendgroup\":\"22502\",\"line\":{\"color\":\"#FFA15A\"},\"marker\":{\"symbol\":\"circle\"},\"mode\":\"lines\",\"name\":\"22502\",\"orientation\":\"v\",\"showlegend\":true,\"stackgroup\":\"1\",\"x\":[\"NEW TINSUKIA JN \",\"DIBRUGARH \",\"MORANHAT \",\"SIBSAGAR TOWN \",\"SIMALUGURI JN \",\"MARIANI JN \",\"FURKATING JN \",\"DIMAPUR \",\"DIPHU \",\"LUMDING JN \",\"GUWAHATI \",\"GOALPARA TOWN \",\"NEW BONGAIGAON \",\"NEW ALIPURDAUR \",\"NEW COOCH BEHAR \",\"JALPAIGURI ROAD \",\"NEW JALPAIGURI \",\"KISHANGANJ \",\"MALDA TOWN \",\"RAMPUR HAT \",\"BOLPUR S NIKTN \",\"DANKUNI \",\"KHARAGPUR JN \",\"BALASORE \",\"CUTTACK \",\"BHUBANESWAR \",\"KHURDA ROAD JN \",\"BRAHMAPUR \",\"VIZIANAGRAM JN \",\"VISHAKAPATNAM \",\"RAJAMUNDRY \",\"VIJAYAWADA JN \",\"ONGOLE \",\"NELLORE \",\"PERAMBUR \",\"KATPADI JN \",\"JOLARPETTAI \",\"KRISHNARAJAPURM \",\"SMVT BENGALURU \"],\"xaxis\":\"x\",\"y\":[13,21,33,29,27,28,18,43,45,36,22,62,49,66,76,57,49,75,43,53,63,88,89,90,114,114,117,131,124,125,158,175,184,196,210,206,208,209,168],\"yaxis\":\"y\",\"type\":\"scatter\"},{\"fillpattern\":{\"shape\":\"\"},\"hovertemplate\":\"Train_Number=12508<br>Station_Name=%{x}<br>Average_Delay(min)=%{y}<extra></extra>\",\"legendgroup\":\"12508\",\"line\":{\"color\":\"#19d3f3\"},\"marker\":{\"symbol\":\"circle\"},\"mode\":\"lines\",\"name\":\"12508\",\"orientation\":\"v\",\"showlegend\":true,\"stackgroup\":\"1\",\"x\":[\"SILCHAR \",\"BADARPUR JN \",\"NEW HAFLONG \",\"MAIBANG \",\"LUMDING JN \",\"HOJAI \",\"GUWAHATI \",\"KAMAKHYA \",\"RANGIYA JN \",\"BARPETA ROAD \",\"BONGAIGAON \",\"NEW BONGAIGAON \",\"KOKRAJHAR \",\"NEW ALIPURDAUR \",\"NEW COOCH BEHAR \",\"DHUPGURI \",\"NEW JALPAIGURI \",\"KISHANGANJ \",\"MALDA TOWN \",\"PAKUR \",\"RAMPUR HAT \",\"BOLPUR S NIKTN \",\"DANKUNI \",\"KHARAGPUR JN \",\"BALASORE \",\"BHADRAKH \",\"JAJPUR K ROAD \",\"CUTTACK \",\"BHUBANESWAR \",\"KHURDA ROAD JN \",\"BALUGAN \",\"BRAHMAPUR \",\"PALASA \",\"SRIKAKULAM ROAD \",\"VIZIANAGRAM JN \",\"VISHAKAPATNAM \",\"RAJAMUNDRY \",\"VIJAYAWADA JN \",\"PERAMBUR \",\"ARAKKONAM \",\"KATPADI JN \",\"JOLARPETTAI \",\"SALEM JN \",\"ERODE JN \",\"TIRUPPUR \",\"COIMBATORE JN \",\"PALAKKAD JN \",\"THRISUR \",\"ALUVA \",\"ERNAKULAM TOWN \",\"KOTTAYAM \",\"TIRUVALLA \",\"CHENGANNUR \",\"MAVELIKARA \",\"KAYANKULAM JN \",\"KOLLAM JN \",\"TRIVANDRUM CNTL \"],\"xaxis\":\"x\",\"y\":[18,33,29,25,46,51,78,82,106,132,219,95,105,124,132,137,109,133,113,114,113,129,168,170,177,192,200,213,220,222,241,243,222,232,248,254,284,291,312,310,305,302,310,309,310,300,309,316,309,315,316,314,316,318,317,317,292],\"yaxis\":\"y\",\"type\":\"scatter\"},{\"fillpattern\":{\"shape\":\"\"},\"hovertemplate\":\"Train_Number=12510<br>Station_Name=%{x}<br>Average_Delay(min)=%{y}<extra></extra>\",\"legendgroup\":\"12510\",\"line\":{\"color\":\"#FF6692\"},\"marker\":{\"symbol\":\"circle\"},\"mode\":\"lines\",\"name\":\"12510\",\"orientation\":\"v\",\"showlegend\":true,\"stackgroup\":\"1\",\"x\":[\"GUWAHATI \",\"KAMAKHYA \",\"RANGIYA JN \",\"BARPETA ROAD \",\"BONGAIGAON \",\"NEW BONGAIGAON \",\"KOKRAJHAR \",\"NEW ALIPURDAUR \",\"NEW COOCH BEHAR \",\"DHUPGURI \",\"JALPAIGURI ROAD \",\"NEW JALPAIGURI \",\"KISHANGANJ \",\"BARSOI JN \",\"MALDA TOWN \",\"NEW FARAKKA JN \",\"RAMPUR HAT \",\"BOLPUR S NIKTN \",\"DANKUNI \",\"KHARAGPUR JN \",\"BALASORE \",\"BHADRAKH \",\"JAJPUR K ROAD \",\"CUTTACK \",\"BHUBANESWAR \",\"KHURDA ROAD JN \",\"BALUGAN \",\"BRAHMAPUR \",\"PALASA \",\"SRIKAKULAM ROAD \",\"VIZIANAGRAM JN \",\"VISHAKAPATNAM \",\"RAJAMUNDRY \",\"VIJAYAWADA JN \",\"PERAMBUR \",\"ARAKKONAM \",\"KATPADI JN \",\"JOLARPETTAI \",\"BANGARAPET \",\"KRISHNARAJAPURM \",\"SMVT BENGALURU \"],\"xaxis\":\"x\",\"y\":[26,30,49,83,74,55,63,80,90,93,87,67,96,95,71,81,73,90,118,127,136,150,157,175,178,180,200,205,191,201,204,210,248,255,281,286,280,286,301,296,282],\"yaxis\":\"y\",\"type\":\"scatter\"},{\"fillpattern\":{\"shape\":\"\"},\"hovertemplate\":\"Train_Number=12516<br>Station_Name=%{x}<br>Average_Delay(min)=%{y}<extra></extra>\",\"legendgroup\":\"12516\",\"line\":{\"color\":\"#B6E880\"},\"marker\":{\"symbol\":\"circle\"},\"mode\":\"lines\",\"name\":\"12516\",\"orientation\":\"v\",\"showlegend\":true,\"stackgroup\":\"1\",\"x\":[\"SILCHAR \",\"BADARPUR JN \",\"NEW HAFLONG \",\"MAIBANG \",\"LUMDING JN \",\"HOJAI \",\"GUWAHATI \",\"KAMAKHYA \",\"RANGIYA JN \",\"BARPETA ROAD \",\"BONGAIGAON \",\"NEW BONGAIGAON \",\"KOKRAJHAR \",\"NEW ALIPURDAUR \",\"NEW COOCH BEHAR \",\"DHUPGURI \",\"NEW JALPAIGURI \",\"KISHANGANJ \",\"MALDA TOWN \",\"NEW FARAKKA JN \",\"RAMPUR HAT \",\"BOLPUR S NIKTN \",\"DANKUNI \",\"KHARAGPUR JN \",\"BALASORE \",\"BHADRAKH \",\"JAJPUR K ROAD \",\"CUTTACK \",\"BHUBANESWAR \",\"KHURDA ROAD JN \",\"BALUGAN \",\"BRAHMAPUR \",\"PALASA \",\"SRIKAKULAM ROAD \",\"VIZIANAGRAM JN \",\"VISHAKAPATNAM \",\"RAJAMUNDRY \",\"VIJAYAWADA JN \",\"PERAMBUR \",\"ARAKKONAM \",\"KATPADI JN \",\"JOLARPETTAI \",\"SALEM JN \",\"ERODE JN \",\"TIRUPPUR \",\"COIMBATORE JN \"],\"xaxis\":\"x\",\"y\":[2,20,20,45,25,29,55,62,86,100,64,69,75,94,101,102,74,98,75,83,91,114,146,149,158,181,190,207,216,224,258,263,245,255,255,261,295,308,328,335,334,336,352,356,363,327],\"yaxis\":\"y\",\"type\":\"scatter\"}],                        {\"template\":{\"data\":{\"histogram2dcontour\":[{\"type\":\"histogram2dcontour\",\"colorbar\":{\"outlinewidth\":0,\"ticks\":\"\"},\"colorscale\":[[0.0,\"#0d0887\"],[0.1111111111111111,\"#46039f\"],[0.2222222222222222,\"#7201a8\"],[0.3333333333333333,\"#9c179e\"],[0.4444444444444444,\"#bd3786\"],[0.5555555555555556,\"#d8576b\"],[0.6666666666666666,\"#ed7953\"],[0.7777777777777778,\"#fb9f3a\"],[0.8888888888888888,\"#fdca26\"],[1.0,\"#f0f921\"]]}],\"choropleth\":[{\"type\":\"choropleth\",\"colorbar\":{\"outlinewidth\":0,\"ticks\":\"\"}}],\"histogram2d\":[{\"type\":\"histogram2d\",\"colorbar\":{\"outlinewidth\":0,\"ticks\":\"\"},\"colorscale\":[[0.0,\"#0d0887\"],[0.1111111111111111,\"#46039f\"],[0.2222222222222222,\"#7201a8\"],[0.3333333333333333,\"#9c179e\"],[0.4444444444444444,\"#bd3786\"],[0.5555555555555556,\"#d8576b\"],[0.6666666666666666,\"#ed7953\"],[0.7777777777777778,\"#fb9f3a\"],[0.8888888888888888,\"#fdca26\"],[1.0,\"#f0f921\"]]}],\"heatmap\":[{\"type\":\"heatmap\",\"colorbar\":{\"outlinewidth\":0,\"ticks\":\"\"},\"colorscale\":[[0.0,\"#0d0887\"],[0.1111111111111111,\"#46039f\"],[0.2222222222222222,\"#7201a8\"],[0.3333333333333333,\"#9c179e\"],[0.4444444444444444,\"#bd3786\"],[0.5555555555555556,\"#d8576b\"],[0.6666666666666666,\"#ed7953\"],[0.7777777777777778,\"#fb9f3a\"],[0.8888888888888888,\"#fdca26\"],[1.0,\"#f0f921\"]]}],\"heatmapgl\":[{\"type\":\"heatmapgl\",\"colorbar\":{\"outlinewidth\":0,\"ticks\":\"\"},\"colorscale\":[[0.0,\"#0d0887\"],[0.1111111111111111,\"#46039f\"],[0.2222222222222222,\"#7201a8\"],[0.3333333333333333,\"#9c179e\"],[0.4444444444444444,\"#bd3786\"],[0.5555555555555556,\"#d8576b\"],[0.6666666666666666,\"#ed7953\"],[0.7777777777777778,\"#fb9f3a\"],[0.8888888888888888,\"#fdca26\"],[1.0,\"#f0f921\"]]}],\"contourcarpet\":[{\"type\":\"contourcarpet\",\"colorbar\":{\"outlinewidth\":0,\"ticks\":\"\"}}],\"contour\":[{\"type\":\"contour\",\"colorbar\":{\"outlinewidth\":0,\"ticks\":\"\"},\"colorscale\":[[0.0,\"#0d0887\"],[0.1111111111111111,\"#46039f\"],[0.2222222222222222,\"#7201a8\"],[0.3333333333333333,\"#9c179e\"],[0.4444444444444444,\"#bd3786\"],[0.5555555555555556,\"#d8576b\"],[0.6666666666666666,\"#ed7953\"],[0.7777777777777778,\"#fb9f3a\"],[0.8888888888888888,\"#fdca26\"],[1.0,\"#f0f921\"]]}],\"surface\":[{\"type\":\"surface\",\"colorbar\":{\"outlinewidth\":0,\"ticks\":\"\"},\"colorscale\":[[0.0,\"#0d0887\"],[0.1111111111111111,\"#46039f\"],[0.2222222222222222,\"#7201a8\"],[0.3333333333333333,\"#9c179e\"],[0.4444444444444444,\"#bd3786\"],[0.5555555555555556,\"#d8576b\"],[0.6666666666666666,\"#ed7953\"],[0.7777777777777778,\"#fb9f3a\"],[0.8888888888888888,\"#fdca26\"],[1.0,\"#f0f921\"]]}],\"mesh3d\":[{\"type\":\"mesh3d\",\"colorbar\":{\"outlinewidth\":0,\"ticks\":\"\"}}],\"scatter\":[{\"fillpattern\":{\"fillmode\":\"overlay\",\"size\":10,\"solidity\":0.2},\"type\":\"scatter\"}],\"parcoords\":[{\"type\":\"parcoords\",\"line\":{\"colorbar\":{\"outlinewidth\":0,\"ticks\":\"\"}}}],\"scatterpolargl\":[{\"type\":\"scatterpolargl\",\"marker\":{\"colorbar\":{\"outlinewidth\":0,\"ticks\":\"\"}}}],\"bar\":[{\"error_x\":{\"color\":\"#2a3f5f\"},\"error_y\":{\"color\":\"#2a3f5f\"},\"marker\":{\"line\":{\"color\":\"#E5ECF6\",\"width\":0.5},\"pattern\":{\"fillmode\":\"overlay\",\"size\":10,\"solidity\":0.2}},\"type\":\"bar\"}],\"scattergeo\":[{\"type\":\"scattergeo\",\"marker\":{\"colorbar\":{\"outlinewidth\":0,\"ticks\":\"\"}}}],\"scatterpolar\":[{\"type\":\"scatterpolar\",\"marker\":{\"colorbar\":{\"outlinewidth\":0,\"ticks\":\"\"}}}],\"histogram\":[{\"marker\":{\"pattern\":{\"fillmode\":\"overlay\",\"size\":10,\"solidity\":0.2}},\"type\":\"histogram\"}],\"scattergl\":[{\"type\":\"scattergl\",\"marker\":{\"colorbar\":{\"outlinewidth\":0,\"ticks\":\"\"}}}],\"scatter3d\":[{\"type\":\"scatter3d\",\"line\":{\"colorbar\":{\"outlinewidth\":0,\"ticks\":\"\"}},\"marker\":{\"colorbar\":{\"outlinewidth\":0,\"ticks\":\"\"}}}],\"scattermapbox\":[{\"type\":\"scattermapbox\",\"marker\":{\"colorbar\":{\"outlinewidth\":0,\"ticks\":\"\"}}}],\"scatterternary\":[{\"type\":\"scatterternary\",\"marker\":{\"colorbar\":{\"outlinewidth\":0,\"ticks\":\"\"}}}],\"scattercarpet\":[{\"type\":\"scattercarpet\",\"marker\":{\"colorbar\":{\"outlinewidth\":0,\"ticks\":\"\"}}}],\"carpet\":[{\"aaxis\":{\"endlinecolor\":\"#2a3f5f\",\"gridcolor\":\"white\",\"linecolor\":\"white\",\"minorgridcolor\":\"white\",\"startlinecolor\":\"#2a3f5f\"},\"baxis\":{\"endlinecolor\":\"#2a3f5f\",\"gridcolor\":\"white\",\"linecolor\":\"white\",\"minorgridcolor\":\"white\",\"startlinecolor\":\"#2a3f5f\"},\"type\":\"carpet\"}],\"table\":[{\"cells\":{\"fill\":{\"color\":\"#EBF0F8\"},\"line\":{\"color\":\"white\"}},\"header\":{\"fill\":{\"color\":\"#C8D4E3\"},\"line\":{\"color\":\"white\"}},\"type\":\"table\"}],\"barpolar\":[{\"marker\":{\"line\":{\"color\":\"#E5ECF6\",\"width\":0.5},\"pattern\":{\"fillmode\":\"overlay\",\"size\":10,\"solidity\":0.2}},\"type\":\"barpolar\"}],\"pie\":[{\"automargin\":true,\"type\":\"pie\"}]},\"layout\":{\"autotypenumbers\":\"strict\",\"colorway\":[\"#636efa\",\"#EF553B\",\"#00cc96\",\"#ab63fa\",\"#FFA15A\",\"#19d3f3\",\"#FF6692\",\"#B6E880\",\"#FF97FF\",\"#FECB52\"],\"font\":{\"color\":\"#2a3f5f\"},\"hovermode\":\"closest\",\"hoverlabel\":{\"align\":\"left\"},\"paper_bgcolor\":\"white\",\"plot_bgcolor\":\"#E5ECF6\",\"polar\":{\"bgcolor\":\"#E5ECF6\",\"angularaxis\":{\"gridcolor\":\"white\",\"linecolor\":\"white\",\"ticks\":\"\"},\"radialaxis\":{\"gridcolor\":\"white\",\"linecolor\":\"white\",\"ticks\":\"\"}},\"ternary\":{\"bgcolor\":\"#E5ECF6\",\"aaxis\":{\"gridcolor\":\"white\",\"linecolor\":\"white\",\"ticks\":\"\"},\"baxis\":{\"gridcolor\":\"white\",\"linecolor\":\"white\",\"ticks\":\"\"},\"caxis\":{\"gridcolor\":\"white\",\"linecolor\":\"white\",\"ticks\":\"\"}},\"coloraxis\":{\"colorbar\":{\"outlinewidth\":0,\"ticks\":\"\"}},\"colorscale\":{\"sequential\":[[0.0,\"#0d0887\"],[0.1111111111111111,\"#46039f\"],[0.2222222222222222,\"#7201a8\"],[0.3333333333333333,\"#9c179e\"],[0.4444444444444444,\"#bd3786\"],[0.5555555555555556,\"#d8576b\"],[0.6666666666666666,\"#ed7953\"],[0.7777777777777778,\"#fb9f3a\"],[0.8888888888888888,\"#fdca26\"],[1.0,\"#f0f921\"]],\"sequentialminus\":[[0.0,\"#0d0887\"],[0.1111111111111111,\"#46039f\"],[0.2222222222222222,\"#7201a8\"],[0.3333333333333333,\"#9c179e\"],[0.4444444444444444,\"#bd3786\"],[0.5555555555555556,\"#d8576b\"],[0.6666666666666666,\"#ed7953\"],[0.7777777777777778,\"#fb9f3a\"],[0.8888888888888888,\"#fdca26\"],[1.0,\"#f0f921\"]],\"diverging\":[[0,\"#8e0152\"],[0.1,\"#c51b7d\"],[0.2,\"#de77ae\"],[0.3,\"#f1b6da\"],[0.4,\"#fde0ef\"],[0.5,\"#f7f7f7\"],[0.6,\"#e6f5d0\"],[0.7,\"#b8e186\"],[0.8,\"#7fbc41\"],[0.9,\"#4d9221\"],[1,\"#276419\"]]},\"xaxis\":{\"gridcolor\":\"white\",\"linecolor\":\"white\",\"ticks\":\"\",\"title\":{\"standoff\":15},\"zerolinecolor\":\"white\",\"automargin\":true,\"zerolinewidth\":2},\"yaxis\":{\"gridcolor\":\"white\",\"linecolor\":\"white\",\"ticks\":\"\",\"title\":{\"standoff\":15},\"zerolinecolor\":\"white\",\"automargin\":true,\"zerolinewidth\":2},\"scene\":{\"xaxis\":{\"backgroundcolor\":\"#E5ECF6\",\"gridcolor\":\"white\",\"linecolor\":\"white\",\"showbackground\":true,\"ticks\":\"\",\"zerolinecolor\":\"white\",\"gridwidth\":2},\"yaxis\":{\"backgroundcolor\":\"#E5ECF6\",\"gridcolor\":\"white\",\"linecolor\":\"white\",\"showbackground\":true,\"ticks\":\"\",\"zerolinecolor\":\"white\",\"gridwidth\":2},\"zaxis\":{\"backgroundcolor\":\"#E5ECF6\",\"gridcolor\":\"white\",\"linecolor\":\"white\",\"showbackground\":true,\"ticks\":\"\",\"zerolinecolor\":\"white\",\"gridwidth\":2}},\"shapedefaults\":{\"line\":{\"color\":\"#2a3f5f\"}},\"annotationdefaults\":{\"arrowcolor\":\"#2a3f5f\",\"arrowhead\":0,\"arrowwidth\":1},\"geo\":{\"bgcolor\":\"white\",\"landcolor\":\"#E5ECF6\",\"subunitcolor\":\"white\",\"showland\":true,\"showlakes\":true,\"lakecolor\":\"white\"},\"title\":{\"x\":0.05},\"mapbox\":{\"style\":\"light\"}}},\"xaxis\":{\"anchor\":\"y\",\"domain\":[0.0,1.0],\"title\":{\"text\":\"Station Name\"},\"tickangle\":-45},\"yaxis\":{\"anchor\":\"x\",\"domain\":[0.0,1.0],\"title\":{\"text\":\"Average Delay (minutes)\"}},\"legend\":{\"title\":{\"text\":\"Train_Number\"},\"tracegroupgap\":0},\"title\":{\"text\":\"Average Delay at Each Station for Trains between Guwahati and Kolkata\"}},                        {\"responsive\": true}                    ).then(function(){\n",
       "                            \n",
       "var gd = document.getElementById('0346cf09-4e63-4532-aa59-9d3985e85bcc');\n",
       "var x = new MutationObserver(function (mutations, observer) {{\n",
       "        var display = window.getComputedStyle(gd).display;\n",
       "        if (!display || display === 'none') {{\n",
       "            console.log([gd, 'removed!']);\n",
       "            Plotly.purge(gd);\n",
       "            observer.disconnect();\n",
       "        }}\n",
       "}});\n",
       "\n",
       "// Listen for the removal of the full notebook cells\n",
       "var notebookContainer = gd.closest('#notebook-container');\n",
       "if (notebookContainer) {{\n",
       "    x.observe(notebookContainer, {childList: true});\n",
       "}}\n",
       "\n",
       "// Listen for the clearing of the current output cell\n",
       "var outputEl = gd.closest('.output');\n",
       "if (outputEl) {{\n",
       "    x.observe(outputEl, {childList: true});\n",
       "}}\n",
       "\n",
       "                        })                };                });            </script>        </div>"
      ]
     },
     "metadata": {},
     "output_type": "display_data"
    }
   ],
   "source": [
    "# List of train numbers running between Guwahati and Kolkata\n",
    "train_numbers_kolkata = [\"13181\", \"05640\", \"02501\", \"02517\", \"22502\", \"12508\", \"12510\", \"12516\"]\n",
    "\n",
    "# Create a DataFrame to store combined route data\n",
    "combined_data_kolkata = pd.DataFrame()\n",
    "\n",
    "# Load route data for each train and append to the combined DataFrame\n",
    "for train_number in train_numbers_kolkata:\n",
    "    route_data = load_route_data(train_number)\n",
    "    route_data['Train_Number'] = train_number  # Add train number as a column\n",
    "    combined_data_kolkata = pd.concat([combined_data_kolkata, route_data])  # Concatenate route data\n",
    "\n",
    "# Plot the average delay at each station for all trains combined using plotly\n",
    "fig_kolkata = px.area(combined_data_kolkata, x='Station_Name', y='Average_Delay(min)', color='Train_Number',\n",
    "                      title='Average Delay at Each Station for Trains between Guwahati and Kolkata')\n",
    "fig_kolkata.update_layout(xaxis_title='Station Name', yaxis_title='Average Delay (minutes)', xaxis_tickangle=-45)\n",
    "fig_kolkata.show()"
   ]
  },
  {
   "cell_type": "code",
   "execution_count": 29,
   "id": "3df35f61-a117-41cc-9362-af05965c3a36",
   "metadata": {},
   "outputs": [
    {
     "data": {
      "application/vnd.plotly.v1+json": {
       "config": {
        "plotlyServerURL": "https://plot.ly"
       },
       "data": [
        {
         "fillpattern": {
          "shape": ""
         },
         "hovertemplate": "Train_Number=20503<br>Station_Name=%{x}<br>Average_Delay(min)=%{y}<extra></extra>",
         "legendgroup": "20503",
         "line": {
          "color": "#636efa"
         },
         "marker": {
          "symbol": "circle"
         },
         "mode": "lines",
         "name": "20503",
         "orientation": "v",
         "showlegend": true,
         "stackgroup": "1",
         "type": "scatter",
         "x": [
          "DIBRUGARH ",
          "MORANHAT ",
          "SIMALUGURI JN ",
          "MARIANI JN ",
          "DIMAPUR ",
          "LUMDING JN ",
          "GUWAHATI ",
          "BONGAIGAON ",
          "NEW BONGAIGAON ",
          "KOKRAJHAR ",
          "NEW ALIPURDAUR ",
          "NEW COOCH BEHAR ",
          "NEW JALPAIGURI ",
          "KISHANGANJ ",
          "KATIHAR JN ",
          "SAMASTIPUR JN ",
          "MUZAFFARPUR JN ",
          "HAJIPUR JN ",
          "CHHAPRA ",
          "BALLIA ",
          "VARANASI JN ",
          "LUCKNOW NR ",
          "BAREILLY ",
          "MORADABAD ",
          "NEW DELHI "
         ],
         "xaxis": "x",
         "y": [
          5,
          14,
          13,
          16,
          20,
          17,
          11,
          13,
          25,
          24,
          37,
          38,
          30,
          42,
          34,
          29,
          35,
          33,
          28,
          38,
          31,
          34,
          42,
          39,
          43
         ],
         "yaxis": "y"
        },
        {
         "fillpattern": {
          "shape": ""
         },
         "hovertemplate": "Train_Number=14037<br>Station_Name=%{x}<br>Average_Delay(min)=%{y}<extra></extra>",
         "legendgroup": "14037",
         "line": {
          "color": "#EF553B"
         },
         "marker": {
          "symbol": "circle"
         },
         "mode": "lines",
         "name": "14037",
         "orientation": "v",
         "showlegend": true,
         "stackgroup": "1",
         "type": "scatter",
         "x": [
          "SILCHAR ",
          "BADARPUR JN ",
          "NEW HAFLONG ",
          "LUMDING JN ",
          "GUWAHATI ",
          "GOALPARA TOWN ",
          "NEW BONGAIGAON ",
          "NEW JALPAIGURI ",
          "KATIHAR JN ",
          "BARAUNI JN ",
          "PATLIPUTRA ",
          "PT DEEN DAYAL UPADHYAY JN ",
          "PRAYAGRAJ JN ",
          "KANPUR CENTRAL ",
          "NEW DELHI "
         ],
         "xaxis": "x",
         "y": [
          2,
          22,
          17,
          19,
          2,
          32,
          18,
          30,
          23,
          46,
          40,
          40,
          84,
          109,
          139
         ],
         "yaxis": "y"
        },
        {
         "fillpattern": {
          "shape": ""
         },
         "hovertemplate": "Train_Number=14619<br>Station_Name=%{x}<br>Average_Delay(min)=%{y}<extra></extra>",
         "legendgroup": "14619",
         "line": {
          "color": "#00cc96"
         },
         "marker": {
          "symbol": "circle"
         },
         "mode": "lines",
         "name": "14619",
         "orientation": "v",
         "showlegend": true,
         "stackgroup": "1",
         "type": "scatter",
         "x": [
          "AGARTALA ",
          "AMBASA ",
          "DHARMANAGAR ",
          "PATHARKANDI ",
          "NEW KARIMGANJ ",
          "BADARPUR JN ",
          "NEW HAFLONG ",
          "LUMDING JN ",
          "HOJAI ",
          "JAGI ROAD ",
          "GUWAHATI ",
          "NEW BONGAIGAON ",
          "NEW JALPAIGURI ",
          "KATIHAR JN ",
          "BARAUNI JN ",
          "PATLIPUTRA ",
          "PT DEEN DAYAL UPADHYAY JN ",
          "PRAYAGRAJ JN ",
          "KANPUR CENTRAL ",
          "NEW DELHI ",
          "SHAKURBASTI ",
          "ROHTAK JN ",
          "BHIWANI ",
          "HISAR ",
          "MANDI ADAMPUR ",
          "SIRSA ",
          "KALANWALI ",
          "BHATINDA JN ",
          "KOT KAPURA ",
          "FARIDKOT ",
          "FIROZPUR CANT "
         ],
         "xaxis": "x",
         "y": [
          41,
          57,
          52,
          53,
          51,
          56,
          56,
          66,
          65,
          70,
          44,
          56,
          82,
          69,
          92,
          81,
          92,
          145,
          186,
          262,
          295,
          305,
          319,
          325,
          328,
          311,
          320,
          263,
          286,
          289,
          265
         ],
         "yaxis": "y"
        },
        {
         "fillpattern": {
          "shape": ""
         },
         "hovertemplate": "Train_Number=22449<br>Station_Name=%{x}<br>Average_Delay(min)=%{y}<extra></extra>",
         "legendgroup": "22449",
         "line": {
          "color": "#ab63fa"
         },
         "marker": {
          "symbol": "circle"
         },
         "mode": "lines",
         "name": "22449",
         "orientation": "v",
         "showlegend": true,
         "stackgroup": "1",
         "type": "scatter",
         "x": [
          "GUWAHATI ",
          "GOALPARA TOWN ",
          "NEW BONGAIGAON ",
          "NEW JALPAIGURI ",
          "KISHANGANJ ",
          "KATIHAR JN ",
          "BARAUNI JN ",
          "PATLIPUTRA ",
          "PT DEEN DAYAL UPADHYAY JN ",
          "PRAYAGRAJ JN ",
          "KANPUR CENTRAL ",
          "NEW DELHI "
         ],
         "xaxis": "x",
         "y": [
          5,
          38,
          18,
          36,
          50,
          21,
          34,
          24,
          28,
          70,
          92,
          101
         ],
         "yaxis": "y"
        },
        {
         "fillpattern": {
          "shape": ""
         },
         "hovertemplate": "Train_Number=12423<br>Station_Name=%{x}<br>Average_Delay(min)=%{y}<extra></extra>",
         "legendgroup": "12423",
         "line": {
          "color": "#FFA15A"
         },
         "marker": {
          "symbol": "circle"
         },
         "mode": "lines",
         "name": "12423",
         "orientation": "v",
         "showlegend": true,
         "stackgroup": "1",
         "type": "scatter",
         "x": [
          "DIBRUGARH ",
          "DIBRUGARH TOWN ",
          "NEW TINSUKIA JN ",
          "MARIANI JN ",
          "DIMAPUR ",
          "LUMDING JN ",
          "CHAPARMUKH JN ",
          "GUWAHATI ",
          "BONGAIGAON ",
          "NEW BONGAIGAON ",
          "KOKRAJHAR ",
          "NEW COOCH BEHAR ",
          "NEW JALPAIGURI ",
          "KISHANGANJ ",
          "KATIHAR JN ",
          "NAUGACHIA ",
          "BARAUNI JN ",
          "PATLIPUTRA ",
          "DANAPUR ",
          "PT DEEN DAYAL UPADHYAY JN ",
          "PRAYAGRAJ JN ",
          "KANPUR CENTRAL ",
          "NEW DELHI "
         ],
         "xaxis": "x",
         "y": [
          8,
          3,
          9,
          21,
          26,
          35,
          42,
          34,
          27,
          44,
          50,
          67,
          48,
          57,
          50,
          53,
          60,
          42,
          45,
          40,
          62,
          76,
          88
         ],
         "yaxis": "y"
        },
        {
         "fillpattern": {
          "shape": ""
         },
         "hovertemplate": "Train_Number=15909<br>Station_Name=%{x}<br>Average_Delay(min)=%{y}<extra></extra>",
         "legendgroup": "15909",
         "line": {
          "color": "#19d3f3"
         },
         "marker": {
          "symbol": "circle"
         },
         "mode": "lines",
         "name": "15909",
         "orientation": "v",
         "showlegend": true,
         "stackgroup": "1",
         "type": "scatter",
         "x": [
          "DIBRUGARH ",
          "NEW TINSUKIA JN ",
          "BHOJO ",
          "SIMALUGURI JN ",
          "MARIANI JN ",
          "FURKATING JN ",
          "SARUPATHAR ",
          "DIMAPUR ",
          "DIPHU ",
          "LUMDING JN ",
          "HOJAI ",
          "CHAPARMUKH JN ",
          "JAGI ROAD ",
          "GUWAHATI ",
          "KAMAKHYA ",
          "RANGIYA JN ",
          "BARPETA ROAD ",
          "BONGAIGAON ",
          "NEW BONGAIGAON ",
          "NEW ALIPURDAUR ",
          "NEW COOCH BEHAR ",
          "DHUPGURI ",
          "JALPAIGURI ROAD ",
          "NEW JALPAIGURI ",
          "ALUABARI ROAD ",
          "KISHANGANJ ",
          "DALKOLHA ",
          "BARSOI JN ",
          "AZAMNAGAR ROAD ",
          "KATIHAR JN ",
          "NAUGACHIA ",
          "THANA BIHPUR JN ",
          "MANSI JN ",
          "KHAGARIA JN ",
          "BEGU SARAI ",
          "BARAUNI JN ",
          "DALSINGH SARAI ",
          "SAMASTIPUR JN ",
          "MUZAFFARPUR JN ",
          "HAJIPUR JN ",
          "SONPUR JN ",
          "CHHAPRA ",
          "EKMA ",
          "SIWAN JN ",
          "BHATPAR RANI ",
          "BHATNI JN ",
          "DEORIA SADAR ",
          "GORAKHPUR JN ",
          "KHALILABAD ",
          "BASTI ",
          "MANKAPUR JN ",
          "GONDA JN ",
          "BARABANKI JN ",
          "LUCKNOW NR ",
          "BALAMU JN ",
          "HARDOI ",
          "SHAHJEHANPUR ",
          "BAREILLY ",
          "RAMPUR ",
          "MORADABAD ",
          "AMROHA ",
          "HAPUR ",
          "PILKHUA ",
          "GHAZIABAD ",
          "DELHI ",
          "DELHI KISHANGNJ ",
          "SHAKURBASTI ",
          "NANGLOI ",
          "BAHADURGARH ",
          "ROHTAK JN ",
          "JIND JN ",
          "NARWANA JN ",
          "TOHANA ",
          "JAKHAL JN ",
          "BARETA ",
          "BUDHLADA ",
          "MANSA ",
          "MAUR ",
          "BHATINDA JN ",
          "MANDI DABWALI ",
          "SANGARIA ",
          "HANUMANGARH JN ",
          "PILI BANGAN ",
          "SURATGARH JN ",
          "MAHAJAN ",
          "LUNKARANSAR ",
          "LALGARH JN "
         ],
         "xaxis": "x",
         "y": [
          8,
          10,
          22,
          25,
          25,
          10,
          16,
          24,
          30,
          26,
          39,
          48,
          58,
          17,
          18,
          25,
          50,
          29,
          39,
          48,
          46,
          47,
          49,
          45,
          59,
          62,
          68,
          68,
          72,
          31,
          44,
          49,
          60,
          66,
          77,
          71,
          86,
          81,
          92,
          96,
          102,
          72,
          81,
          59,
          65,
          64,
          63,
          78,
          81,
          86,
          94,
          100,
          96,
          84,
          79,
          90,
          70,
          70,
          89,
          89,
          94,
          103,
          105,
          112,
          129,
          135,
          144,
          150,
          154,
          154,
          159,
          164,
          164,
          162,
          163,
          164,
          165,
          168,
          124,
          142,
          151,
          139,
          142,
          139,
          149,
          153,
          107
         ],
         "yaxis": "y"
        },
        {
         "fillpattern": {
          "shape": ""
         },
         "hovertemplate": "Train_Number=15910<br>Station_Name=%{x}<br>Average_Delay(min)=%{y}<extra></extra>",
         "legendgroup": "15910",
         "line": {
          "color": "#FF6692"
         },
         "marker": {
          "symbol": "circle"
         },
         "mode": "lines",
         "name": "15910",
         "orientation": "v",
         "showlegend": true,
         "stackgroup": "1",
         "type": "scatter",
         "x": [
          "LALGARH JN ",
          "LUNKARANSAR ",
          "MAHAJAN ",
          "SURATGARH JN ",
          "PILI BANGAN ",
          "HANUMANGARH JN ",
          "SANGARIA ",
          "MANDI DABWALI ",
          "BHATINDA JN ",
          "MAUR ",
          "MANSA ",
          "BUDHLADA ",
          "BARETA ",
          "JAKHAL JN ",
          "TOHANA ",
          "NARWANA JN ",
          "JIND JN ",
          "ROHTAK JN ",
          "BAHADURGARH ",
          "SHAKURBASTI ",
          "DELHI KISHANGNJ ",
          "DELHI ",
          "GHAZIABAD ",
          "PILKHUA ",
          "HAPUR ",
          "AMROHA ",
          "MORADABAD ",
          "RAMPUR ",
          "BAREILLY ",
          "SHAHJEHANPUR ",
          "HARDOI ",
          "BALAMU JN ",
          "LUCKNOW NR ",
          "BARABANKI JN ",
          "JARWAL ROAD ",
          "GONDA JN ",
          "MANKAPUR JN ",
          "BASTI ",
          "KHALILABAD ",
          "GORAKHPUR JN ",
          "DEORIA SADAR ",
          "BHATNI JN ",
          "BHATPAR RANI ",
          "SIWAN JN ",
          "EKMA ",
          "CHHAPRA ",
          "SONPUR JN ",
          "HAJIPUR JN ",
          "MUZAFFARPUR JN ",
          "SAMASTIPUR JN ",
          "DALSINGH SARAI ",
          "BARAUNI JN ",
          "BEGU SARAI ",
          "KHAGARIA JN ",
          "MANSI JN ",
          "THANA BIHPUR JN ",
          "NAUGACHIA ",
          "KATIHAR JN ",
          "AZAMNAGAR ROAD ",
          "BARSOI JN ",
          "DALKOLHA ",
          "KISHANGANJ ",
          "ALUABARI ROAD ",
          "NEW JALPAIGURI ",
          "JALPAIGURI ROAD ",
          "DHUPGURI ",
          "NEW COOCH BEHAR ",
          "NEW ALIPURDAUR ",
          "NEW BONGAIGAON ",
          "BARPETA ROAD ",
          "RANGIYA JN ",
          "KAMAKHYA ",
          "GUWAHATI ",
          "JAGI ROAD ",
          "CHAPARMUKH JN ",
          "HOJAI ",
          "LUMDING JN ",
          "DIPHU ",
          "DIMAPUR ",
          "SARUPATHAR ",
          "FURKATING JN ",
          "MARIANI JN ",
          "SIMALUGURI JN ",
          "BHOJO ",
          "NEW TINSUKIA JN ",
          "DIBRUGARH "
         ],
         "xaxis": "x",
         "y": [
          11,
          18,
          28,
          21,
          23,
          23,
          27,
          31,
          11,
          20,
          21,
          22,
          24,
          25,
          26,
          28,
          29,
          30,
          29,
          26,
          31,
          30,
          29,
          36,
          39,
          48,
          52,
          67,
          89,
          99,
          108,
          115,
          118,
          103,
          112,
          108,
          114,
          117,
          119,
          93,
          99,
          100,
          105,
          88,
          88,
          77,
          78,
          80,
          94,
          100,
          108,
          101,
          109,
          121,
          124,
          127,
          132,
          101,
          114,
          120,
          132,
          138,
          145,
          142,
          120,
          123,
          121,
          120,
          108,
          128,
          147,
          142,
          160,
          177,
          183,
          187,
          176,
          182,
          189,
          189,
          169,
          182,
          189,
          182,
          189,
          167
         ],
         "yaxis": "y"
        },
        {
         "fillpattern": {
          "shape": ""
         },
         "hovertemplate": "Train_Number=20504<br>Station_Name=%{x}<br>Average_Delay(min)=%{y}<extra></extra>",
         "legendgroup": "20504",
         "line": {
          "color": "#B6E880"
         },
         "marker": {
          "symbol": "circle"
         },
         "mode": "lines",
         "name": "20504",
         "orientation": "v",
         "showlegend": true,
         "stackgroup": "1",
         "type": "scatter",
         "x": [
          "NEW DELHI ",
          "MORADABAD ",
          "BAREILLY ",
          "LUCKNOW NR ",
          "VARANASI JN ",
          "BALLIA ",
          "CHHAPRA ",
          "HAJIPUR JN ",
          "MUZAFFARPUR JN ",
          "SAMASTIPUR JN ",
          "KATIHAR JN ",
          "KISHANGANJ ",
          "NEW JALPAIGURI ",
          "NEW COOCH BEHAR ",
          "NEW ALIPURDAUR ",
          "KOKRAJHAR ",
          "NEW BONGAIGAON ",
          "GUWAHATI ",
          "LUMDING JN ",
          "DIMAPUR ",
          "MARIANI JN ",
          "SIMALUGURI JN ",
          "MORANHAT ",
          "DIBRUGARH "
         ],
         "xaxis": "x",
         "y": [
          1,
          11,
          30,
          35,
          34,
          47,
          53,
          50,
          57,
          52,
          48,
          68,
          57,
          47,
          44,
          57,
          45,
          85,
          83,
          109,
          69,
          72,
          70,
          59
         ],
         "yaxis": "y"
        },
        {
         "fillpattern": {
          "shape": ""
         },
         "hovertemplate": "Train_Number=12424<br>Station_Name=%{x}<br>Average_Delay(min)=%{y}<extra></extra>",
         "legendgroup": "12424",
         "line": {
          "color": "#FF97FF"
         },
         "marker": {
          "symbol": "circle"
         },
         "mode": "lines",
         "name": "12424",
         "orientation": "v",
         "showlegend": true,
         "stackgroup": "1",
         "type": "scatter",
         "x": [
          "NEW DELHI ",
          "KANPUR CENTRAL ",
          "PRAYAGRAJ JN ",
          "PT DEEN DAYAL UPADHYAY JN ",
          "DANAPUR ",
          "PATLIPUTRA ",
          "BARAUNI JN ",
          "NAUGACHIA ",
          "KATIHAR JN ",
          "KISHANGANJ ",
          "NEW JALPAIGURI ",
          "NEW COOCH BEHAR ",
          "KOKRAJHAR ",
          "NEW BONGAIGAON ",
          "GUWAHATI ",
          "CHAPARMUKH JN ",
          "LUMDING JN ",
          "DIMAPUR ",
          "MARIANI JN ",
          "NEW TINSUKIA JN ",
          "DIBRUGARH ",
          "DIBRUGARH TOWN "
         ],
         "xaxis": "x",
         "y": [
          5,
          21,
          39,
          33,
          46,
          36,
          25,
          34,
          35,
          55,
          46,
          42,
          56,
          47,
          89,
          102,
          89,
          98,
          85,
          93,
          91,
          16
         ],
         "yaxis": "y"
        },
        {
         "fillpattern": {
          "shape": ""
         },
         "hovertemplate": "Train_Number=14038<br>Station_Name=%{x}<br>Average_Delay(min)=%{y}<extra></extra>",
         "legendgroup": "14038",
         "line": {
          "color": "#FECB52"
         },
         "marker": {
          "symbol": "circle"
         },
         "mode": "lines",
         "name": "14038",
         "orientation": "v",
         "showlegend": true,
         "stackgroup": "1",
         "type": "scatter",
         "x": [
          "NEW DELHI ",
          "KANPUR CENTRAL ",
          "PRAYAGRAJ JN ",
          "PT DEEN DAYAL UPADHYAY JN ",
          "PATLIPUTRA ",
          "BARAUNI JN ",
          "KATIHAR JN ",
          "NEW JALPAIGURI ",
          "NEW BONGAIGAON ",
          "GOALPARA TOWN ",
          "GUWAHATI ",
          "LUMDING JN ",
          "NEW HAFLONG ",
          "BADARPUR JN ",
          "SILCHAR "
         ],
         "xaxis": "x",
         "y": [
          31,
          97,
          124,
          137,
          165,
          249,
          198,
          215,
          229,
          242,
          237,
          286,
          269,
          259,
          181
         ],
         "yaxis": "y"
        },
        {
         "fillpattern": {
          "shape": ""
         },
         "hovertemplate": "Train_Number=14620<br>Station_Name=%{x}<br>Average_Delay(min)=%{y}<extra></extra>",
         "legendgroup": "14620",
         "line": {
          "color": "#636efa"
         },
         "marker": {
          "symbol": "circle"
         },
         "mode": "lines",
         "name": "14620",
         "orientation": "v",
         "showlegend": true,
         "stackgroup": "1",
         "type": "scatter",
         "x": [
          "FIROZPUR CANT ",
          "FARIDKOT ",
          "KOT KAPURA ",
          "BHATINDA JN ",
          "KALANWALI ",
          "SIRSA ",
          "MANDI ADAMPUR ",
          "HISAR ",
          "BHIWANI ",
          "ROHTAK JN ",
          "SHAKURBASTI ",
          "NEW DELHI ",
          "KANPUR CENTRAL ",
          "PRAYAGRAJ JN ",
          "PT DEEN DAYAL UPADHYAY JN ",
          "PATLIPUTRA ",
          "BARAUNI JN ",
          "KATIHAR JN ",
          "NEW JALPAIGURI ",
          "NEW BONGAIGAON ",
          "GUWAHATI ",
          "JAGI ROAD ",
          "HOJAI ",
          "LUMDING JN ",
          "NEW HAFLONG ",
          "BADARPUR JN ",
          "NEW KARIMGANJ ",
          "PATHARKANDI ",
          "DHARMANAGAR ",
          "AMBASA ",
          "AGARTALA "
         ],
         "xaxis": "x",
         "y": [
          6,
          15,
          17,
          4,
          21,
          7,
          20,
          11,
          15,
          10,
          19,
          16,
          123,
          159,
          171,
          202,
          235,
          229,
          251,
          262,
          276,
          292,
          311,
          336,
          322,
          305,
          299,
          295,
          302,
          285,
          230
         ],
         "yaxis": "y"
        },
        {
         "fillpattern": {
          "shape": ""
         },
         "hovertemplate": "Train_Number=22450<br>Station_Name=%{x}<br>Average_Delay(min)=%{y}<extra></extra>",
         "legendgroup": "22450",
         "line": {
          "color": "#EF553B"
         },
         "marker": {
          "symbol": "circle"
         },
         "mode": "lines",
         "name": "22450",
         "orientation": "v",
         "showlegend": true,
         "stackgroup": "1",
         "type": "scatter",
         "x": [
          "NEW DELHI ",
          "KANPUR CENTRAL ",
          "PRAYAGRAJ JN ",
          "PT DEEN DAYAL UPADHYAY JN ",
          "PATLIPUTRA ",
          "BARAUNI JN ",
          "KATIHAR JN ",
          "KISHANGANJ ",
          "NEW JALPAIGURI ",
          "NEW BONGAIGAON ",
          "GOALPARA TOWN ",
          "GUWAHATI "
         ],
         "xaxis": "x",
         "y": [
          17,
          82,
          107,
          109,
          131,
          177,
          143,
          166,
          171,
          179,
          187,
          150
         ],
         "yaxis": "y"
        },
        {
         "fillpattern": {
          "shape": ""
         },
         "hovertemplate": "Train_Number=15648<br>Station_Name=%{x}<br>Average_Delay(min)=%{y}<extra></extra>",
         "legendgroup": "15648",
         "line": {
          "color": "#00cc96"
         },
         "marker": {
          "symbol": "circle"
         },
         "mode": "lines",
         "name": "15648",
         "orientation": "v",
         "showlegend": true,
         "stackgroup": "1",
         "type": "scatter",
         "x": [
          "GUWAHATI ",
          "KAMAKHYA ",
          "RANGIYA JN ",
          "BARPETA ROAD ",
          "BONGAIGAON ",
          "NEW BONGAIGAON ",
          "NEW ALIPURDAUR ",
          "NEW COOCH BEHAR ",
          "DHUPGURI ",
          "NEW JALPAIGURI ",
          "KISHANGANJ ",
          "MALDA TOWN ",
          "NEW FARAKKA JN ",
          "BARHARWA JN ",
          "SAHIBGANJ JN ",
          "KAHALGAON ",
          "BHAGALPUR ",
          "SULTANGANJ ",
          "BARIARPUR ",
          "JAMALPUR JN ",
          "ABHAIPUR ",
          "KIUL JN ",
          "LUCKEESARAI JN ",
          "BARHIYA ",
          "HATHIDAH JN ",
          "MOKAMEH JN ",
          "BARH ",
          "BAKHTIYARPUR JN ",
          "KHUSROPUR ",
          "FATUHA JN ",
          "PATNA SAHEB ",
          "PATNA JN ",
          "DANAPUR ",
          "ARA ",
          "DUMRAON ",
          "BUXAR ",
          "DILDARNAGAR JN ",
          "PT DEEN DAYAL UPADHYAY JN ",
          "MIRZAPUR ",
          "PRAYAGRAJ CHHEOKI ",
          "SATNA ",
          "MAIHAR ",
          "KATNI ",
          "JABALPUR ",
          "PIPARIYA ",
          "ITARSI JN ",
          "HARDA ",
          "KHANDWA ",
          "BURHANPUR ",
          "BHUSAVAL JN ",
          "MANMAD JN ",
          "NASIK ROAD ",
          "KALYAN JN ",
          "THANE ",
          "LOKMANYATILAK T "
         ],
         "xaxis": "x",
         "y": [
          47,
          56,
          74,
          122,
          30,
          74,
          84,
          92,
          95,
          63,
          77,
          58,
          64,
          60,
          62,
          68,
          56,
          61,
          59,
          56,
          62,
          54,
          57,
          63,
          65,
          67,
          79,
          80,
          85,
          89,
          83,
          85,
          95,
          107,
          117,
          115,
          124,
          92,
          105,
          132,
          159,
          64,
          172,
          182,
          204,
          182,
          203,
          190,
          192,
          195,
          205,
          207,
          215,
          164,
          151
         ],
         "yaxis": "y"
        },
        {
         "fillpattern": {
          "shape": ""
         },
         "hovertemplate": "Train_Number=15946<br>Station_Name=%{x}<br>Average_Delay(min)=%{y}<extra></extra>",
         "legendgroup": "15946",
         "line": {
          "color": "#ab63fa"
         },
         "marker": {
          "symbol": "circle"
         },
         "mode": "lines",
         "name": "15946",
         "orientation": "v",
         "showlegend": true,
         "stackgroup": "1",
         "type": "scatter",
         "x": [
          "DIBRUGARH ",
          "NEW TINSUKIA JN ",
          "SIMALUGURI JN ",
          "MARIANI JN ",
          "FURKATING JN ",
          "DIMAPUR ",
          "DIPHU ",
          "LUMDING JN ",
          "HOJAI ",
          "CHAPARMUKH JN ",
          "GUWAHATI ",
          "KAMAKHYA ",
          "RANGIYA JN ",
          "BARPETA ROAD ",
          "BONGAIGAON ",
          "NEW BONGAIGAON ",
          "KOKRAJHAR ",
          "NEW ALIPURDAUR ",
          "NEW COOCH BEHAR ",
          "DHUPGURI ",
          "NEW JALPAIGURI ",
          "KISHANGANJ ",
          "BARSOI JN ",
          "KATIHAR JN ",
          "NAUGACHIA ",
          "THANA BIHPUR JN ",
          "MANSI JN ",
          "KHAGARIA JN ",
          "BEGU SARAI ",
          "NEW BARAUNI JN ",
          "MOKAMEH JN ",
          "BARH ",
          "BAKHTIYARPUR JN ",
          "PATNA SAHEB ",
          "PATNA JN ",
          "DANAPUR ",
          "ARA ",
          "DUMRAON ",
          "BUXAR ",
          "DILDARNAGAR JN ",
          "PT DEEN DAYAL UPADHYAY JN ",
          "MIRZAPUR ",
          "PRAYAGRAJ CHHEOKI ",
          "SATNA ",
          "MAIHAR ",
          "KATNI ",
          "JABALPUR ",
          "PIPARIYA ",
          "ITARSI JN ",
          "HARDA ",
          "KHANDWA ",
          "BURHANPUR ",
          "BHUSAVAL JN ",
          "MANMAD JN ",
          "NASIK ROAD ",
          "KALYAN JN ",
          "THANE ",
          "LOKMANYATILAK T "
         ],
         "xaxis": "x",
         "y": [
          2,
          9,
          12,
          12,
          2,
          11,
          12,
          12,
          17,
          22,
          42,
          40,
          43,
          75,
          102,
          60,
          60,
          69,
          72,
          74,
          45,
          55,
          58,
          28,
          38,
          39,
          44,
          47,
          66,
          39,
          49,
          68,
          72,
          51,
          33,
          36,
          44,
          34,
          31,
          39,
          29,
          47,
          82,
          114,
          139,
          130,
          141,
          161,
          142,
          173,
          159,
          162,
          163,
          177,
          176,
          184,
          159,
          160
         ],
         "yaxis": "y"
        }
       ],
       "layout": {
        "autosize": true,
        "legend": {
         "title": {
          "text": "Train_Number"
         },
         "tracegroupgap": 0
        },
        "template": {
         "data": {
          "bar": [
           {
            "error_x": {
             "color": "#2a3f5f"
            },
            "error_y": {
             "color": "#2a3f5f"
            },
            "marker": {
             "line": {
              "color": "#E5ECF6",
              "width": 0.5
             },
             "pattern": {
              "fillmode": "overlay",
              "size": 10,
              "solidity": 0.2
             }
            },
            "type": "bar"
           }
          ],
          "barpolar": [
           {
            "marker": {
             "line": {
              "color": "#E5ECF6",
              "width": 0.5
             },
             "pattern": {
              "fillmode": "overlay",
              "size": 10,
              "solidity": 0.2
             }
            },
            "type": "barpolar"
           }
          ],
          "carpet": [
           {
            "aaxis": {
             "endlinecolor": "#2a3f5f",
             "gridcolor": "white",
             "linecolor": "white",
             "minorgridcolor": "white",
             "startlinecolor": "#2a3f5f"
            },
            "baxis": {
             "endlinecolor": "#2a3f5f",
             "gridcolor": "white",
             "linecolor": "white",
             "minorgridcolor": "white",
             "startlinecolor": "#2a3f5f"
            },
            "type": "carpet"
           }
          ],
          "choropleth": [
           {
            "colorbar": {
             "outlinewidth": 0,
             "ticks": ""
            },
            "type": "choropleth"
           }
          ],
          "contour": [
           {
            "colorbar": {
             "outlinewidth": 0,
             "ticks": ""
            },
            "colorscale": [
             [
              0,
              "#0d0887"
             ],
             [
              0.1111111111111111,
              "#46039f"
             ],
             [
              0.2222222222222222,
              "#7201a8"
             ],
             [
              0.3333333333333333,
              "#9c179e"
             ],
             [
              0.4444444444444444,
              "#bd3786"
             ],
             [
              0.5555555555555556,
              "#d8576b"
             ],
             [
              0.6666666666666666,
              "#ed7953"
             ],
             [
              0.7777777777777778,
              "#fb9f3a"
             ],
             [
              0.8888888888888888,
              "#fdca26"
             ],
             [
              1,
              "#f0f921"
             ]
            ],
            "type": "contour"
           }
          ],
          "contourcarpet": [
           {
            "colorbar": {
             "outlinewidth": 0,
             "ticks": ""
            },
            "type": "contourcarpet"
           }
          ],
          "heatmap": [
           {
            "colorbar": {
             "outlinewidth": 0,
             "ticks": ""
            },
            "colorscale": [
             [
              0,
              "#0d0887"
             ],
             [
              0.1111111111111111,
              "#46039f"
             ],
             [
              0.2222222222222222,
              "#7201a8"
             ],
             [
              0.3333333333333333,
              "#9c179e"
             ],
             [
              0.4444444444444444,
              "#bd3786"
             ],
             [
              0.5555555555555556,
              "#d8576b"
             ],
             [
              0.6666666666666666,
              "#ed7953"
             ],
             [
              0.7777777777777778,
              "#fb9f3a"
             ],
             [
              0.8888888888888888,
              "#fdca26"
             ],
             [
              1,
              "#f0f921"
             ]
            ],
            "type": "heatmap"
           }
          ],
          "heatmapgl": [
           {
            "colorbar": {
             "outlinewidth": 0,
             "ticks": ""
            },
            "colorscale": [
             [
              0,
              "#0d0887"
             ],
             [
              0.1111111111111111,
              "#46039f"
             ],
             [
              0.2222222222222222,
              "#7201a8"
             ],
             [
              0.3333333333333333,
              "#9c179e"
             ],
             [
              0.4444444444444444,
              "#bd3786"
             ],
             [
              0.5555555555555556,
              "#d8576b"
             ],
             [
              0.6666666666666666,
              "#ed7953"
             ],
             [
              0.7777777777777778,
              "#fb9f3a"
             ],
             [
              0.8888888888888888,
              "#fdca26"
             ],
             [
              1,
              "#f0f921"
             ]
            ],
            "type": "heatmapgl"
           }
          ],
          "histogram": [
           {
            "marker": {
             "pattern": {
              "fillmode": "overlay",
              "size": 10,
              "solidity": 0.2
             }
            },
            "type": "histogram"
           }
          ],
          "histogram2d": [
           {
            "colorbar": {
             "outlinewidth": 0,
             "ticks": ""
            },
            "colorscale": [
             [
              0,
              "#0d0887"
             ],
             [
              0.1111111111111111,
              "#46039f"
             ],
             [
              0.2222222222222222,
              "#7201a8"
             ],
             [
              0.3333333333333333,
              "#9c179e"
             ],
             [
              0.4444444444444444,
              "#bd3786"
             ],
             [
              0.5555555555555556,
              "#d8576b"
             ],
             [
              0.6666666666666666,
              "#ed7953"
             ],
             [
              0.7777777777777778,
              "#fb9f3a"
             ],
             [
              0.8888888888888888,
              "#fdca26"
             ],
             [
              1,
              "#f0f921"
             ]
            ],
            "type": "histogram2d"
           }
          ],
          "histogram2dcontour": [
           {
            "colorbar": {
             "outlinewidth": 0,
             "ticks": ""
            },
            "colorscale": [
             [
              0,
              "#0d0887"
             ],
             [
              0.1111111111111111,
              "#46039f"
             ],
             [
              0.2222222222222222,
              "#7201a8"
             ],
             [
              0.3333333333333333,
              "#9c179e"
             ],
             [
              0.4444444444444444,
              "#bd3786"
             ],
             [
              0.5555555555555556,
              "#d8576b"
             ],
             [
              0.6666666666666666,
              "#ed7953"
             ],
             [
              0.7777777777777778,
              "#fb9f3a"
             ],
             [
              0.8888888888888888,
              "#fdca26"
             ],
             [
              1,
              "#f0f921"
             ]
            ],
            "type": "histogram2dcontour"
           }
          ],
          "mesh3d": [
           {
            "colorbar": {
             "outlinewidth": 0,
             "ticks": ""
            },
            "type": "mesh3d"
           }
          ],
          "parcoords": [
           {
            "line": {
             "colorbar": {
              "outlinewidth": 0,
              "ticks": ""
             }
            },
            "type": "parcoords"
           }
          ],
          "pie": [
           {
            "automargin": true,
            "type": "pie"
           }
          ],
          "scatter": [
           {
            "fillpattern": {
             "fillmode": "overlay",
             "size": 10,
             "solidity": 0.2
            },
            "type": "scatter"
           }
          ],
          "scatter3d": [
           {
            "line": {
             "colorbar": {
              "outlinewidth": 0,
              "ticks": ""
             }
            },
            "marker": {
             "colorbar": {
              "outlinewidth": 0,
              "ticks": ""
             }
            },
            "type": "scatter3d"
           }
          ],
          "scattercarpet": [
           {
            "marker": {
             "colorbar": {
              "outlinewidth": 0,
              "ticks": ""
             }
            },
            "type": "scattercarpet"
           }
          ],
          "scattergeo": [
           {
            "marker": {
             "colorbar": {
              "outlinewidth": 0,
              "ticks": ""
             }
            },
            "type": "scattergeo"
           }
          ],
          "scattergl": [
           {
            "marker": {
             "colorbar": {
              "outlinewidth": 0,
              "ticks": ""
             }
            },
            "type": "scattergl"
           }
          ],
          "scattermapbox": [
           {
            "marker": {
             "colorbar": {
              "outlinewidth": 0,
              "ticks": ""
             }
            },
            "type": "scattermapbox"
           }
          ],
          "scatterpolar": [
           {
            "marker": {
             "colorbar": {
              "outlinewidth": 0,
              "ticks": ""
             }
            },
            "type": "scatterpolar"
           }
          ],
          "scatterpolargl": [
           {
            "marker": {
             "colorbar": {
              "outlinewidth": 0,
              "ticks": ""
             }
            },
            "type": "scatterpolargl"
           }
          ],
          "scatterternary": [
           {
            "marker": {
             "colorbar": {
              "outlinewidth": 0,
              "ticks": ""
             }
            },
            "type": "scatterternary"
           }
          ],
          "surface": [
           {
            "colorbar": {
             "outlinewidth": 0,
             "ticks": ""
            },
            "colorscale": [
             [
              0,
              "#0d0887"
             ],
             [
              0.1111111111111111,
              "#46039f"
             ],
             [
              0.2222222222222222,
              "#7201a8"
             ],
             [
              0.3333333333333333,
              "#9c179e"
             ],
             [
              0.4444444444444444,
              "#bd3786"
             ],
             [
              0.5555555555555556,
              "#d8576b"
             ],
             [
              0.6666666666666666,
              "#ed7953"
             ],
             [
              0.7777777777777778,
              "#fb9f3a"
             ],
             [
              0.8888888888888888,
              "#fdca26"
             ],
             [
              1,
              "#f0f921"
             ]
            ],
            "type": "surface"
           }
          ],
          "table": [
           {
            "cells": {
             "fill": {
              "color": "#EBF0F8"
             },
             "line": {
              "color": "white"
             }
            },
            "header": {
             "fill": {
              "color": "#C8D4E3"
             },
             "line": {
              "color": "white"
             }
            },
            "type": "table"
           }
          ]
         },
         "layout": {
          "annotationdefaults": {
           "arrowcolor": "#2a3f5f",
           "arrowhead": 0,
           "arrowwidth": 1
          },
          "autotypenumbers": "strict",
          "coloraxis": {
           "colorbar": {
            "outlinewidth": 0,
            "ticks": ""
           }
          },
          "colorscale": {
           "diverging": [
            [
             0,
             "#8e0152"
            ],
            [
             0.1,
             "#c51b7d"
            ],
            [
             0.2,
             "#de77ae"
            ],
            [
             0.3,
             "#f1b6da"
            ],
            [
             0.4,
             "#fde0ef"
            ],
            [
             0.5,
             "#f7f7f7"
            ],
            [
             0.6,
             "#e6f5d0"
            ],
            [
             0.7,
             "#b8e186"
            ],
            [
             0.8,
             "#7fbc41"
            ],
            [
             0.9,
             "#4d9221"
            ],
            [
             1,
             "#276419"
            ]
           ],
           "sequential": [
            [
             0,
             "#0d0887"
            ],
            [
             0.1111111111111111,
             "#46039f"
            ],
            [
             0.2222222222222222,
             "#7201a8"
            ],
            [
             0.3333333333333333,
             "#9c179e"
            ],
            [
             0.4444444444444444,
             "#bd3786"
            ],
            [
             0.5555555555555556,
             "#d8576b"
            ],
            [
             0.6666666666666666,
             "#ed7953"
            ],
            [
             0.7777777777777778,
             "#fb9f3a"
            ],
            [
             0.8888888888888888,
             "#fdca26"
            ],
            [
             1,
             "#f0f921"
            ]
           ],
           "sequentialminus": [
            [
             0,
             "#0d0887"
            ],
            [
             0.1111111111111111,
             "#46039f"
            ],
            [
             0.2222222222222222,
             "#7201a8"
            ],
            [
             0.3333333333333333,
             "#9c179e"
            ],
            [
             0.4444444444444444,
             "#bd3786"
            ],
            [
             0.5555555555555556,
             "#d8576b"
            ],
            [
             0.6666666666666666,
             "#ed7953"
            ],
            [
             0.7777777777777778,
             "#fb9f3a"
            ],
            [
             0.8888888888888888,
             "#fdca26"
            ],
            [
             1,
             "#f0f921"
            ]
           ]
          },
          "colorway": [
           "#636efa",
           "#EF553B",
           "#00cc96",
           "#ab63fa",
           "#FFA15A",
           "#19d3f3",
           "#FF6692",
           "#B6E880",
           "#FF97FF",
           "#FECB52"
          ],
          "font": {
           "color": "#2a3f5f"
          },
          "geo": {
           "bgcolor": "white",
           "lakecolor": "white",
           "landcolor": "#E5ECF6",
           "showlakes": true,
           "showland": true,
           "subunitcolor": "white"
          },
          "hoverlabel": {
           "align": "left"
          },
          "hovermode": "closest",
          "mapbox": {
           "style": "light"
          },
          "paper_bgcolor": "white",
          "plot_bgcolor": "#E5ECF6",
          "polar": {
           "angularaxis": {
            "gridcolor": "white",
            "linecolor": "white",
            "ticks": ""
           },
           "bgcolor": "#E5ECF6",
           "radialaxis": {
            "gridcolor": "white",
            "linecolor": "white",
            "ticks": ""
           }
          },
          "scene": {
           "xaxis": {
            "backgroundcolor": "#E5ECF6",
            "gridcolor": "white",
            "gridwidth": 2,
            "linecolor": "white",
            "showbackground": true,
            "ticks": "",
            "zerolinecolor": "white"
           },
           "yaxis": {
            "backgroundcolor": "#E5ECF6",
            "gridcolor": "white",
            "gridwidth": 2,
            "linecolor": "white",
            "showbackground": true,
            "ticks": "",
            "zerolinecolor": "white"
           },
           "zaxis": {
            "backgroundcolor": "#E5ECF6",
            "gridcolor": "white",
            "gridwidth": 2,
            "linecolor": "white",
            "showbackground": true,
            "ticks": "",
            "zerolinecolor": "white"
           }
          },
          "shapedefaults": {
           "line": {
            "color": "#2a3f5f"
           }
          },
          "ternary": {
           "aaxis": {
            "gridcolor": "white",
            "linecolor": "white",
            "ticks": ""
           },
           "baxis": {
            "gridcolor": "white",
            "linecolor": "white",
            "ticks": ""
           },
           "bgcolor": "#E5ECF6",
           "caxis": {
            "gridcolor": "white",
            "linecolor": "white",
            "ticks": ""
           }
          },
          "title": {
           "x": 0.05
          },
          "xaxis": {
           "automargin": true,
           "gridcolor": "white",
           "linecolor": "white",
           "ticks": "",
           "title": {
            "standoff": 15
           },
           "zerolinecolor": "white",
           "zerolinewidth": 2
          },
          "yaxis": {
           "automargin": true,
           "gridcolor": "white",
           "linecolor": "white",
           "ticks": "",
           "title": {
            "standoff": 15
           },
           "zerolinecolor": "white",
           "zerolinewidth": 2
          }
         }
        },
        "title": {
         "text": "Average Delay at Each Station for Trains between Guwahati and Delhi"
        },
        "xaxis": {
         "anchor": "y",
         "autorange": true,
         "domain": [
          0,
          1
         ],
         "range": [
          0,
          158
         ],
         "tickangle": -45,
         "title": {
          "text": "Station Name"
         },
         "type": "category"
        },
        "yaxis": {
         "anchor": "x",
         "autorange": true,
         "domain": [
          0,
          1
         ],
         "range": [
          0,
          1327.3684210526317
         ],
         "title": {
          "text": "Average Delay (minutes)"
         },
         "type": "linear"
        }
       }
      },
      "image/png": "[encoded data removed]",
      "text/html": [
       "<div>                            <div id=\"9b85e539-cc83-4f70-bbcb-111b0d058e52\" class=\"plotly-graph-div\" style=\"height:525px; width:100%;\"></div>            <script type=\"text/javascript\">                require([\"plotly\"], function(Plotly) {                    window.PLOTLYENV=window.PLOTLYENV || {};                                    if (document.getElementById(\"9b85e539-cc83-4f70-bbcb-111b0d058e52\")) {                    Plotly.newPlot(                        \"9b85e539-cc83-4f70-bbcb-111b0d058e52\",                        [{\"fillpattern\":{\"shape\":\"\"},\"hovertemplate\":\"Train_Number=20503<br>Station_Name=%{x}<br>Average_Delay(min)=%{y}<extra></extra>\",\"legendgroup\":\"20503\",\"line\":{\"color\":\"#636efa\"},\"marker\":{\"symbol\":\"circle\"},\"mode\":\"lines\",\"name\":\"20503\",\"orientation\":\"v\",\"showlegend\":true,\"stackgroup\":\"1\",\"x\":[\"DIBRUGARH \",\"MORANHAT \",\"SIMALUGURI JN \",\"MARIANI JN \",\"DIMAPUR \",\"LUMDING JN \",\"GUWAHATI \",\"BONGAIGAON \",\"NEW BONGAIGAON \",\"KOKRAJHAR \",\"NEW ALIPURDAUR \",\"NEW COOCH BEHAR \",\"NEW JALPAIGURI \",\"KISHANGANJ \",\"KATIHAR JN \",\"SAMASTIPUR JN \",\"MUZAFFARPUR JN \",\"HAJIPUR JN \",\"CHHAPRA \",\"BALLIA \",\"VARANASI JN \",\"LUCKNOW NR \",\"BAREILLY \",\"MORADABAD \",\"NEW DELHI \"],\"xaxis\":\"x\",\"y\":[5,14,13,16,20,17,11,13,25,24,37,38,30,42,34,29,35,33,28,38,31,34,42,39,43],\"yaxis\":\"y\",\"type\":\"scatter\"},{\"fillpattern\":{\"shape\":\"\"},\"hovertemplate\":\"Train_Number=14037<br>Station_Name=%{x}<br>Average_Delay(min)=%{y}<extra></extra>\",\"legendgroup\":\"14037\",\"line\":{\"color\":\"#EF553B\"},\"marker\":{\"symbol\":\"circle\"},\"mode\":\"lines\",\"name\":\"14037\",\"orientation\":\"v\",\"showlegend\":true,\"stackgroup\":\"1\",\"x\":[\"SILCHAR \",\"BADARPUR JN \",\"NEW HAFLONG \",\"LUMDING JN \",\"GUWAHATI \",\"GOALPARA TOWN \",\"NEW BONGAIGAON \",\"NEW JALPAIGURI \",\"KATIHAR JN \",\"BARAUNI JN \",\"PATLIPUTRA \",\"PT DEEN DAYAL UPADHYAY JN \",\"PRAYAGRAJ JN \",\"KANPUR CENTRAL \",\"NEW DELHI \"],\"xaxis\":\"x\",\"y\":[2,22,17,19,2,32,18,30,23,46,40,40,84,109,139],\"yaxis\":\"y\",\"type\":\"scatter\"},{\"fillpattern\":{\"shape\":\"\"},\"hovertemplate\":\"Train_Number=14619<br>Station_Name=%{x}<br>Average_Delay(min)=%{y}<extra></extra>\",\"legendgroup\":\"14619\",\"line\":{\"color\":\"#00cc96\"},\"marker\":{\"symbol\":\"circle\"},\"mode\":\"lines\",\"name\":\"14619\",\"orientation\":\"v\",\"showlegend\":true,\"stackgroup\":\"1\",\"x\":[\"AGARTALA \",\"AMBASA \",\"DHARMANAGAR \",\"PATHARKANDI \",\"NEW KARIMGANJ \",\"BADARPUR JN \",\"NEW HAFLONG \",\"LUMDING JN \",\"HOJAI \",\"JAGI ROAD \",\"GUWAHATI \",\"NEW BONGAIGAON \",\"NEW JALPAIGURI \",\"KATIHAR JN \",\"BARAUNI JN \",\"PATLIPUTRA \",\"PT DEEN DAYAL UPADHYAY JN \",\"PRAYAGRAJ JN \",\"KANPUR CENTRAL \",\"NEW DELHI \",\"SHAKURBASTI \",\"ROHTAK JN \",\"BHIWANI \",\"HISAR \",\"MANDI ADAMPUR \",\"SIRSA \",\"KALANWALI \",\"BHATINDA JN \",\"KOT KAPURA \",\"FARIDKOT \",\"FIROZPUR CANT \"],\"xaxis\":\"x\",\"y\":[41,57,52,53,51,56,56,66,65,70,44,56,82,69,92,81,92,145,186,262,295,305,319,325,328,311,320,263,286,289,265],\"yaxis\":\"y\",\"type\":\"scatter\"},{\"fillpattern\":{\"shape\":\"\"},\"hovertemplate\":\"Train_Number=22449<br>Station_Name=%{x}<br>Average_Delay(min)=%{y}<extra></extra>\",\"legendgroup\":\"22449\",\"line\":{\"color\":\"#ab63fa\"},\"marker\":{\"symbol\":\"circle\"},\"mode\":\"lines\",\"name\":\"22449\",\"orientation\":\"v\",\"showlegend\":true,\"stackgroup\":\"1\",\"x\":[\"GUWAHATI \",\"GOALPARA TOWN \",\"NEW BONGAIGAON \",\"NEW JALPAIGURI \",\"KISHANGANJ \",\"KATIHAR JN \",\"BARAUNI JN \",\"PATLIPUTRA \",\"PT DEEN DAYAL UPADHYAY JN \",\"PRAYAGRAJ JN \",\"KANPUR CENTRAL \",\"NEW DELHI \"],\"xaxis\":\"x\",\"y\":[5,38,18,36,50,21,34,24,28,70,92,101],\"yaxis\":\"y\",\"type\":\"scatter\"},{\"fillpattern\":{\"shape\":\"\"},\"hovertemplate\":\"Train_Number=12423<br>Station_Name=%{x}<br>Average_Delay(min)=%{y}<extra></extra>\",\"legendgroup\":\"12423\",\"line\":{\"color\":\"#FFA15A\"},\"marker\":{\"symbol\":\"circle\"},\"mode\":\"lines\",\"name\":\"12423\",\"orientation\":\"v\",\"showlegend\":true,\"stackgroup\":\"1\",\"x\":[\"DIBRUGARH \",\"DIBRUGARH TOWN \",\"NEW TINSUKIA JN \",\"MARIANI JN \",\"DIMAPUR \",\"LUMDING JN \",\"CHAPARMUKH JN \",\"GUWAHATI \",\"BONGAIGAON \",\"NEW BONGAIGAON \",\"KOKRAJHAR \",\"NEW COOCH BEHAR \",\"NEW JALPAIGURI \",\"KISHANGANJ \",\"KATIHAR JN \",\"NAUGACHIA \",\"BARAUNI JN \",\"PATLIPUTRA \",\"DANAPUR \",\"PT DEEN DAYAL UPADHYAY JN \",\"PRAYAGRAJ JN \",\"KANPUR CENTRAL \",\"NEW DELHI \"],\"xaxis\":\"x\",\"y\":[8,3,9,21,26,35,42,34,27,44,50,67,48,57,50,53,60,42,45,40,62,76,88],\"yaxis\":\"y\",\"type\":\"scatter\"},{\"fillpattern\":{\"shape\":\"\"},\"hovertemplate\":\"Train_Number=15909<br>Station_Name=%{x}<br>Average_Delay(min)=%{y}<extra></extra>\",\"legendgroup\":\"15909\",\"line\":{\"color\":\"#19d3f3\"},\"marker\":{\"symbol\":\"circle\"},\"mode\":\"lines\",\"name\":\"15909\",\"orientation\":\"v\",\"showlegend\":true,\"stackgroup\":\"1\",\"x\":[\"DIBRUGARH \",\"NEW TINSUKIA JN \",\"BHOJO \",\"SIMALUGURI JN \",\"MARIANI JN \",\"FURKATING JN \",\"SARUPATHAR \",\"DIMAPUR \",\"DIPHU \",\"LUMDING JN \",\"HOJAI \",\"CHAPARMUKH JN \",\"JAGI ROAD \",\"GUWAHATI \",\"KAMAKHYA \",\"RANGIYA JN \",\"BARPETA ROAD \",\"BONGAIGAON \",\"NEW BONGAIGAON \",\"NEW ALIPURDAUR \",\"NEW COOCH BEHAR \",\"DHUPGURI \",\"JALPAIGURI ROAD \",\"NEW JALPAIGURI \",\"ALUABARI ROAD \",\"KISHANGANJ \",\"DALKOLHA \",\"BARSOI JN \",\"AZAMNAGAR ROAD \",\"KATIHAR JN \",\"NAUGACHIA \",\"THANA BIHPUR JN \",\"MANSI JN \",\"KHAGARIA JN \",\"BEGU SARAI \",\"BARAUNI JN \",\"DALSINGH SARAI \",\"SAMASTIPUR JN \",\"MUZAFFARPUR JN \",\"HAJIPUR JN \",\"SONPUR JN \",\"CHHAPRA \",\"EKMA \",\"SIWAN JN \",\"BHATPAR RANI \",\"BHATNI JN \",\"DEORIA SADAR \",\"GORAKHPUR JN \",\"KHALILABAD \",\"BASTI \",\"MANKAPUR JN \",\"GONDA JN \",\"BARABANKI JN \",\"LUCKNOW NR \",\"BALAMU JN \",\"HARDOI \",\"SHAHJEHANPUR \",\"BAREILLY \",\"RAMPUR \",\"MORADABAD \",\"AMROHA \",\"HAPUR \",\"PILKHUA \",\"GHAZIABAD \",\"DELHI \",\"DELHI KISHANGNJ \",\"SHAKURBASTI \",\"NANGLOI \",\"BAHADURGARH \",\"ROHTAK JN \",\"JIND JN \",\"NARWANA JN \",\"TOHANA \",\"JAKHAL JN \",\"BARETA \",\"BUDHLADA \",\"MANSA \",\"MAUR \",\"BHATINDA JN \",\"MANDI DABWALI \",\"SANGARIA \",\"HANUMANGARH JN \",\"PILI BANGAN \",\"SURATGARH JN \",\"MAHAJAN \",\"LUNKARANSAR \",\"LALGARH JN \"],\"xaxis\":\"x\",\"y\":[8,10,22,25,25,10,16,24,30,26,39,48,58,17,18,25,50,29,39,48,46,47,49,45,59,62,68,68,72,31,44,49,60,66,77,71,86,81,92,96,102,72,81,59,65,64,63,78,81,86,94,100,96,84,79,90,70,70,89,89,94,103,105,112,129,135,144,150,154,154,159,164,164,162,163,164,165,168,124,142,151,139,142,139,149,153,107],\"yaxis\":\"y\",\"type\":\"scatter\"},{\"fillpattern\":{\"shape\":\"\"},\"hovertemplate\":\"Train_Number=15910<br>Station_Name=%{x}<br>Average_Delay(min)=%{y}<extra></extra>\",\"legendgroup\":\"15910\",\"line\":{\"color\":\"#FF6692\"},\"marker\":{\"symbol\":\"circle\"},\"mode\":\"lines\",\"name\":\"15910\",\"orientation\":\"v\",\"showlegend\":true,\"stackgroup\":\"1\",\"x\":[\"LALGARH JN \",\"LUNKARANSAR \",\"MAHAJAN \",\"SURATGARH JN \",\"PILI BANGAN \",\"HANUMANGARH JN \",\"SANGARIA \",\"MANDI DABWALI \",\"BHATINDA JN \",\"MAUR \",\"MANSA \",\"BUDHLADA \",\"BARETA \",\"JAKHAL JN \",\"TOHANA \",\"NARWANA JN \",\"JIND JN \",\"ROHTAK JN \",\"BAHADURGARH \",\"SHAKURBASTI \",\"DELHI KISHANGNJ \",\"DELHI \",\"GHAZIABAD \",\"PILKHUA \",\"HAPUR \",\"AMROHA \",\"MORADABAD \",\"RAMPUR \",\"BAREILLY \",\"SHAHJEHANPUR \",\"HARDOI \",\"BALAMU JN \",\"LUCKNOW NR \",\"BARABANKI JN \",\"JARWAL ROAD \",\"GONDA JN \",\"MANKAPUR JN \",\"BASTI \",\"KHALILABAD \",\"GORAKHPUR JN \",\"DEORIA SADAR \",\"BHATNI JN \",\"BHATPAR RANI \",\"SIWAN JN \",\"EKMA \",\"CHHAPRA \",\"SONPUR JN \",\"HAJIPUR JN \",\"MUZAFFARPUR JN \",\"SAMASTIPUR JN \",\"DALSINGH SARAI \",\"BARAUNI JN \",\"BEGU SARAI \",\"KHAGARIA JN \",\"MANSI JN \",\"THANA BIHPUR JN \",\"NAUGACHIA \",\"KATIHAR JN \",\"AZAMNAGAR ROAD \",\"BARSOI JN \",\"DALKOLHA \",\"KISHANGANJ \",\"ALUABARI ROAD \",\"NEW JALPAIGURI \",\"JALPAIGURI ROAD \",\"DHUPGURI \",\"NEW COOCH BEHAR \",\"NEW ALIPURDAUR \",\"NEW BONGAIGAON \",\"BARPETA ROAD \",\"RANGIYA JN \",\"KAMAKHYA \",\"GUWAHATI \",\"JAGI ROAD \",\"CHAPARMUKH JN \",\"HOJAI \",\"LUMDING JN \",\"DIPHU \",\"DIMAPUR \",\"SARUPATHAR \",\"FURKATING JN \",\"MARIANI JN \",\"SIMALUGURI JN \",\"BHOJO \",\"NEW TINSUKIA JN \",\"DIBRUGARH \"],\"xaxis\":\"x\",\"y\":[11,18,28,21,23,23,27,31,11,20,21,22,24,25,26,28,29,30,29,26,31,30,29,36,39,48,52,67,89,99,108,115,118,103,112,108,114,117,119,93,99,100,105,88,88,77,78,80,94,100,108,101,109,121,124,127,132,101,114,120,132,138,145,142,120,123,121,120,108,128,147,142,160,177,183,187,176,182,189,189,169,182,189,182,189,167],\"yaxis\":\"y\",\"type\":\"scatter\"},{\"fillpattern\":{\"shape\":\"\"},\"hovertemplate\":\"Train_Number=20504<br>Station_Name=%{x}<br>Average_Delay(min)=%{y}<extra></extra>\",\"legendgroup\":\"20504\",\"line\":{\"color\":\"#B6E880\"},\"marker\":{\"symbol\":\"circle\"},\"mode\":\"lines\",\"name\":\"20504\",\"orientation\":\"v\",\"showlegend\":true,\"stackgroup\":\"1\",\"x\":[\"NEW DELHI \",\"MORADABAD \",\"BAREILLY \",\"LUCKNOW NR \",\"VARANASI JN \",\"BALLIA \",\"CHHAPRA \",\"HAJIPUR JN \",\"MUZAFFARPUR JN \",\"SAMASTIPUR JN \",\"KATIHAR JN \",\"KISHANGANJ \",\"NEW JALPAIGURI \",\"NEW COOCH BEHAR \",\"NEW ALIPURDAUR \",\"KOKRAJHAR \",\"NEW BONGAIGAON \",\"GUWAHATI \",\"LUMDING JN \",\"DIMAPUR \",\"MARIANI JN \",\"SIMALUGURI JN \",\"MORANHAT \",\"DIBRUGARH \"],\"xaxis\":\"x\",\"y\":[1,11,30,35,34,47,53,50,57,52,48,68,57,47,44,57,45,85,83,109,69,72,70,59],\"yaxis\":\"y\",\"type\":\"scatter\"},{\"fillpattern\":{\"shape\":\"\"},\"hovertemplate\":\"Train_Number=12424<br>Station_Name=%{x}<br>Average_Delay(min)=%{y}<extra></extra>\",\"legendgroup\":\"12424\",\"line\":{\"color\":\"#FF97FF\"},\"marker\":{\"symbol\":\"circle\"},\"mode\":\"lines\",\"name\":\"12424\",\"orientation\":\"v\",\"showlegend\":true,\"stackgroup\":\"1\",\"x\":[\"NEW DELHI \",\"KANPUR CENTRAL \",\"PRAYAGRAJ JN \",\"PT DEEN DAYAL UPADHYAY JN \",\"DANAPUR \",\"PATLIPUTRA \",\"BARAUNI JN \",\"NAUGACHIA \",\"KATIHAR JN \",\"KISHANGANJ \",\"NEW JALPAIGURI \",\"NEW COOCH BEHAR \",\"KOKRAJHAR \",\"NEW BONGAIGAON \",\"GUWAHATI \",\"CHAPARMUKH JN \",\"LUMDING JN \",\"DIMAPUR \",\"MARIANI JN \",\"NEW TINSUKIA JN \",\"DIBRUGARH \",\"DIBRUGARH TOWN \"],\"xaxis\":\"x\",\"y\":[5,21,39,33,46,36,25,34,35,55,46,42,56,47,89,102,89,98,85,93,91,16],\"yaxis\":\"y\",\"type\":\"scatter\"},{\"fillpattern\":{\"shape\":\"\"},\"hovertemplate\":\"Train_Number=14038<br>Station_Name=%{x}<br>Average_Delay(min)=%{y}<extra></extra>\",\"legendgroup\":\"14038\",\"line\":{\"color\":\"#FECB52\"},\"marker\":{\"symbol\":\"circle\"},\"mode\":\"lines\",\"name\":\"14038\",\"orientation\":\"v\",\"showlegend\":true,\"stackgroup\":\"1\",\"x\":[\"NEW DELHI \",\"KANPUR CENTRAL \",\"PRAYAGRAJ JN \",\"PT DEEN DAYAL UPADHYAY JN \",\"PATLIPUTRA \",\"BARAUNI JN \",\"KATIHAR JN \",\"NEW JALPAIGURI \",\"NEW BONGAIGAON \",\"GOALPARA TOWN \",\"GUWAHATI \",\"LUMDING JN \",\"NEW HAFLONG \",\"BADARPUR JN \",\"SILCHAR \"],\"xaxis\":\"x\",\"y\":[31,97,124,137,165,249,198,215,229,242,237,286,269,259,181],\"yaxis\":\"y\",\"type\":\"scatter\"},{\"fillpattern\":{\"shape\":\"\"},\"hovertemplate\":\"Train_Number=14620<br>Station_Name=%{x}<br>Average_Delay(min)=%{y}<extra></extra>\",\"legendgroup\":\"14620\",\"line\":{\"color\":\"#636efa\"},\"marker\":{\"symbol\":\"circle\"},\"mode\":\"lines\",\"name\":\"14620\",\"orientation\":\"v\",\"showlegend\":true,\"stackgroup\":\"1\",\"x\":[\"FIROZPUR CANT \",\"FARIDKOT \",\"KOT KAPURA \",\"BHATINDA JN \",\"KALANWALI \",\"SIRSA \",\"MANDI ADAMPUR \",\"HISAR \",\"BHIWANI \",\"ROHTAK JN \",\"SHAKURBASTI \",\"NEW DELHI \",\"KANPUR CENTRAL \",\"PRAYAGRAJ JN \",\"PT DEEN DAYAL UPADHYAY JN \",\"PATLIPUTRA \",\"BARAUNI JN \",\"KATIHAR JN \",\"NEW JALPAIGURI \",\"NEW BONGAIGAON \",\"GUWAHATI \",\"JAGI ROAD \",\"HOJAI \",\"LUMDING JN \",\"NEW HAFLONG \",\"BADARPUR JN \",\"NEW KARIMGANJ \",\"PATHARKANDI \",\"DHARMANAGAR \",\"AMBASA \",\"AGARTALA \"],\"xaxis\":\"x\",\"y\":[6,15,17,4,21,7,20,11,15,10,19,16,123,159,171,202,235,229,251,262,276,292,311,336,322,305,299,295,302,285,230],\"yaxis\":\"y\",\"type\":\"scatter\"},{\"fillpattern\":{\"shape\":\"\"},\"hovertemplate\":\"Train_Number=22450<br>Station_Name=%{x}<br>Average_Delay(min)=%{y}<extra></extra>\",\"legendgroup\":\"22450\",\"line\":{\"color\":\"#EF553B\"},\"marker\":{\"symbol\":\"circle\"},\"mode\":\"lines\",\"name\":\"22450\",\"orientation\":\"v\",\"showlegend\":true,\"stackgroup\":\"1\",\"x\":[\"NEW DELHI \",\"KANPUR CENTRAL \",\"PRAYAGRAJ JN \",\"PT DEEN DAYAL UPADHYAY JN \",\"PATLIPUTRA \",\"BARAUNI JN \",\"KATIHAR JN \",\"KISHANGANJ \",\"NEW JALPAIGURI \",\"NEW BONGAIGAON \",\"GOALPARA TOWN \",\"GUWAHATI \"],\"xaxis\":\"x\",\"y\":[17,82,107,109,131,177,143,166,171,179,187,150],\"yaxis\":\"y\",\"type\":\"scatter\"},{\"fillpattern\":{\"shape\":\"\"},\"hovertemplate\":\"Train_Number=15648<br>Station_Name=%{x}<br>Average_Delay(min)=%{y}<extra></extra>\",\"legendgroup\":\"15648\",\"line\":{\"color\":\"#00cc96\"},\"marker\":{\"symbol\":\"circle\"},\"mode\":\"lines\",\"name\":\"15648\",\"orientation\":\"v\",\"showlegend\":true,\"stackgroup\":\"1\",\"x\":[\"GUWAHATI \",\"KAMAKHYA \",\"RANGIYA JN \",\"BARPETA ROAD \",\"BONGAIGAON \",\"NEW BONGAIGAON \",\"NEW ALIPURDAUR \",\"NEW COOCH BEHAR \",\"DHUPGURI \",\"NEW JALPAIGURI \",\"KISHANGANJ \",\"MALDA TOWN \",\"NEW FARAKKA JN \",\"BARHARWA JN \",\"SAHIBGANJ JN \",\"KAHALGAON \",\"BHAGALPUR \",\"SULTANGANJ \",\"BARIARPUR \",\"JAMALPUR JN \",\"ABHAIPUR \",\"KIUL JN \",\"LUCKEESARAI JN \",\"BARHIYA \",\"HATHIDAH JN \",\"MOKAMEH JN \",\"BARH \",\"BAKHTIYARPUR JN \",\"KHUSROPUR \",\"FATUHA JN \",\"PATNA SAHEB \",\"PATNA JN \",\"DANAPUR \",\"ARA \",\"DUMRAON \",\"BUXAR \",\"DILDARNAGAR JN \",\"PT DEEN DAYAL UPADHYAY JN \",\"MIRZAPUR \",\"PRAYAGRAJ CHHEOKI \",\"SATNA \",\"MAIHAR \",\"KATNI \",\"JABALPUR \",\"PIPARIYA \",\"ITARSI JN \",\"HARDA \",\"KHANDWA \",\"BURHANPUR \",\"BHUSAVAL JN \",\"MANMAD JN \",\"NASIK ROAD \",\"KALYAN JN \",\"THANE \",\"LOKMANYATILAK T \"],\"xaxis\":\"x\",\"y\":[47,56,74,122,30,74,84,92,95,63,77,58,64,60,62,68,56,61,59,56,62,54,57,63,65,67,79,80,85,89,83,85,95,107,117,115,124,92,105,132,159,64,172,182,204,182,203,190,192,195,205,207,215,164,151],\"yaxis\":\"y\",\"type\":\"scatter\"},{\"fillpattern\":{\"shape\":\"\"},\"hovertemplate\":\"Train_Number=15946<br>Station_Name=%{x}<br>Average_Delay(min)=%{y}<extra></extra>\",\"legendgroup\":\"15946\",\"line\":{\"color\":\"#ab63fa\"},\"marker\":{\"symbol\":\"circle\"},\"mode\":\"lines\",\"name\":\"15946\",\"orientation\":\"v\",\"showlegend\":true,\"stackgroup\":\"1\",\"x\":[\"DIBRUGARH \",\"NEW TINSUKIA JN \",\"SIMALUGURI JN \",\"MARIANI JN \",\"FURKATING JN \",\"DIMAPUR \",\"DIPHU \",\"LUMDING JN \",\"HOJAI \",\"CHAPARMUKH JN \",\"GUWAHATI \",\"KAMAKHYA \",\"RANGIYA JN \",\"BARPETA ROAD \",\"BONGAIGAON \",\"NEW BONGAIGAON \",\"KOKRAJHAR \",\"NEW ALIPURDAUR \",\"NEW COOCH BEHAR \",\"DHUPGURI \",\"NEW JALPAIGURI \",\"KISHANGANJ \",\"BARSOI JN \",\"KATIHAR JN \",\"NAUGACHIA \",\"THANA BIHPUR JN \",\"MANSI JN \",\"KHAGARIA JN \",\"BEGU SARAI \",\"NEW BARAUNI JN \",\"MOKAMEH JN \",\"BARH \",\"BAKHTIYARPUR JN \",\"PATNA SAHEB \",\"PATNA JN \",\"DANAPUR \",\"ARA \",\"DUMRAON \",\"BUXAR \",\"DILDARNAGAR JN \",\"PT DEEN DAYAL UPADHYAY JN \",\"MIRZAPUR \",\"PRAYAGRAJ CHHEOKI \",\"SATNA \",\"MAIHAR \",\"KATNI \",\"JABALPUR \",\"PIPARIYA \",\"ITARSI JN \",\"HARDA \",\"KHANDWA \",\"BURHANPUR \",\"BHUSAVAL JN \",\"MANMAD JN \",\"NASIK ROAD \",\"KALYAN JN \",\"THANE \",\"LOKMANYATILAK T \"],\"xaxis\":\"x\",\"y\":[2,9,12,12,2,11,12,12,17,22,42,40,43,75,102,60,60,69,72,74,45,55,58,28,38,39,44,47,66,39,49,68,72,51,33,36,44,34,31,39,29,47,82,114,139,130,141,161,142,173,159,162,163,177,176,184,159,160],\"yaxis\":\"y\",\"type\":\"scatter\"}],                        {\"template\":{\"data\":{\"histogram2dcontour\":[{\"type\":\"histogram2dcontour\",\"colorbar\":{\"outlinewidth\":0,\"ticks\":\"\"},\"colorscale\":[[0.0,\"#0d0887\"],[0.1111111111111111,\"#46039f\"],[0.2222222222222222,\"#7201a8\"],[0.3333333333333333,\"#9c179e\"],[0.4444444444444444,\"#bd3786\"],[0.5555555555555556,\"#d8576b\"],[0.6666666666666666,\"#ed7953\"],[0.7777777777777778,\"#fb9f3a\"],[0.8888888888888888,\"#fdca26\"],[1.0,\"#f0f921\"]]}],\"choropleth\":[{\"type\":\"choropleth\",\"colorbar\":{\"outlinewidth\":0,\"ticks\":\"\"}}],\"histogram2d\":[{\"type\":\"histogram2d\",\"colorbar\":{\"outlinewidth\":0,\"ticks\":\"\"},\"colorscale\":[[0.0,\"#0d0887\"],[0.1111111111111111,\"#46039f\"],[0.2222222222222222,\"#7201a8\"],[0.3333333333333333,\"#9c179e\"],[0.4444444444444444,\"#bd3786\"],[0.5555555555555556,\"#d8576b\"],[0.6666666666666666,\"#ed7953\"],[0.7777777777777778,\"#fb9f3a\"],[0.8888888888888888,\"#fdca26\"],[1.0,\"#f0f921\"]]}],\"heatmap\":[{\"type\":\"heatmap\",\"colorbar\":{\"outlinewidth\":0,\"ticks\":\"\"},\"colorscale\":[[0.0,\"#0d0887\"],[0.1111111111111111,\"#46039f\"],[0.2222222222222222,\"#7201a8\"],[0.3333333333333333,\"#9c179e\"],[0.4444444444444444,\"#bd3786\"],[0.5555555555555556,\"#d8576b\"],[0.6666666666666666,\"#ed7953\"],[0.7777777777777778,\"#fb9f3a\"],[0.8888888888888888,\"#fdca26\"],[1.0,\"#f0f921\"]]}],\"heatmapgl\":[{\"type\":\"heatmapgl\",\"colorbar\":{\"outlinewidth\":0,\"ticks\":\"\"},\"colorscale\":[[0.0,\"#0d0887\"],[0.1111111111111111,\"#46039f\"],[0.2222222222222222,\"#7201a8\"],[0.3333333333333333,\"#9c179e\"],[0.4444444444444444,\"#bd3786\"],[0.5555555555555556,\"#d8576b\"],[0.6666666666666666,\"#ed7953\"],[0.7777777777777778,\"#fb9f3a\"],[0.8888888888888888,\"#fdca26\"],[1.0,\"#f0f921\"]]}],\"contourcarpet\":[{\"type\":\"contourcarpet\",\"colorbar\":{\"outlinewidth\":0,\"ticks\":\"\"}}],\"contour\":[{\"type\":\"contour\",\"colorbar\":{\"outlinewidth\":0,\"ticks\":\"\"},\"colorscale\":[[0.0,\"#0d0887\"],[0.1111111111111111,\"#46039f\"],[0.2222222222222222,\"#7201a8\"],[0.3333333333333333,\"#9c179e\"],[0.4444444444444444,\"#bd3786\"],[0.5555555555555556,\"#d8576b\"],[0.6666666666666666,\"#ed7953\"],[0.7777777777777778,\"#fb9f3a\"],[0.8888888888888888,\"#fdca26\"],[1.0,\"#f0f921\"]]}],\"surface\":[{\"type\":\"surface\",\"colorbar\":{\"outlinewidth\":0,\"ticks\":\"\"},\"colorscale\":[[0.0,\"#0d0887\"],[0.1111111111111111,\"#46039f\"],[0.2222222222222222,\"#7201a8\"],[0.3333333333333333,\"#9c179e\"],[0.4444444444444444,\"#bd3786\"],[0.5555555555555556,\"#d8576b\"],[0.6666666666666666,\"#ed7953\"],[0.7777777777777778,\"#fb9f3a\"],[0.8888888888888888,\"#fdca26\"],[1.0,\"#f0f921\"]]}],\"mesh3d\":[{\"type\":\"mesh3d\",\"colorbar\":{\"outlinewidth\":0,\"ticks\":\"\"}}],\"scatter\":[{\"fillpattern\":{\"fillmode\":\"overlay\",\"size\":10,\"solidity\":0.2},\"type\":\"scatter\"}],\"parcoords\":[{\"type\":\"parcoords\",\"line\":{\"colorbar\":{\"outlinewidth\":0,\"ticks\":\"\"}}}],\"scatterpolargl\":[{\"type\":\"scatterpolargl\",\"marker\":{\"colorbar\":{\"outlinewidth\":0,\"ticks\":\"\"}}}],\"bar\":[{\"error_x\":{\"color\":\"#2a3f5f\"},\"error_y\":{\"color\":\"#2a3f5f\"},\"marker\":{\"line\":{\"color\":\"#E5ECF6\",\"width\":0.5},\"pattern\":{\"fillmode\":\"overlay\",\"size\":10,\"solidity\":0.2}},\"type\":\"bar\"}],\"scattergeo\":[{\"type\":\"scattergeo\",\"marker\":{\"colorbar\":{\"outlinewidth\":0,\"ticks\":\"\"}}}],\"scatterpolar\":[{\"type\":\"scatterpolar\",\"marker\":{\"colorbar\":{\"outlinewidth\":0,\"ticks\":\"\"}}}],\"histogram\":[{\"marker\":{\"pattern\":{\"fillmode\":\"overlay\",\"size\":10,\"solidity\":0.2}},\"type\":\"histogram\"}],\"scattergl\":[{\"type\":\"scattergl\",\"marker\":{\"colorbar\":{\"outlinewidth\":0,\"ticks\":\"\"}}}],\"scatter3d\":[{\"type\":\"scatter3d\",\"line\":{\"colorbar\":{\"outlinewidth\":0,\"ticks\":\"\"}},\"marker\":{\"colorbar\":{\"outlinewidth\":0,\"ticks\":\"\"}}}],\"scattermapbox\":[{\"type\":\"scattermapbox\",\"marker\":{\"colorbar\":{\"outlinewidth\":0,\"ticks\":\"\"}}}],\"scatterternary\":[{\"type\":\"scatterternary\",\"marker\":{\"colorbar\":{\"outlinewidth\":0,\"ticks\":\"\"}}}],\"scattercarpet\":[{\"type\":\"scattercarpet\",\"marker\":{\"colorbar\":{\"outlinewidth\":0,\"ticks\":\"\"}}}],\"carpet\":[{\"aaxis\":{\"endlinecolor\":\"#2a3f5f\",\"gridcolor\":\"white\",\"linecolor\":\"white\",\"minorgridcolor\":\"white\",\"startlinecolor\":\"#2a3f5f\"},\"baxis\":{\"endlinecolor\":\"#2a3f5f\",\"gridcolor\":\"white\",\"linecolor\":\"white\",\"minorgridcolor\":\"white\",\"startlinecolor\":\"#2a3f5f\"},\"type\":\"carpet\"}],\"table\":[{\"cells\":{\"fill\":{\"color\":\"#EBF0F8\"},\"line\":{\"color\":\"white\"}},\"header\":{\"fill\":{\"color\":\"#C8D4E3\"},\"line\":{\"color\":\"white\"}},\"type\":\"table\"}],\"barpolar\":[{\"marker\":{\"line\":{\"color\":\"#E5ECF6\",\"width\":0.5},\"pattern\":{\"fillmode\":\"overlay\",\"size\":10,\"solidity\":0.2}},\"type\":\"barpolar\"}],\"pie\":[{\"automargin\":true,\"type\":\"pie\"}]},\"layout\":{\"autotypenumbers\":\"strict\",\"colorway\":[\"#636efa\",\"#EF553B\",\"#00cc96\",\"#ab63fa\",\"#FFA15A\",\"#19d3f3\",\"#FF6692\",\"#B6E880\",\"#FF97FF\",\"#FECB52\"],\"font\":{\"color\":\"#2a3f5f\"},\"hovermode\":\"closest\",\"hoverlabel\":{\"align\":\"left\"},\"paper_bgcolor\":\"white\",\"plot_bgcolor\":\"#E5ECF6\",\"polar\":{\"bgcolor\":\"#E5ECF6\",\"angularaxis\":{\"gridcolor\":\"white\",\"linecolor\":\"white\",\"ticks\":\"\"},\"radialaxis\":{\"gridcolor\":\"white\",\"linecolor\":\"white\",\"ticks\":\"\"}},\"ternary\":{\"bgcolor\":\"#E5ECF6\",\"aaxis\":{\"gridcolor\":\"white\",\"linecolor\":\"white\",\"ticks\":\"\"},\"baxis\":{\"gridcolor\":\"white\",\"linecolor\":\"white\",\"ticks\":\"\"},\"caxis\":{\"gridcolor\":\"white\",\"linecolor\":\"white\",\"ticks\":\"\"}},\"coloraxis\":{\"colorbar\":{\"outlinewidth\":0,\"ticks\":\"\"}},\"colorscale\":{\"sequential\":[[0.0,\"#0d0887\"],[0.1111111111111111,\"#46039f\"],[0.2222222222222222,\"#7201a8\"],[0.3333333333333333,\"#9c179e\"],[0.4444444444444444,\"#bd3786\"],[0.5555555555555556,\"#d8576b\"],[0.6666666666666666,\"#ed7953\"],[0.7777777777777778,\"#fb9f3a\"],[0.8888888888888888,\"#fdca26\"],[1.0,\"#f0f921\"]],\"sequentialminus\":[[0.0,\"#0d0887\"],[0.1111111111111111,\"#46039f\"],[0.2222222222222222,\"#7201a8\"],[0.3333333333333333,\"#9c179e\"],[0.4444444444444444,\"#bd3786\"],[0.5555555555555556,\"#d8576b\"],[0.6666666666666666,\"#ed7953\"],[0.7777777777777778,\"#fb9f3a\"],[0.8888888888888888,\"#fdca26\"],[1.0,\"#f0f921\"]],\"diverging\":[[0,\"#8e0152\"],[0.1,\"#c51b7d\"],[0.2,\"#de77ae\"],[0.3,\"#f1b6da\"],[0.4,\"#fde0ef\"],[0.5,\"#f7f7f7\"],[0.6,\"#e6f5d0\"],[0.7,\"#b8e186\"],[0.8,\"#7fbc41\"],[0.9,\"#4d9221\"],[1,\"#276419\"]]},\"xaxis\":{\"gridcolor\":\"white\",\"linecolor\":\"white\",\"ticks\":\"\",\"title\":{\"standoff\":15},\"zerolinecolor\":\"white\",\"automargin\":true,\"zerolinewidth\":2},\"yaxis\":{\"gridcolor\":\"white\",\"linecolor\":\"white\",\"ticks\":\"\",\"title\":{\"standoff\":15},\"zerolinecolor\":\"white\",\"automargin\":true,\"zerolinewidth\":2},\"scene\":{\"xaxis\":{\"backgroundcolor\":\"#E5ECF6\",\"gridcolor\":\"white\",\"linecolor\":\"white\",\"showbackground\":true,\"ticks\":\"\",\"zerolinecolor\":\"white\",\"gridwidth\":2},\"yaxis\":{\"backgroundcolor\":\"#E5ECF6\",\"gridcolor\":\"white\",\"linecolor\":\"white\",\"showbackground\":true,\"ticks\":\"\",\"zerolinecolor\":\"white\",\"gridwidth\":2},\"zaxis\":{\"backgroundcolor\":\"#E5ECF6\",\"gridcolor\":\"white\",\"linecolor\":\"white\",\"showbackground\":true,\"ticks\":\"\",\"zerolinecolor\":\"white\",\"gridwidth\":2}},\"shapedefaults\":{\"line\":{\"color\":\"#2a3f5f\"}},\"annotationdefaults\":{\"arrowcolor\":\"#2a3f5f\",\"arrowhead\":0,\"arrowwidth\":1},\"geo\":{\"bgcolor\":\"white\",\"landcolor\":\"#E5ECF6\",\"subunitcolor\":\"white\",\"showland\":true,\"showlakes\":true,\"lakecolor\":\"white\"},\"title\":{\"x\":0.05},\"mapbox\":{\"style\":\"light\"}}},\"xaxis\":{\"anchor\":\"y\",\"domain\":[0.0,1.0],\"title\":{\"text\":\"Station Name\"},\"tickangle\":-45},\"yaxis\":{\"anchor\":\"x\",\"domain\":[0.0,1.0],\"title\":{\"text\":\"Average Delay (minutes)\"}},\"legend\":{\"title\":{\"text\":\"Train_Number\"},\"tracegroupgap\":0},\"title\":{\"text\":\"Average Delay at Each Station for Trains between Guwahati and Delhi\"}},                        {\"responsive\": true}                    ).then(function(){\n",
       "                            \n",
       "var gd = document.getElementById('9b85e539-cc83-4f70-bbcb-111b0d058e52');\n",
       "var x = new MutationObserver(function (mutations, observer) {{\n",
       "        var display = window.getComputedStyle(gd).display;\n",
       "        if (!display || display === 'none') {{\n",
       "            console.log([gd, 'removed!']);\n",
       "            Plotly.purge(gd);\n",
       "            observer.disconnect();\n",
       "        }}\n",
       "}});\n",
       "\n",
       "// Listen for the removal of the full notebook cells\n",
       "var notebookContainer = gd.closest('#notebook-container');\n",
       "if (notebookContainer) {{\n",
       "    x.observe(notebookContainer, {childList: true});\n",
       "}}\n",
       "\n",
       "// Listen for the clearing of the current output cell\n",
       "var outputEl = gd.closest('.output');\n",
       "if (outputEl) {{\n",
       "    x.observe(outputEl, {childList: true});\n",
       "}}\n",
       "\n",
       "                        })                };                });            </script>        </div>"
      ]
     },
     "metadata": {},
     "output_type": "display_data"
    }
   ],
   "source": [
    "# List of train numbers running between Guwahati and Delhi\n",
    "train_numbers = [\"20503\", \"14037\", \"14619\", \"22449\", \"12423\", \"15909\", \"15910\", \"20504\", \"12424\", \"14038\", \"14620\", \"22450\", \"15648\", \"15946\"]\n",
    "\n",
    "# Create a DataFrame to store combined route data\n",
    "combined_data = pd.DataFrame()\n",
    "\n",
    "# Load route data for each train and append to the combined DataFrame\n",
    "for train_number in train_numbers:\n",
    "    route_data = load_route_data(train_number)\n",
    "    route_data['Train_Number'] = train_number  # Add train number as a column\n",
    "    combined_data = pd.concat([combined_data, route_data])  # Concatenate route data\n",
    "\n",
    "# Plot the average delay at each station for all trains combined using an area plot\n",
    "delhi = px.area(combined_data, x='Station_Name', y='Average_Delay(min)', color='Train_Number',\n",
    "              title='Average Delay at Each Station for Trains between Guwahati and Delhi')\n",
    "delhi.update_layout(xaxis_title='Station Name', yaxis_title='Average Delay (minutes)', xaxis_tickangle=-45)\n",
    "delhi.show()"
   ]
  },
  {
   "cell_type": "code",
   "execution_count": 42,
   "id": "763fc351-adcf-42f3-83ae-a969a1e710de",
   "metadata": {},
   "outputs": [
    {
     "data": {
      "application/vnd.plotly.v1+json": {
       "config": {
        "plotlyServerURL": "https://plot.ly"
       },
       "data": [
        {
         "marker": {
          "color": "blue"
         },
         "name": "Average Slight Delay Percentage",
         "type": "bar",
         "x": [
          "DIBRUGARH ",
          "MORANHAT ",
          "SIMALUGURI JN ",
          "MARIANI JN ",
          "DIMAPUR ",
          "LUMDING JN ",
          "GUWAHATI ",
          "BONGAIGAON ",
          "NEW BONGAIGAON ",
          "KOKRAJHAR ",
          "NEW ALIPURDAUR ",
          "NEW COOCH BEHAR ",
          "NEW JALPAIGURI ",
          "KISHANGANJ ",
          "KATIHAR JN ",
          "SAMASTIPUR JN ",
          "MUZAFFARPUR JN ",
          "HAJIPUR JN ",
          "CHHAPRA ",
          "BALLIA ",
          "VARANASI JN ",
          "LUCKNOW NR ",
          "BAREILLY ",
          "MORADABAD ",
          "NEW DELHI ",
          "SILCHAR ",
          "BADARPUR JN ",
          "NEW HAFLONG ",
          "GOALPARA TOWN ",
          "BARAUNI JN ",
          "PATLIPUTRA ",
          "PT DEEN DAYAL UPADHYAY JN ",
          "PRAYAGRAJ JN ",
          "KANPUR CENTRAL ",
          "AGARTALA ",
          "AMBASA ",
          "DHARMANAGAR ",
          "PATHARKANDI ",
          "NEW KARIMGANJ ",
          "HOJAI ",
          "JAGI ROAD ",
          "SHAKURBASTI ",
          "ROHTAK JN ",
          "BHIWANI ",
          "HISAR ",
          "MANDI ADAMPUR ",
          "SIRSA ",
          "KALANWALI ",
          "BHATINDA JN ",
          "KOT KAPURA ",
          "FARIDKOT ",
          "FIROZPUR CANT ",
          "DIBRUGARH TOWN ",
          "NEW TINSUKIA JN ",
          "CHAPARMUKH JN ",
          "NAUGACHIA ",
          "DANAPUR ",
          "BHOJO ",
          "FURKATING JN ",
          "SARUPATHAR ",
          "DIPHU ",
          "KAMAKHYA ",
          "RANGIYA JN ",
          "BARPETA ROAD ",
          "DHUPGURI ",
          "JALPAIGURI ROAD ",
          "ALUABARI ROAD ",
          "DALKOLHA ",
          "BARSOI JN ",
          "AZAMNAGAR ROAD ",
          "THANA BIHPUR JN ",
          "MANSI JN ",
          "KHAGARIA JN ",
          "BEGU SARAI ",
          "DALSINGH SARAI ",
          "SONPUR JN ",
          "EKMA ",
          "SIWAN JN ",
          "BHATPAR RANI ",
          "BHATNI JN ",
          "DEORIA SADAR ",
          "GORAKHPUR JN ",
          "KHALILABAD ",
          "BASTI ",
          "MANKAPUR JN ",
          "GONDA JN ",
          "BARABANKI JN ",
          "BALAMU JN ",
          "HARDOI ",
          "SHAHJEHANPUR ",
          "RAMPUR ",
          "AMROHA ",
          "HAPUR ",
          "PILKHUA ",
          "GHAZIABAD ",
          "DELHI ",
          "DELHI KISHANGNJ ",
          "NANGLOI ",
          "BAHADURGARH ",
          "JIND JN ",
          "NARWANA JN ",
          "TOHANA ",
          "JAKHAL JN ",
          "BARETA ",
          "BUDHLADA ",
          "MANSA ",
          "MAUR ",
          "MANDI DABWALI ",
          "SANGARIA ",
          "HANUMANGARH JN ",
          "PILI BANGAN ",
          "SURATGARH JN ",
          "MAHAJAN ",
          "LUNKARANSAR ",
          "LALGARH JN ",
          "JARWAL ROAD ",
          "MALDA TOWN ",
          "NEW FARAKKA JN ",
          "BARHARWA JN ",
          "SAHIBGANJ JN ",
          "KAHALGAON ",
          "BHAGALPUR ",
          "SULTANGANJ ",
          "BARIARPUR ",
          "JAMALPUR JN ",
          "ABHAIPUR ",
          "KIUL JN ",
          "LUCKEESARAI JN ",
          "BARHIYA ",
          "HATHIDAH JN ",
          "MOKAMEH JN ",
          "BARH ",
          "BAKHTIYARPUR JN ",
          "KHUSROPUR ",
          "FATUHA JN ",
          "PATNA SAHEB ",
          "PATNA JN ",
          "ARA ",
          "DUMRAON ",
          "BUXAR ",
          "DILDARNAGAR JN ",
          "MIRZAPUR ",
          "PRAYAGRAJ CHHEOKI ",
          "SATNA ",
          "MAIHAR ",
          "KATNI ",
          "JABALPUR ",
          "PIPARIYA ",
          "ITARSI JN ",
          "HARDA ",
          "KHANDWA ",
          "BURHANPUR ",
          "BHUSAVAL JN ",
          "MANMAD JN ",
          "NASIK ROAD ",
          "KALYAN JN ",
          "THANE ",
          "LOKMANYATILAK T ",
          "NEW BARAUNI JN ",
          "MANDERDISA ",
          "JALGAON JN "
         ],
         "y": [
          5.93,
          32.81,
          34.115,
          34.0725,
          34.668749999999996,
          31.308333333333334,
          20.078333333333333,
          1.9883333333333335,
          22.218333333333334,
          34.65,
          32.4,
          32.86,
          28.77444444444444,
          40.510000000000005,
          17.63625,
          30.142500000000002,
          34.807500000000005,
          27.411666666666665,
          27.222500000000004,
          39.95,
          33.045,
          24.43,
          40.9675,
          28.815,
          9.721,
          3.775,
          17.79,
          18.685000000000002,
          47.735,
          22.53333333333333,
          17.677,
          16.711428571428574,
          36.8125,
          33.755,
          5.2325,
          16.092499999999998,
          12.307500000000001,
          17.075,
          17.075,
          28.428750000000004,
          32.6625,
          21.55,
          17.24,
          14.37,
          10.52,
          30.715000000000003,
          8.584999999999999,
          30.715000000000003,
          9.344999999999999,
          15.315,
          14.35,
          8.56,
          1.235,
          21.096666666666668,
          29.417142857142856,
          27.944999999999997,
          32.30625,
          35.755,
          8.0275,
          21.78,
          35.2775,
          23.654999999999998,
          24.778750000000002,
          34.495000000000005,
          30.94666666666667,
          30.55,
          36.44,
          41.095,
          40.11750000000001,
          40.96,
          32.335,
          40.605,
          36.71,
          37.471666666666664,
          35.480000000000004,
          24.25,
          21.37,
          21.92,
          2.19,
          27.125,
          26.439999999999998,
          24.655,
          27.945,
          27.125,
          29.589999999999996,
          27.535,
          18.9,
          24.384999999999998,
          30.135,
          35.614999999999995,
          46.435,
          41.370000000000005,
          35.205,
          33.56,
          24.384999999999998,
          26.439999999999998,
          27.125,
          21.37,
          27.535,
          27.53,
          26.715,
          23.009999999999998,
          21.78,
          19.314999999999998,
          14.795,
          13.015,
          11.23,
          46.3,
          40.135,
          37.26,
          37.394999999999996,
          33.975,
          47.26,
          17.81,
          9.725,
          20.82,
          13.46,
          25,
          23.075000000000003,
          19.229999999999997,
          25,
          15.385,
          18.27,
          18.265,
          11.54,
          5.77,
          6.734999999999999,
          13.459999999999999,
          15.385,
          21.155,
          32.4525,
          41.8275,
          36.0575,
          41.345,
          39.425,
          43.752500000000005,
          31.247500000000002,
          37.737500000000004,
          34.615,
          30.529999999999998,
          33.894999999999996,
          36.946666666666665,
          36.946666666666665,
          39.51,
          2.1624999999999996,
          35.215,
          26.41,
          17.63,
          14.381666666666666,
          15.385000000000002,
          13.420000000000002,
          23.0775,
          27.201666666666664,
          17.426666666666666,
          14.694999999999999,
          27.508333333333336,
          13.389999999999999,
          7.983333333333333,
          26.92,
          5.66,
          41.2
         ]
        },
        {
         "marker": {
          "color": "salmon"
         },
         "name": "Average Significant Delay Percentage",
         "type": "bar",
         "x": [
          "DIBRUGARH ",
          "MORANHAT ",
          "SIMALUGURI JN ",
          "MARIANI JN ",
          "DIMAPUR ",
          "LUMDING JN ",
          "GUWAHATI ",
          "BONGAIGAON ",
          "NEW BONGAIGAON ",
          "KOKRAJHAR ",
          "NEW ALIPURDAUR ",
          "NEW COOCH BEHAR ",
          "NEW JALPAIGURI ",
          "KISHANGANJ ",
          "KATIHAR JN ",
          "SAMASTIPUR JN ",
          "MUZAFFARPUR JN ",
          "HAJIPUR JN ",
          "CHHAPRA ",
          "BALLIA ",
          "VARANASI JN ",
          "LUCKNOW NR ",
          "BAREILLY ",
          "MORADABAD ",
          "NEW DELHI ",
          "SILCHAR ",
          "BADARPUR JN ",
          "NEW HAFLONG ",
          "GOALPARA TOWN ",
          "BARAUNI JN ",
          "PATLIPUTRA ",
          "PT DEEN DAYAL UPADHYAY JN ",
          "PRAYAGRAJ JN ",
          "KANPUR CENTRAL ",
          "AGARTALA ",
          "AMBASA ",
          "DHARMANAGAR ",
          "PATHARKANDI ",
          "NEW KARIMGANJ ",
          "HOJAI ",
          "JAGI ROAD ",
          "SHAKURBASTI ",
          "ROHTAK JN ",
          "BHIWANI ",
          "HISAR ",
          "MANDI ADAMPUR ",
          "SIRSA ",
          "KALANWALI ",
          "BHATINDA JN ",
          "KOT KAPURA ",
          "FARIDKOT ",
          "FIROZPUR CANT ",
          "DIBRUGARH TOWN ",
          "NEW TINSUKIA JN ",
          "CHAPARMUKH JN ",
          "NAUGACHIA ",
          "DANAPUR ",
          "BHOJO ",
          "FURKATING JN ",
          "SARUPATHAR ",
          "DIPHU ",
          "KAMAKHYA ",
          "RANGIYA JN ",
          "BARPETA ROAD ",
          "DHUPGURI ",
          "JALPAIGURI ROAD ",
          "ALUABARI ROAD ",
          "DALKOLHA ",
          "BARSOI JN ",
          "AZAMNAGAR ROAD ",
          "THANA BIHPUR JN ",
          "MANSI JN ",
          "KHAGARIA JN ",
          "BEGU SARAI ",
          "DALSINGH SARAI ",
          "SONPUR JN ",
          "EKMA ",
          "SIWAN JN ",
          "BHATPAR RANI ",
          "BHATNI JN ",
          "DEORIA SADAR ",
          "GORAKHPUR JN ",
          "KHALILABAD ",
          "BASTI ",
          "MANKAPUR JN ",
          "GONDA JN ",
          "BARABANKI JN ",
          "BALAMU JN ",
          "HARDOI ",
          "SHAHJEHANPUR ",
          "RAMPUR ",
          "AMROHA ",
          "HAPUR ",
          "PILKHUA ",
          "GHAZIABAD ",
          "DELHI ",
          "DELHI KISHANGNJ ",
          "NANGLOI ",
          "BAHADURGARH ",
          "JIND JN ",
          "NARWANA JN ",
          "TOHANA ",
          "JAKHAL JN ",
          "BARETA ",
          "BUDHLADA ",
          "MANSA ",
          "MAUR ",
          "MANDI DABWALI ",
          "SANGARIA ",
          "HANUMANGARH JN ",
          "PILI BANGAN ",
          "SURATGARH JN ",
          "MAHAJAN ",
          "LUNKARANSAR ",
          "LALGARH JN ",
          "JARWAL ROAD ",
          "MALDA TOWN ",
          "NEW FARAKKA JN ",
          "BARHARWA JN ",
          "SAHIBGANJ JN ",
          "KAHALGAON ",
          "BHAGALPUR ",
          "SULTANGANJ ",
          "BARIARPUR ",
          "JAMALPUR JN ",
          "ABHAIPUR ",
          "KIUL JN ",
          "LUCKEESARAI JN ",
          "BARHIYA ",
          "HATHIDAH JN ",
          "MOKAMEH JN ",
          "BARH ",
          "BAKHTIYARPUR JN ",
          "KHUSROPUR ",
          "FATUHA JN ",
          "PATNA SAHEB ",
          "PATNA JN ",
          "ARA ",
          "DUMRAON ",
          "BUXAR ",
          "DILDARNAGAR JN ",
          "MIRZAPUR ",
          "PRAYAGRAJ CHHEOKI ",
          "SATNA ",
          "MAIHAR ",
          "KATNI ",
          "JABALPUR ",
          "PIPARIYA ",
          "ITARSI JN ",
          "HARDA ",
          "KHANDWA ",
          "BURHANPUR ",
          "BHUSAVAL JN ",
          "MANMAD JN ",
          "NASIK ROAD ",
          "KALYAN JN ",
          "THANE ",
          "LOKMANYATILAK T ",
          "NEW BARAUNI JN ",
          "MANDERDISA ",
          "JALGAON JN "
         ],
         "y": [
          23.07375,
          19.810000000000002,
          28.736666666666665,
          27.062499999999996,
          32.96375,
          37.879999999999995,
          32.90111111111111,
          1.0933333333333333,
          35.93444444444444,
          28.058333333333334,
          35.43125,
          37.294999999999995,
          37.571111111111115,
          39.50285714285714,
          34.61,
          34.92,
          38.0725,
          40.13833333333333,
          31.415,
          21.505,
          14.59,
          33.855000000000004,
          26.655,
          21.5575,
          26.997000000000007,
          28.32,
          39.41166666666667,
          39.410000000000004,
          39.3075,
          32.69833333333333,
          39.414,
          34.02928571428571,
          44.22,
          43.45625,
          30.707499999999996,
          34.5325,
          35.9775,
          51.795,
          51.795,
          37.57125,
          54.905,
          43.407500000000006,
          45.032500000000006,
          49.095,
          49.095,
          48.13,
          47.185,
          48.13,
          36.64,
          46.245,
          46.245,
          43.415,
          0.8200000000000001,
          28.265,
          31.080000000000002,
          35.87375,
          32.8175,
          38.355,
          32.3625,
          39.589999999999996,
          36.69,
          37.50375,
          47.291250000000005,
          47.74,
          40.669999999999995,
          40.545,
          48.495000000000005,
          48.08,
          39.2925,
          43.69499999999999,
          34.1475,
          34.934999999999995,
          41.281666666666666,
          44.288333333333334,
          50.275,
          35.89,
          33.565,
          41.095,
          4.795,
          45.07,
          44.79,
          47.805,
          53.56,
          55.755,
          56.71,
          56.985,
          51.099999999999994,
          48.629999999999995,
          48.769999999999996,
          42.875,
          35.480000000000004,
          31.509999999999998,
          32.465,
          32.605,
          33.7,
          35.89,
          38.084999999999994,
          72.6,
          42.74,
          43.425,
          44.385,
          43.559999999999995,
          42.74,
          42.6,
          43.01499999999999,
          43.150000000000006,
          43.15,
          35.209999999999994,
          36.85,
          34.52,
          34.93,
          33.7,
          36.575,
          37.945,
          26.715,
          62.47,
          30.77,
          29.81,
          26.924999999999997,
          32.695,
          33.650000000000006,
          30.77,
          33.655,
          33.655,
          31.73,
          30.765,
          34.614999999999995,
          41.349999999999994,
          47.115,
          45.195,
          37.019999999999996,
          43.51,
          42.5475,
          39.42,
          40.385,
          29.805,
          26.9225,
          33.1725,
          33.655,
          32.9325,
          36.06,
          42.958333333333336,
          51.41,
          55.37333333333333,
          1.2,
          57.57999999999999,
          52.27333333333334,
          64.74666666666667,
          48.93833333333333,
          49.7625,
          45.26333333333333,
          43.0275,
          43.82333333333333,
          43.498333333333335,
          42.375,
          42.685,
          54.230000000000004,
          31.86833333333333,
          25.965,
          19.195,
          45.445
         ]
        }
       ],
       "layout": {
        "autosize": true,
        "barmode": "group",
        "template": {
         "data": {
          "bar": [
           {
            "error_x": {
             "color": "#2a3f5f"
            },
            "error_y": {
             "color": "#2a3f5f"
            },
            "marker": {
             "line": {
              "color": "#E5ECF6",
              "width": 0.5
             },
             "pattern": {
              "fillmode": "overlay",
              "size": 10,
              "solidity": 0.2
             }
            },
            "type": "bar"
           }
          ],
          "barpolar": [
           {
            "marker": {
             "line": {
              "color": "#E5ECF6",
              "width": 0.5
             },
             "pattern": {
              "fillmode": "overlay",
              "size": 10,
              "solidity": 0.2
             }
            },
            "type": "barpolar"
           }
          ],
          "carpet": [
           {
            "aaxis": {
             "endlinecolor": "#2a3f5f",
             "gridcolor": "white",
             "linecolor": "white",
             "minorgridcolor": "white",
             "startlinecolor": "#2a3f5f"
            },
            "baxis": {
             "endlinecolor": "#2a3f5f",
             "gridcolor": "white",
             "linecolor": "white",
             "minorgridcolor": "white",
             "startlinecolor": "#2a3f5f"
            },
            "type": "carpet"
           }
          ],
          "choropleth": [
           {
            "colorbar": {
             "outlinewidth": 0,
             "ticks": ""
            },
            "type": "choropleth"
           }
          ],
          "contour": [
           {
            "colorbar": {
             "outlinewidth": 0,
             "ticks": ""
            },
            "colorscale": [
             [
              0,
              "#0d0887"
             ],
             [
              0.1111111111111111,
              "#46039f"
             ],
             [
              0.2222222222222222,
              "#7201a8"
             ],
             [
              0.3333333333333333,
              "#9c179e"
             ],
             [
              0.4444444444444444,
              "#bd3786"
             ],
             [
              0.5555555555555556,
              "#d8576b"
             ],
             [
              0.6666666666666666,
              "#ed7953"
             ],
             [
              0.7777777777777778,
              "#fb9f3a"
             ],
             [
              0.8888888888888888,
              "#fdca26"
             ],
             [
              1,
              "#f0f921"
             ]
            ],
            "type": "contour"
           }
          ],
          "contourcarpet": [
           {
            "colorbar": {
             "outlinewidth": 0,
             "ticks": ""
            },
            "type": "contourcarpet"
           }
          ],
          "heatmap": [
           {
            "colorbar": {
             "outlinewidth": 0,
             "ticks": ""
            },
            "colorscale": [
             [
              0,
              "#0d0887"
             ],
             [
              0.1111111111111111,
              "#46039f"
             ],
             [
              0.2222222222222222,
              "#7201a8"
             ],
             [
              0.3333333333333333,
              "#9c179e"
             ],
             [
              0.4444444444444444,
              "#bd3786"
             ],
             [
              0.5555555555555556,
              "#d8576b"
             ],
             [
              0.6666666666666666,
              "#ed7953"
             ],
             [
              0.7777777777777778,
              "#fb9f3a"
             ],
             [
              0.8888888888888888,
              "#fdca26"
             ],
             [
              1,
              "#f0f921"
             ]
            ],
            "type": "heatmap"
           }
          ],
          "heatmapgl": [
           {
            "colorbar": {
             "outlinewidth": 0,
             "ticks": ""
            },
            "colorscale": [
             [
              0,
              "#0d0887"
             ],
             [
              0.1111111111111111,
              "#46039f"
             ],
             [
              0.2222222222222222,
              "#7201a8"
             ],
             [
              0.3333333333333333,
              "#9c179e"
             ],
             [
              0.4444444444444444,
              "#bd3786"
             ],
             [
              0.5555555555555556,
              "#d8576b"
             ],
             [
              0.6666666666666666,
              "#ed7953"
             ],
             [
              0.7777777777777778,
              "#fb9f3a"
             ],
             [
              0.8888888888888888,
              "#fdca26"
             ],
             [
              1,
              "#f0f921"
             ]
            ],
            "type": "heatmapgl"
           }
          ],
          "histogram": [
           {
            "marker": {
             "pattern": {
              "fillmode": "overlay",
              "size": 10,
              "solidity": 0.2
             }
            },
            "type": "histogram"
           }
          ],
          "histogram2d": [
           {
            "colorbar": {
             "outlinewidth": 0,
             "ticks": ""
            },
            "colorscale": [
             [
              0,
              "#0d0887"
             ],
             [
              0.1111111111111111,
              "#46039f"
             ],
             [
              0.2222222222222222,
              "#7201a8"
             ],
             [
              0.3333333333333333,
              "#9c179e"
             ],
             [
              0.4444444444444444,
              "#bd3786"
             ],
             [
              0.5555555555555556,
              "#d8576b"
             ],
             [
              0.6666666666666666,
              "#ed7953"
             ],
             [
              0.7777777777777778,
              "#fb9f3a"
             ],
             [
              0.8888888888888888,
              "#fdca26"
             ],
             [
              1,
              "#f0f921"
             ]
            ],
            "type": "histogram2d"
           }
          ],
          "histogram2dcontour": [
           {
            "colorbar": {
             "outlinewidth": 0,
             "ticks": ""
            },
            "colorscale": [
             [
              0,
              "#0d0887"
             ],
             [
              0.1111111111111111,
              "#46039f"
             ],
             [
              0.2222222222222222,
              "#7201a8"
             ],
             [
              0.3333333333333333,
              "#9c179e"
             ],
             [
              0.4444444444444444,
              "#bd3786"
             ],
             [
              0.5555555555555556,
              "#d8576b"
             ],
             [
              0.6666666666666666,
              "#ed7953"
             ],
             [
              0.7777777777777778,
              "#fb9f3a"
             ],
             [
              0.8888888888888888,
              "#fdca26"
             ],
             [
              1,
              "#f0f921"
             ]
            ],
            "type": "histogram2dcontour"
           }
          ],
          "mesh3d": [
           {
            "colorbar": {
             "outlinewidth": 0,
             "ticks": ""
            },
            "type": "mesh3d"
           }
          ],
          "parcoords": [
           {
            "line": {
             "colorbar": {
              "outlinewidth": 0,
              "ticks": ""
             }
            },
            "type": "parcoords"
           }
          ],
          "pie": [
           {
            "automargin": true,
            "type": "pie"
           }
          ],
          "scatter": [
           {
            "fillpattern": {
             "fillmode": "overlay",
             "size": 10,
             "solidity": 0.2
            },
            "type": "scatter"
           }
          ],
          "scatter3d": [
           {
            "line": {
             "colorbar": {
              "outlinewidth": 0,
              "ticks": ""
             }
            },
            "marker": {
             "colorbar": {
              "outlinewidth": 0,
              "ticks": ""
             }
            },
            "type": "scatter3d"
           }
          ],
          "scattercarpet": [
           {
            "marker": {
             "colorbar": {
              "outlinewidth": 0,
              "ticks": ""
             }
            },
            "type": "scattercarpet"
           }
          ],
          "scattergeo": [
           {
            "marker": {
             "colorbar": {
              "outlinewidth": 0,
              "ticks": ""
             }
            },
            "type": "scattergeo"
           }
          ],
          "scattergl": [
           {
            "marker": {
             "colorbar": {
              "outlinewidth": 0,
              "ticks": ""
             }
            },
            "type": "scattergl"
           }
          ],
          "scattermapbox": [
           {
            "marker": {
             "colorbar": {
              "outlinewidth": 0,
              "ticks": ""
             }
            },
            "type": "scattermapbox"
           }
          ],
          "scatterpolar": [
           {
            "marker": {
             "colorbar": {
              "outlinewidth": 0,
              "ticks": ""
             }
            },
            "type": "scatterpolar"
           }
          ],
          "scatterpolargl": [
           {
            "marker": {
             "colorbar": {
              "outlinewidth": 0,
              "ticks": ""
             }
            },
            "type": "scatterpolargl"
           }
          ],
          "scatterternary": [
           {
            "marker": {
             "colorbar": {
              "outlinewidth": 0,
              "ticks": ""
             }
            },
            "type": "scatterternary"
           }
          ],
          "surface": [
           {
            "colorbar": {
             "outlinewidth": 0,
             "ticks": ""
            },
            "colorscale": [
             [
              0,
              "#0d0887"
             ],
             [
              0.1111111111111111,
              "#46039f"
             ],
             [
              0.2222222222222222,
              "#7201a8"
             ],
             [
              0.3333333333333333,
              "#9c179e"
             ],
             [
              0.4444444444444444,
              "#bd3786"
             ],
             [
              0.5555555555555556,
              "#d8576b"
             ],
             [
              0.6666666666666666,
              "#ed7953"
             ],
             [
              0.7777777777777778,
              "#fb9f3a"
             ],
             [
              0.8888888888888888,
              "#fdca26"
             ],
             [
              1,
              "#f0f921"
             ]
            ],
            "type": "surface"
           }
          ],
          "table": [
           {
            "cells": {
             "fill": {
              "color": "#EBF0F8"
             },
             "line": {
              "color": "white"
             }
            },
            "header": {
             "fill": {
              "color": "#C8D4E3"
             },
             "line": {
              "color": "white"
             }
            },
            "type": "table"
           }
          ]
         },
         "layout": {
          "annotationdefaults": {
           "arrowcolor": "#2a3f5f",
           "arrowhead": 0,
           "arrowwidth": 1
          },
          "autotypenumbers": "strict",
          "coloraxis": {
           "colorbar": {
            "outlinewidth": 0,
            "ticks": ""
           }
          },
          "colorscale": {
           "diverging": [
            [
             0,
             "#8e0152"
            ],
            [
             0.1,
             "#c51b7d"
            ],
            [
             0.2,
             "#de77ae"
            ],
            [
             0.3,
             "#f1b6da"
            ],
            [
             0.4,
             "#fde0ef"
            ],
            [
             0.5,
             "#f7f7f7"
            ],
            [
             0.6,
             "#e6f5d0"
            ],
            [
             0.7,
             "#b8e186"
            ],
            [
             0.8,
             "#7fbc41"
            ],
            [
             0.9,
             "#4d9221"
            ],
            [
             1,
             "#276419"
            ]
           ],
           "sequential": [
            [
             0,
             "#0d0887"
            ],
            [
             0.1111111111111111,
             "#46039f"
            ],
            [
             0.2222222222222222,
             "#7201a8"
            ],
            [
             0.3333333333333333,
             "#9c179e"
            ],
            [
             0.4444444444444444,
             "#bd3786"
            ],
            [
             0.5555555555555556,
             "#d8576b"
            ],
            [
             0.6666666666666666,
             "#ed7953"
            ],
            [
             0.7777777777777778,
             "#fb9f3a"
            ],
            [
             0.8888888888888888,
             "#fdca26"
            ],
            [
             1,
             "#f0f921"
            ]
           ],
           "sequentialminus": [
            [
             0,
             "#0d0887"
            ],
            [
             0.1111111111111111,
             "#46039f"
            ],
            [
             0.2222222222222222,
             "#7201a8"
            ],
            [
             0.3333333333333333,
             "#9c179e"
            ],
            [
             0.4444444444444444,
             "#bd3786"
            ],
            [
             0.5555555555555556,
             "#d8576b"
            ],
            [
             0.6666666666666666,
             "#ed7953"
            ],
            [
             0.7777777777777778,
             "#fb9f3a"
            ],
            [
             0.8888888888888888,
             "#fdca26"
            ],
            [
             1,
             "#f0f921"
            ]
           ]
          },
          "colorway": [
           "#636efa",
           "#EF553B",
           "#00cc96",
           "#ab63fa",
           "#FFA15A",
           "#19d3f3",
           "#FF6692",
           "#B6E880",
           "#FF97FF",
           "#FECB52"
          ],
          "font": {
           "color": "#2a3f5f"
          },
          "geo": {
           "bgcolor": "white",
           "lakecolor": "white",
           "landcolor": "#E5ECF6",
           "showlakes": true,
           "showland": true,
           "subunitcolor": "white"
          },
          "hoverlabel": {
           "align": "left"
          },
          "hovermode": "closest",
          "mapbox": {
           "style": "light"
          },
          "paper_bgcolor": "white",
          "plot_bgcolor": "#E5ECF6",
          "polar": {
           "angularaxis": {
            "gridcolor": "white",
            "linecolor": "white",
            "ticks": ""
           },
           "bgcolor": "#E5ECF6",
           "radialaxis": {
            "gridcolor": "white",
            "linecolor": "white",
            "ticks": ""
           }
          },
          "scene": {
           "xaxis": {
            "backgroundcolor": "#E5ECF6",
            "gridcolor": "white",
            "gridwidth": 2,
            "linecolor": "white",
            "showbackground": true,
            "ticks": "",
            "zerolinecolor": "white"
           },
           "yaxis": {
            "backgroundcolor": "#E5ECF6",
            "gridcolor": "white",
            "gridwidth": 2,
            "linecolor": "white",
            "showbackground": true,
            "ticks": "",
            "zerolinecolor": "white"
           },
           "zaxis": {
            "backgroundcolor": "#E5ECF6",
            "gridcolor": "white",
            "gridwidth": 2,
            "linecolor": "white",
            "showbackground": true,
            "ticks": "",
            "zerolinecolor": "white"
           }
          },
          "shapedefaults": {
           "line": {
            "color": "#2a3f5f"
           }
          },
          "ternary": {
           "aaxis": {
            "gridcolor": "white",
            "linecolor": "white",
            "ticks": ""
           },
           "baxis": {
            "gridcolor": "white",
            "linecolor": "white",
            "ticks": ""
           },
           "bgcolor": "#E5ECF6",
           "caxis": {
            "gridcolor": "white",
            "linecolor": "white",
            "ticks": ""
           }
          },
          "title": {
           "x": 0.05
          },
          "xaxis": {
           "automargin": true,
           "gridcolor": "white",
           "linecolor": "white",
           "ticks": "",
           "title": {
            "standoff": 15
           },
           "zerolinecolor": "white",
           "zerolinewidth": 2
          },
          "yaxis": {
           "automargin": true,
           "gridcolor": "white",
           "linecolor": "white",
           "ticks": "",
           "title": {
            "standoff": 15
           },
           "zerolinecolor": "white",
           "zerolinewidth": 2
          }
         }
        },
        "title": {
         "text": "Average Delay Percentages at Each Station"
        },
        "xaxis": {
         "autorange": true,
         "range": [
          -0.5,
          160.5
         ],
         "tickangle": -45,
         "title": {
          "text": "Station Name"
         },
         "type": "category"
        },
        "yaxis": {
         "autorange": true,
         "range": [
          0,
          76.42105263157895
         ],
         "title": {
          "text": "Average Delay Percentage"
         },
         "type": "linear"
        }
       }
      },
      "image/png": "[encoded data removed]",
      "text/html": [
       "<div>                            <div id=\"5a916d11-7f73-41c1-bda3-74bdaa6ae4cc\" class=\"plotly-graph-div\" style=\"height:525px; width:100%;\"></div>            <script type=\"text/javascript\">                require([\"plotly\"], function(Plotly) {                    window.PLOTLYENV=window.PLOTLYENV || {};                                    if (document.getElementById(\"5a916d11-7f73-41c1-bda3-74bdaa6ae4cc\")) {                    Plotly.newPlot(                        \"5a916d11-7f73-41c1-bda3-74bdaa6ae4cc\",                        [{\"marker\":{\"color\":\"blue\"},\"name\":\"Average Slight Delay Percentage\",\"x\":[\"DIBRUGARH \",\"MORANHAT \",\"SIMALUGURI JN \",\"MARIANI JN \",\"DIMAPUR \",\"LUMDING JN \",\"GUWAHATI \",\"BONGAIGAON \",\"NEW BONGAIGAON \",\"KOKRAJHAR \",\"NEW ALIPURDAUR \",\"NEW COOCH BEHAR \",\"NEW JALPAIGURI \",\"KISHANGANJ \",\"KATIHAR JN \",\"SAMASTIPUR JN \",\"MUZAFFARPUR JN \",\"HAJIPUR JN \",\"CHHAPRA \",\"BALLIA \",\"VARANASI JN \",\"LUCKNOW NR \",\"BAREILLY \",\"MORADABAD \",\"NEW DELHI \",\"SILCHAR \",\"BADARPUR JN \",\"NEW HAFLONG \",\"GOALPARA TOWN \",\"BARAUNI JN \",\"PATLIPUTRA \",\"PT DEEN DAYAL UPADHYAY JN \",\"PRAYAGRAJ JN \",\"KANPUR CENTRAL \",\"AGARTALA \",\"AMBASA \",\"DHARMANAGAR \",\"PATHARKANDI \",\"NEW KARIMGANJ \",\"HOJAI \",\"JAGI ROAD \",\"SHAKURBASTI \",\"ROHTAK JN \",\"BHIWANI \",\"HISAR \",\"MANDI ADAMPUR \",\"SIRSA \",\"KALANWALI \",\"BHATINDA JN \",\"KOT KAPURA \",\"FARIDKOT \",\"FIROZPUR CANT \",\"DIBRUGARH TOWN \",\"NEW TINSUKIA JN \",\"CHAPARMUKH JN \",\"NAUGACHIA \",\"DANAPUR \",\"BHOJO \",\"FURKATING JN \",\"SARUPATHAR \",\"DIPHU \",\"KAMAKHYA \",\"RANGIYA JN \",\"BARPETA ROAD \",\"DHUPGURI \",\"JALPAIGURI ROAD \",\"ALUABARI ROAD \",\"DALKOLHA \",\"BARSOI JN \",\"AZAMNAGAR ROAD \",\"THANA BIHPUR JN \",\"MANSI JN \",\"KHAGARIA JN \",\"BEGU SARAI \",\"DALSINGH SARAI \",\"SONPUR JN \",\"EKMA \",\"SIWAN JN \",\"BHATPAR RANI \",\"BHATNI JN \",\"DEORIA SADAR \",\"GORAKHPUR JN \",\"KHALILABAD \",\"BASTI \",\"MANKAPUR JN \",\"GONDA JN \",\"BARABANKI JN \",\"BALAMU JN \",\"HARDOI \",\"SHAHJEHANPUR \",\"RAMPUR \",\"AMROHA \",\"HAPUR \",\"PILKHUA \",\"GHAZIABAD \",\"DELHI \",\"DELHI KISHANGNJ \",\"NANGLOI \",\"BAHADURGARH \",\"JIND JN \",\"NARWANA JN \",\"TOHANA \",\"JAKHAL JN \",\"BARETA \",\"BUDHLADA \",\"MANSA \",\"MAUR \",\"MANDI DABWALI \",\"SANGARIA \",\"HANUMANGARH JN \",\"PILI BANGAN \",\"SURATGARH JN \",\"MAHAJAN \",\"LUNKARANSAR \",\"LALGARH JN \",\"JARWAL ROAD \",\"MALDA TOWN \",\"NEW FARAKKA JN \",\"BARHARWA JN \",\"SAHIBGANJ JN \",\"KAHALGAON \",\"BHAGALPUR \",\"SULTANGANJ \",\"BARIARPUR \",\"JAMALPUR JN \",\"ABHAIPUR \",\"KIUL JN \",\"LUCKEESARAI JN \",\"BARHIYA \",\"HATHIDAH JN \",\"MOKAMEH JN \",\"BARH \",\"BAKHTIYARPUR JN \",\"KHUSROPUR \",\"FATUHA JN \",\"PATNA SAHEB \",\"PATNA JN \",\"ARA \",\"DUMRAON \",\"BUXAR \",\"DILDARNAGAR JN \",\"MIRZAPUR \",\"PRAYAGRAJ CHHEOKI \",\"SATNA \",\"MAIHAR \",\"KATNI \",\"JABALPUR \",\"PIPARIYA \",\"ITARSI JN \",\"HARDA \",\"KHANDWA \",\"BURHANPUR \",\"BHUSAVAL JN \",\"MANMAD JN \",\"NASIK ROAD \",\"KALYAN JN \",\"THANE \",\"LOKMANYATILAK T \",\"NEW BARAUNI JN \",\"MANDERDISA \",\"JALGAON JN \"],\"y\":[5.93,32.81,34.115,34.0725,34.668749999999996,31.308333333333334,20.078333333333333,1.9883333333333335,22.218333333333334,34.65,32.4,32.86,28.77444444444444,40.510000000000005,17.63625,30.142500000000002,34.807500000000005,27.411666666666665,27.222500000000004,39.95,33.045,24.43,40.9675,28.815,9.721,3.775,17.79,18.685000000000002,47.735,22.53333333333333,17.677,16.711428571428574,36.8125,33.755,5.2325,16.092499999999998,12.307500000000001,17.075,17.075,28.428750000000004,32.6625,21.55,17.24,14.37,10.52,30.715000000000003,8.584999999999999,30.715000000000003,9.344999999999999,15.315,14.35,8.56,1.235,21.096666666666668,29.417142857142856,27.944999999999997,32.30625,35.755,8.0275,21.78,35.2775,23.654999999999998,24.778750000000002,34.495000000000005,30.94666666666667,30.55,36.44,41.095,40.11750000000001,40.96,32.335,40.605,36.71,37.471666666666664,35.480000000000004,24.25,21.37,21.92,2.19,27.125,26.439999999999998,24.655,27.945,27.125,29.589999999999996,27.535,18.9,24.384999999999998,30.135,35.614999999999995,46.435,41.370000000000005,35.205,33.56,24.384999999999998,26.439999999999998,27.125,21.37,27.535,27.53,26.715,23.009999999999998,21.78,19.314999999999998,14.795,13.015,11.23,46.3,40.135,37.26,37.394999999999996,33.975,47.26,17.81,9.725,20.82,13.46,25.0,23.075000000000003,19.229999999999997,25.0,15.385,18.27,18.265,11.54,5.77,6.734999999999999,13.459999999999999,15.385,21.155,32.4525,41.8275,36.0575,41.345,39.425,43.752500000000005,31.247500000000002,37.737500000000004,34.615,30.529999999999998,33.894999999999996,36.946666666666665,36.946666666666665,39.51,2.1624999999999996,35.215,26.41,17.63,14.381666666666666,15.385000000000002,13.420000000000002,23.0775,27.201666666666664,17.426666666666666,14.694999999999999,27.508333333333336,13.389999999999999,7.983333333333333,26.92,5.66,41.2],\"type\":\"bar\"},{\"marker\":{\"color\":\"salmon\"},\"name\":\"Average Significant Delay Percentage\",\"x\":[\"DIBRUGARH \",\"MORANHAT \",\"SIMALUGURI JN \",\"MARIANI JN \",\"DIMAPUR \",\"LUMDING JN \",\"GUWAHATI \",\"BONGAIGAON \",\"NEW BONGAIGAON \",\"KOKRAJHAR \",\"NEW ALIPURDAUR \",\"NEW COOCH BEHAR \",\"NEW JALPAIGURI \",\"KISHANGANJ \",\"KATIHAR JN \",\"SAMASTIPUR JN \",\"MUZAFFARPUR JN \",\"HAJIPUR JN \",\"CHHAPRA \",\"BALLIA \",\"VARANASI JN \",\"LUCKNOW NR \",\"BAREILLY \",\"MORADABAD \",\"NEW DELHI \",\"SILCHAR \",\"BADARPUR JN \",\"NEW HAFLONG \",\"GOALPARA TOWN \",\"BARAUNI JN \",\"PATLIPUTRA \",\"PT DEEN DAYAL UPADHYAY JN \",\"PRAYAGRAJ JN \",\"KANPUR CENTRAL \",\"AGARTALA \",\"AMBASA \",\"DHARMANAGAR \",\"PATHARKANDI \",\"NEW KARIMGANJ \",\"HOJAI \",\"JAGI ROAD \",\"SHAKURBASTI \",\"ROHTAK JN \",\"BHIWANI \",\"HISAR \",\"MANDI ADAMPUR \",\"SIRSA \",\"KALANWALI \",\"BHATINDA JN \",\"KOT KAPURA \",\"FARIDKOT \",\"FIROZPUR CANT \",\"DIBRUGARH TOWN \",\"NEW TINSUKIA JN \",\"CHAPARMUKH JN \",\"NAUGACHIA \",\"DANAPUR \",\"BHOJO \",\"FURKATING JN \",\"SARUPATHAR \",\"DIPHU \",\"KAMAKHYA \",\"RANGIYA JN \",\"BARPETA ROAD \",\"DHUPGURI \",\"JALPAIGURI ROAD \",\"ALUABARI ROAD \",\"DALKOLHA \",\"BARSOI JN \",\"AZAMNAGAR ROAD \",\"THANA BIHPUR JN \",\"MANSI JN \",\"KHAGARIA JN \",\"BEGU SARAI \",\"DALSINGH SARAI \",\"SONPUR JN \",\"EKMA \",\"SIWAN JN \",\"BHATPAR RANI \",\"BHATNI JN \",\"DEORIA SADAR \",\"GORAKHPUR JN \",\"KHALILABAD \",\"BASTI \",\"MANKAPUR JN \",\"GONDA JN \",\"BARABANKI JN \",\"BALAMU JN \",\"HARDOI \",\"SHAHJEHANPUR \",\"RAMPUR \",\"AMROHA \",\"HAPUR \",\"PILKHUA \",\"GHAZIABAD \",\"DELHI \",\"DELHI KISHANGNJ \",\"NANGLOI \",\"BAHADURGARH \",\"JIND JN \",\"NARWANA JN \",\"TOHANA \",\"JAKHAL JN \",\"BARETA \",\"BUDHLADA \",\"MANSA \",\"MAUR \",\"MANDI DABWALI \",\"SANGARIA \",\"HANUMANGARH JN \",\"PILI BANGAN \",\"SURATGARH JN \",\"MAHAJAN \",\"LUNKARANSAR \",\"LALGARH JN \",\"JARWAL ROAD \",\"MALDA TOWN \",\"NEW FARAKKA JN \",\"BARHARWA JN \",\"SAHIBGANJ JN \",\"KAHALGAON \",\"BHAGALPUR \",\"SULTANGANJ \",\"BARIARPUR \",\"JAMALPUR JN \",\"ABHAIPUR \",\"KIUL JN \",\"LUCKEESARAI JN \",\"BARHIYA \",\"HATHIDAH JN \",\"MOKAMEH JN \",\"BARH \",\"BAKHTIYARPUR JN \",\"KHUSROPUR \",\"FATUHA JN \",\"PATNA SAHEB \",\"PATNA JN \",\"ARA \",\"DUMRAON \",\"BUXAR \",\"DILDARNAGAR JN \",\"MIRZAPUR \",\"PRAYAGRAJ CHHEOKI \",\"SATNA \",\"MAIHAR \",\"KATNI \",\"JABALPUR \",\"PIPARIYA \",\"ITARSI JN \",\"HARDA \",\"KHANDWA \",\"BURHANPUR \",\"BHUSAVAL JN \",\"MANMAD JN \",\"NASIK ROAD \",\"KALYAN JN \",\"THANE \",\"LOKMANYATILAK T \",\"NEW BARAUNI JN \",\"MANDERDISA \",\"JALGAON JN \"],\"y\":[23.07375,19.810000000000002,28.736666666666665,27.062499999999996,32.96375,37.879999999999995,32.90111111111111,1.0933333333333333,35.93444444444444,28.058333333333334,35.43125,37.294999999999995,37.571111111111115,39.50285714285714,34.61,34.92,38.0725,40.13833333333333,31.415,21.505,14.59,33.855000000000004,26.655,21.5575,26.997000000000007,28.32,39.41166666666667,39.410000000000004,39.3075,32.69833333333333,39.414,34.02928571428571,44.22,43.45625,30.707499999999996,34.5325,35.9775,51.795,51.795,37.57125,54.905,43.407500000000006,45.032500000000006,49.095,49.095,48.13,47.185,48.13,36.64,46.245,46.245,43.415,0.8200000000000001,28.265,31.080000000000002,35.87375,32.8175,38.355,32.3625,39.589999999999996,36.69,37.50375,47.291250000000005,47.74,40.669999999999995,40.545,48.495000000000005,48.08,39.2925,43.69499999999999,34.1475,34.934999999999995,41.281666666666666,44.288333333333334,50.275,35.89,33.565,41.095,4.795,45.07,44.79,47.805,53.56,55.755,56.71,56.985,51.099999999999994,48.629999999999995,48.769999999999996,42.875,35.480000000000004,31.509999999999998,32.465,32.605,33.7,35.89,38.084999999999994,72.6,42.74,43.425,44.385,43.559999999999995,42.74,42.6,43.01499999999999,43.150000000000006,43.15,35.209999999999994,36.85,34.52,34.93,33.7,36.575,37.945,26.715,62.47,30.77,29.81,26.924999999999997,32.695,33.650000000000006,30.77,33.655,33.655,31.73,30.765,34.614999999999995,41.349999999999994,47.115,45.195,37.019999999999996,43.51,42.5475,39.42,40.385,29.805,26.9225,33.1725,33.655,32.9325,36.06,42.958333333333336,51.41,55.37333333333333,1.2,57.57999999999999,52.27333333333334,64.74666666666667,48.93833333333333,49.7625,45.26333333333333,43.0275,43.82333333333333,43.498333333333335,42.375,42.685,54.230000000000004,31.86833333333333,25.965,19.195,45.445],\"type\":\"bar\"}],                        {\"template\":{\"data\":{\"histogram2dcontour\":[{\"type\":\"histogram2dcontour\",\"colorbar\":{\"outlinewidth\":0,\"ticks\":\"\"},\"colorscale\":[[0.0,\"#0d0887\"],[0.1111111111111111,\"#46039f\"],[0.2222222222222222,\"#7201a8\"],[0.3333333333333333,\"#9c179e\"],[0.4444444444444444,\"#bd3786\"],[0.5555555555555556,\"#d8576b\"],[0.6666666666666666,\"#ed7953\"],[0.7777777777777778,\"#fb9f3a\"],[0.8888888888888888,\"#fdca26\"],[1.0,\"#f0f921\"]]}],\"choropleth\":[{\"type\":\"choropleth\",\"colorbar\":{\"outlinewidth\":0,\"ticks\":\"\"}}],\"histogram2d\":[{\"type\":\"histogram2d\",\"colorbar\":{\"outlinewidth\":0,\"ticks\":\"\"},\"colorscale\":[[0.0,\"#0d0887\"],[0.1111111111111111,\"#46039f\"],[0.2222222222222222,\"#7201a8\"],[0.3333333333333333,\"#9c179e\"],[0.4444444444444444,\"#bd3786\"],[0.5555555555555556,\"#d8576b\"],[0.6666666666666666,\"#ed7953\"],[0.7777777777777778,\"#fb9f3a\"],[0.8888888888888888,\"#fdca26\"],[1.0,\"#f0f921\"]]}],\"heatmap\":[{\"type\":\"heatmap\",\"colorbar\":{\"outlinewidth\":0,\"ticks\":\"\"},\"colorscale\":[[0.0,\"#0d0887\"],[0.1111111111111111,\"#46039f\"],[0.2222222222222222,\"#7201a8\"],[0.3333333333333333,\"#9c179e\"],[0.4444444444444444,\"#bd3786\"],[0.5555555555555556,\"#d8576b\"],[0.6666666666666666,\"#ed7953\"],[0.7777777777777778,\"#fb9f3a\"],[0.8888888888888888,\"#fdca26\"],[1.0,\"#f0f921\"]]}],\"heatmapgl\":[{\"type\":\"heatmapgl\",\"colorbar\":{\"outlinewidth\":0,\"ticks\":\"\"},\"colorscale\":[[0.0,\"#0d0887\"],[0.1111111111111111,\"#46039f\"],[0.2222222222222222,\"#7201a8\"],[0.3333333333333333,\"#9c179e\"],[0.4444444444444444,\"#bd3786\"],[0.5555555555555556,\"#d8576b\"],[0.6666666666666666,\"#ed7953\"],[0.7777777777777778,\"#fb9f3a\"],[0.8888888888888888,\"#fdca26\"],[1.0,\"#f0f921\"]]}],\"contourcarpet\":[{\"type\":\"contourcarpet\",\"colorbar\":{\"outlinewidth\":0,\"ticks\":\"\"}}],\"contour\":[{\"type\":\"contour\",\"colorbar\":{\"outlinewidth\":0,\"ticks\":\"\"},\"colorscale\":[[0.0,\"#0d0887\"],[0.1111111111111111,\"#46039f\"],[0.2222222222222222,\"#7201a8\"],[0.3333333333333333,\"#9c179e\"],[0.4444444444444444,\"#bd3786\"],[0.5555555555555556,\"#d8576b\"],[0.6666666666666666,\"#ed7953\"],[0.7777777777777778,\"#fb9f3a\"],[0.8888888888888888,\"#fdca26\"],[1.0,\"#f0f921\"]]}],\"surface\":[{\"type\":\"surface\",\"colorbar\":{\"outlinewidth\":0,\"ticks\":\"\"},\"colorscale\":[[0.0,\"#0d0887\"],[0.1111111111111111,\"#46039f\"],[0.2222222222222222,\"#7201a8\"],[0.3333333333333333,\"#9c179e\"],[0.4444444444444444,\"#bd3786\"],[0.5555555555555556,\"#d8576b\"],[0.6666666666666666,\"#ed7953\"],[0.7777777777777778,\"#fb9f3a\"],[0.8888888888888888,\"#fdca26\"],[1.0,\"#f0f921\"]]}],\"mesh3d\":[{\"type\":\"mesh3d\",\"colorbar\":{\"outlinewidth\":0,\"ticks\":\"\"}}],\"scatter\":[{\"fillpattern\":{\"fillmode\":\"overlay\",\"size\":10,\"solidity\":0.2},\"type\":\"scatter\"}],\"parcoords\":[{\"type\":\"parcoords\",\"line\":{\"colorbar\":{\"outlinewidth\":0,\"ticks\":\"\"}}}],\"scatterpolargl\":[{\"type\":\"scatterpolargl\",\"marker\":{\"colorbar\":{\"outlinewidth\":0,\"ticks\":\"\"}}}],\"bar\":[{\"error_x\":{\"color\":\"#2a3f5f\"},\"error_y\":{\"color\":\"#2a3f5f\"},\"marker\":{\"line\":{\"color\":\"#E5ECF6\",\"width\":0.5},\"pattern\":{\"fillmode\":\"overlay\",\"size\":10,\"solidity\":0.2}},\"type\":\"bar\"}],\"scattergeo\":[{\"type\":\"scattergeo\",\"marker\":{\"colorbar\":{\"outlinewidth\":0,\"ticks\":\"\"}}}],\"scatterpolar\":[{\"type\":\"scatterpolar\",\"marker\":{\"colorbar\":{\"outlinewidth\":0,\"ticks\":\"\"}}}],\"histogram\":[{\"marker\":{\"pattern\":{\"fillmode\":\"overlay\",\"size\":10,\"solidity\":0.2}},\"type\":\"histogram\"}],\"scattergl\":[{\"type\":\"scattergl\",\"marker\":{\"colorbar\":{\"outlinewidth\":0,\"ticks\":\"\"}}}],\"scatter3d\":[{\"type\":\"scatter3d\",\"line\":{\"colorbar\":{\"outlinewidth\":0,\"ticks\":\"\"}},\"marker\":{\"colorbar\":{\"outlinewidth\":0,\"ticks\":\"\"}}}],\"scattermapbox\":[{\"type\":\"scattermapbox\",\"marker\":{\"colorbar\":{\"outlinewidth\":0,\"ticks\":\"\"}}}],\"scatterternary\":[{\"type\":\"scatterternary\",\"marker\":{\"colorbar\":{\"outlinewidth\":0,\"ticks\":\"\"}}}],\"scattercarpet\":[{\"type\":\"scattercarpet\",\"marker\":{\"colorbar\":{\"outlinewidth\":0,\"ticks\":\"\"}}}],\"carpet\":[{\"aaxis\":{\"endlinecolor\":\"#2a3f5f\",\"gridcolor\":\"white\",\"linecolor\":\"white\",\"minorgridcolor\":\"white\",\"startlinecolor\":\"#2a3f5f\"},\"baxis\":{\"endlinecolor\":\"#2a3f5f\",\"gridcolor\":\"white\",\"linecolor\":\"white\",\"minorgridcolor\":\"white\",\"startlinecolor\":\"#2a3f5f\"},\"type\":\"carpet\"}],\"table\":[{\"cells\":{\"fill\":{\"color\":\"#EBF0F8\"},\"line\":{\"color\":\"white\"}},\"header\":{\"fill\":{\"color\":\"#C8D4E3\"},\"line\":{\"color\":\"white\"}},\"type\":\"table\"}],\"barpolar\":[{\"marker\":{\"line\":{\"color\":\"#E5ECF6\",\"width\":0.5},\"pattern\":{\"fillmode\":\"overlay\",\"size\":10,\"solidity\":0.2}},\"type\":\"barpolar\"}],\"pie\":[{\"automargin\":true,\"type\":\"pie\"}]},\"layout\":{\"autotypenumbers\":\"strict\",\"colorway\":[\"#636efa\",\"#EF553B\",\"#00cc96\",\"#ab63fa\",\"#FFA15A\",\"#19d3f3\",\"#FF6692\",\"#B6E880\",\"#FF97FF\",\"#FECB52\"],\"font\":{\"color\":\"#2a3f5f\"},\"hovermode\":\"closest\",\"hoverlabel\":{\"align\":\"left\"},\"paper_bgcolor\":\"white\",\"plot_bgcolor\":\"#E5ECF6\",\"polar\":{\"bgcolor\":\"#E5ECF6\",\"angularaxis\":{\"gridcolor\":\"white\",\"linecolor\":\"white\",\"ticks\":\"\"},\"radialaxis\":{\"gridcolor\":\"white\",\"linecolor\":\"white\",\"ticks\":\"\"}},\"ternary\":{\"bgcolor\":\"#E5ECF6\",\"aaxis\":{\"gridcolor\":\"white\",\"linecolor\":\"white\",\"ticks\":\"\"},\"baxis\":{\"gridcolor\":\"white\",\"linecolor\":\"white\",\"ticks\":\"\"},\"caxis\":{\"gridcolor\":\"white\",\"linecolor\":\"white\",\"ticks\":\"\"}},\"coloraxis\":{\"colorbar\":{\"outlinewidth\":0,\"ticks\":\"\"}},\"colorscale\":{\"sequential\":[[0.0,\"#0d0887\"],[0.1111111111111111,\"#46039f\"],[0.2222222222222222,\"#7201a8\"],[0.3333333333333333,\"#9c179e\"],[0.4444444444444444,\"#bd3786\"],[0.5555555555555556,\"#d8576b\"],[0.6666666666666666,\"#ed7953\"],[0.7777777777777778,\"#fb9f3a\"],[0.8888888888888888,\"#fdca26\"],[1.0,\"#f0f921\"]],\"sequentialminus\":[[0.0,\"#0d0887\"],[0.1111111111111111,\"#46039f\"],[0.2222222222222222,\"#7201a8\"],[0.3333333333333333,\"#9c179e\"],[0.4444444444444444,\"#bd3786\"],[0.5555555555555556,\"#d8576b\"],[0.6666666666666666,\"#ed7953\"],[0.7777777777777778,\"#fb9f3a\"],[0.8888888888888888,\"#fdca26\"],[1.0,\"#f0f921\"]],\"diverging\":[[0,\"#8e0152\"],[0.1,\"#c51b7d\"],[0.2,\"#de77ae\"],[0.3,\"#f1b6da\"],[0.4,\"#fde0ef\"],[0.5,\"#f7f7f7\"],[0.6,\"#e6f5d0\"],[0.7,\"#b8e186\"],[0.8,\"#7fbc41\"],[0.9,\"#4d9221\"],[1,\"#276419\"]]},\"xaxis\":{\"gridcolor\":\"white\",\"linecolor\":\"white\",\"ticks\":\"\",\"title\":{\"standoff\":15},\"zerolinecolor\":\"white\",\"automargin\":true,\"zerolinewidth\":2},\"yaxis\":{\"gridcolor\":\"white\",\"linecolor\":\"white\",\"ticks\":\"\",\"title\":{\"standoff\":15},\"zerolinecolor\":\"white\",\"automargin\":true,\"zerolinewidth\":2},\"scene\":{\"xaxis\":{\"backgroundcolor\":\"#E5ECF6\",\"gridcolor\":\"white\",\"linecolor\":\"white\",\"showbackground\":true,\"ticks\":\"\",\"zerolinecolor\":\"white\",\"gridwidth\":2},\"yaxis\":{\"backgroundcolor\":\"#E5ECF6\",\"gridcolor\":\"white\",\"linecolor\":\"white\",\"showbackground\":true,\"ticks\":\"\",\"zerolinecolor\":\"white\",\"gridwidth\":2},\"zaxis\":{\"backgroundcolor\":\"#E5ECF6\",\"gridcolor\":\"white\",\"linecolor\":\"white\",\"showbackground\":true,\"ticks\":\"\",\"zerolinecolor\":\"white\",\"gridwidth\":2}},\"shapedefaults\":{\"line\":{\"color\":\"#2a3f5f\"}},\"annotationdefaults\":{\"arrowcolor\":\"#2a3f5f\",\"arrowhead\":0,\"arrowwidth\":1},\"geo\":{\"bgcolor\":\"white\",\"landcolor\":\"#E5ECF6\",\"subunitcolor\":\"white\",\"showland\":true,\"showlakes\":true,\"lakecolor\":\"white\"},\"title\":{\"x\":0.05},\"mapbox\":{\"style\":\"light\"}}},\"xaxis\":{\"title\":{\"text\":\"Station Name\"},\"tickangle\":-45},\"title\":{\"text\":\"Average Delay Percentages at Each Station\"},\"yaxis\":{\"title\":{\"text\":\"Average Delay Percentage\"}},\"barmode\":\"group\"},                        {\"responsive\": true}                    ).then(function(){\n",
       "                            \n",
       "var gd = document.getElementById('5a916d11-7f73-41c1-bda3-74bdaa6ae4cc');\n",
       "var x = new MutationObserver(function (mutations, observer) {{\n",
       "        var display = window.getComputedStyle(gd).display;\n",
       "        if (!display || display === 'none') {{\n",
       "            console.log([gd, 'removed!']);\n",
       "            Plotly.purge(gd);\n",
       "            observer.disconnect();\n",
       "        }}\n",
       "}});\n",
       "\n",
       "// Listen for the removal of the full notebook cells\n",
       "var notebookContainer = gd.closest('#notebook-container');\n",
       "if (notebookContainer) {{\n",
       "    x.observe(notebookContainer, {childList: true});\n",
       "}}\n",
       "\n",
       "// Listen for the clearing of the current output cell\n",
       "var outputEl = gd.closest('.output');\n",
       "if (outputEl) {{\n",
       "    x.observe(outputEl, {childList: true});\n",
       "}}\n",
       "\n",
       "                        })                };                });            </script>        </div>"
      ]
     },
     "metadata": {},
     "output_type": "display_data"
    }
   ],
   "source": [
    "# Load the route data for each train and calculate delay percentages\n",
    "def calculate_delay_percentages(train_number):\n",
    "    # Load route data for the given train number\n",
    "    route_data = pd.read_csv(f\"Train_Route/{train_number}.csv\")\n",
    "    \n",
    "    # Calculate delay percentages\n",
    "    route_data['Slight_Delay_Percentage'] = route_data['Slight Delay (15-60 min\\'s)'].astype(float)\n",
    "    route_data['Significant_Delay_Percentage'] = route_data['Significant Delay (>1 Hour)'].astype(float)\n",
    "    \n",
    "    return route_data\n",
    "\n",
    "# List of train numbers running between Guwahati and Delhi\n",
    "train_numbers = [\"20503\", \"14037\", \"14619\", \"22449\", \"12423\", \"15909\", \"15910\",\n",
    "                 \"20504\", \"12424\", \"14038\", \"14620\", \"22450\", \"15648\", \"15946\",\n",
    "                 \"12520\", \"12519\", \"15647\", \"15945\"]\n",
    "\n",
    "# Dictionary to store delay percentages at each station\n",
    "delay_percentages = {}\n",
    "\n",
    "# Calculate delay percentages for each train and station\n",
    "for train_number in train_numbers:\n",
    "    route_data = calculate_delay_percentages(train_number)\n",
    "    for index, row in route_data.iterrows():\n",
    "        station_name = row['Station_Name']\n",
    "        if station_name not in delay_percentages:\n",
    "            delay_percentages[station_name] = {'Slight_Delay_Percentage': [], 'Significant_Delay_Percentage': []}\n",
    "        delay_percentages[station_name]['Slight_Delay_Percentage'].append(row['Slight_Delay_Percentage'])\n",
    "        delay_percentages[station_name]['Significant_Delay_Percentage'].append(row['Significant_Delay_Percentage'])\n",
    "\n",
    "# Calculate average slight delay percentages at each station\n",
    "average_slight_delay_percentages = {}\n",
    "for station, percentages in delay_percentages.items():\n",
    "    avg_slight_delay_percentage = sum(percentages['Slight_Delay_Percentage']) / len(percentages['Slight_Delay_Percentage'])\n",
    "    average_slight_delay_percentages[station] = avg_slight_delay_percentage\n",
    "\n",
    "# Calculate average significant delay percentages at each station\n",
    "average_significant_delay_percentages = {}\n",
    "for station, percentages in delay_percentages.items():\n",
    "    avg_significant_delay_percentage = sum(percentages['Significant_Delay_Percentage']) / len(percentages['Significant_Delay_Percentage'])\n",
    "    average_significant_delay_percentages[station] = avg_significant_delay_percentage\n",
    "\n",
    "# Plotting using Plotly\n",
    "fig = go.Figure()\n",
    "\n",
    "fig.add_trace(go.Bar(x=list(average_slight_delay_percentages.keys()), \n",
    "                     y=list(average_slight_delay_percentages.values()), \n",
    "                     name='Average Slight Delay Percentage',\n",
    "                     marker_color='blue'))\n",
    "\n",
    "fig.add_trace(go.Bar(x=list(average_significant_delay_percentages.keys()), \n",
    "                     y=list(average_significant_delay_percentages.values()), \n",
    "                     name='Average Significant Delay Percentage',\n",
    "                     marker_color='salmon'))\n",
    "\n",
    "fig.update_layout(title='Average Delay Percentages at Each Station',\n",
    "                  xaxis_title='Station Name',\n",
    "                  yaxis_title='Average Delay Percentage',\n",
    "                  barmode='group',\n",
    "                  xaxis_tickangle=-45)\n",
    "\n",
    "fig.show()\n"
   ]
  },
  {
   "cell_type": "code",
   "execution_count": null,
   "id": "56cee01f-7f12-4612-b33f-093dbc37351b",
   "metadata": {},
   "outputs": [],
   "source": []
  }
 ],
 "metadata": {
  "kernelspec": {
   "display_name": "Python 3 (ipykernel)",
   "language": "python",
   "name": "python3"
  },
  "language_info": {
   "codemirror_mode": {
    "name": "ipython",
    "version": 3
   },
   "file_extension": ".py",
   "mimetype": "text/x-python",
   "name": "python",
   "nbconvert_exporter": "python",
   "pygments_lexer": "ipython3",
   "version": "3.11.7"
  }
 },
 "nbformat": 4,
 "nbformat_minor": 5
}
